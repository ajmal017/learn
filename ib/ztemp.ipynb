{
 "metadata": {
  "language_info": {
   "codemirror_mode": {
    "name": "ipython",
    "version": 3
   },
   "file_extension": ".py",
   "mimetype": "text/x-python",
   "name": "python",
   "nbconvert_exporter": "python",
   "pygments_lexer": "ipython3",
   "version": "3.8.1-final"
  },
  "orig_nbformat": 2,
  "kernelspec": {
   "name": "python_defaultSpec_1598846159351",
   "display_name": "Python 3.8.1 32-bit ('learn-K8yDujNC')"
  }
 },
 "nbformat": 4,
 "nbformat_minor": 2,
 "cells": [
  {
   "cell_type": "code",
   "execution_count": null,
   "metadata": {},
   "outputs": [],
   "source": [
    "MARKET = 'NSE'\n",
    "import pandas as pd\n",
    "\n",
    "df_unds = pd.read_pickle('./data/df_'+MARKET.lower()+'_unds.pkl')\n",
    "df_ohlcs = pd.read_pickle('./data/df_'+MARKET.lower()+'_ohlcs.pkl')\n",
    "df_chains = pd.read_pickle('./data/df_'+MARKET.lower()+'_chains.pkl')\n",
    "df_symlots = pd.read_pickle('./data/'+MARKET.lower()+'_symlots.pkl')\n",
    "df_raw_opts = pd.read_pickle('./data/df_' + MARKET.lower() + '_qopts.pkl')\n",
    "df_margins = pd.read_pickle('./data/df_'+MARKET.lower()+'_opt_margins.pkl')\n",
    "df_prices = pd.read_pickle('./data/df_'+MARKET.lower()+'_opt_prices.pkl')"
   ]
  },
  {
   "cell_type": "code",
   "execution_count": null,
   "metadata": {},
   "outputs": [],
   "source": [
    "# determine the lots\n",
    "# Can be ignored in base - as df_opts already has the lots\n",
    "\n",
    "if MARKET == 'NSE':\n",
    "    df_opts['expiryM'] = df_opts.expiry.apply(\n",
    "        lambda d: d[:4] + '-' + d[4:6])\n",
    "    cols1 = ['symbol', 'expiryM']\n",
    "    df_opts = df_opts.set_index(cols1).join(\n",
    "        df_symlots[cols1 + ['lot']].set_index(cols1)).reset_index()\n",
    "    df_opts = df_opts.drop('expiryM', 1)\n",
    "else:\n",
    "    df_opts['lot'] = 100"
   ]
  },
  {
   "cell_type": "code",
   "execution_count": null,
   "metadata": {},
   "outputs": [],
   "source": [
    "from support import get_dte, calcsd_df\n",
    "import numpy as np\n",
    "\n",
    "# merge price, margins and lots\n",
    "cols_to_use = list(df_margins.columns.difference(df_prices.columns)) + ['conId']\n",
    "df = df_prices.set_index('conId').join(df_margins[cols_to_use].set_index('conId')).reset_index().drop('secType', 1)\n",
    "df = df.set_index('conId').join(df_opts.set_index('conId').lot).reset_index()\n",
    "\n",
    "# add intrinsic and time values\n",
    "df = df.assign(intrinsic=np.where(df.right == 'C', \n",
    "                           (df.undPrice-df.strike).clip(0, None), \n",
    "                           (df.strike-df.undPrice).clip(0, None)))\n",
    "df = df.assign(timevalue=df.price - df.intrinsic,\n",
    "                         dte=df.expiry.apply(get_dte))\n",
    "\n",
    "# ... compute std deviation\n",
    "df['stdev'] = calcsd_df(df.strike, df)\n",
    "df['rom'] = (df.price*df.lot-df.comm).clip(0)/df.margin*365/df.dte"
   ]
  },
  {
   "cell_type": "code",
   "execution_count": null,
   "metadata": {},
   "outputs": [],
   "source": [
    "df[df.bid > 0].sort_values('rom', ascending=False).head(10)"
   ]
  },
  {
   "cell_type": "code",
   "execution_count": null,
   "metadata": {},
   "outputs": [],
   "source": [
    "\n",
    "from ib_insync import *\n",
    "cos = [(c, o) for c, o in zip(df_opts.contract, np.repeat(MarketOrder('SELL', 11),len(df_opts)))][:5]"
   ]
  },
  {
   "cell_type": "code",
   "execution_count": null,
   "metadata": {},
   "outputs": [],
   "source": [
    "[o.totalQuantity if ct.exchange == 'NSE' else 100 for ct, o in cos]"
   ]
  },
  {
   "cell_type": "code",
   "execution_count": null,
   "metadata": {},
   "outputs": [],
   "source": [
    "cos"
   ]
  },
  {
   "cell_type": "code",
   "execution_count": null,
   "metadata": {},
   "outputs": [],
   "source": []
  }
 ]
}