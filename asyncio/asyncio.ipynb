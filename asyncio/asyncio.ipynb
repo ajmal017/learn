{
 "nbformat": 4,
 "nbformat_minor": 2,
 "metadata": {
  "language_info": {
   "name": "python",
   "codemirror_mode": {
    "name": "ipython",
    "version": 3
   },
   "version": "3.8.1-final"
  },
  "orig_nbformat": 2,
  "file_extension": ".py",
  "mimetype": "text/x-python",
  "name": "python",
  "npconvert_exporter": "python",
  "pygments_lexer": "ipython3",
  "version": 3,
  "kernelspec": {
   "name": "python38132bit2115ca79f6634adbad3a74c57c1d7c04",
   "display_name": "Python 3.8.1 32-bit"
  }
 },
 "cells": [
  {
   "cell_type": "markdown",
   "metadata": {},
   "source": [
    "# Introduction\n",
    "We will try some stunts to use the best possible way to use asyncio with tqdm on IBKR in this notebook\n",
    "\n",
    "# Running asyncio in Jupyter notebook\n",
    "\n",
    "In a normal <i>xxxx.py</i> file, the following code should run. It however fails in Jupyter Notebook with a `RuntimeError`"
   ],
   "execution_count": null,
   "outputs": []
  },
  {
   "cell_type": "code",
   "execution_count": null,
   "metadata": {},
   "outputs": [],
   "source": [
    "import asyncio\n",
    "\n",
    "async def main():\n",
    "    print(1)\n",
    "\n",
    "asyncio.run(main())\n",
    ""
   ]
  },
  {
   "cell_type": "markdown",
   "metadata": {},
   "source": [
    "The RuntimeError happens because Jupyter already has an event loop running. \n",
    "\n",
    "## Solution # 1\n",
    "One can rewrite the code by `await`ing the main function rather than `asyncio.run`ing it. This requires iPython ver 7+, iPykernel ver 5+. "
   ],
   "execution_count": null,
   "outputs": []
  },
  {
   "cell_type": "code",
   "execution_count": null,
   "metadata": {},
   "outputs": [],
   "source": [
    "import asyncio\n",
    "\n",
    "async def main():\n",
    "    print(1)\n",
    "\n",
    "await main()"
   ]
  },
  {
   "cell_type": "markdown",
   "metadata": {},
   "source": [
    "## Solution # 2\n",
    "\n",
    "Another alternative is to `nest` a new asyncio loop to Jupyter's own asyncio loop using the nifty `nest_asyncio` utility.\n",
    "\n",
    "This - of course - requires installation of the utility and `apply()`ing it.\n",
    "\n",
    "> pip install nest_asyncio"
   ],
   "execution_count": null,
   "outputs": []
  },
  {
   "cell_type": "code",
   "execution_count": null,
   "metadata": {},
   "outputs": [],
   "source": [
    "import asyncio\n",
    "\n",
    "import nest_asyncio\n",
    "nest_asyncio.apply()\n",
    "\n",
    "async def main():\n",
    "    print(1)\n",
    "\n",
    "asyncio.run(main())"
   ]
  },
  {
   "cell_type": "markdown",
   "metadata": {},
   "source": [
    "# Using asyncio with tqdm progress bars\n",
    "\n",
    "One can use asyncio with tqdm for progress bars as follows:"
   ],
   "execution_count": null,
   "outputs": []
  },
  {
   "cell_type": "code",
   "execution_count": null,
   "metadata": {},
   "outputs": [],
   "source": [
    "import asyncio\n",
    "import random\n",
    "\n",
    "import tqdm\n",
    "\n",
    "\n",
    "async def factorial(name, number):\n",
    "    f = 1\n",
    "    for i in range(2, number + 1):\n",
    "        await asyncio.sleep(random.random())\n",
    "        f *= i\n",
    "    return f\"Task {name}: factorial {number} = {f}\"\n",
    "\n",
    "async def tq(flen):\n",
    "    for _ in tqdm.tqdm(range(flen)):\n",
    "        await asyncio.sleep(0.1)\n",
    "\n",
    "\n",
    "async def main():\n",
    "\n",
    "    flist = [factorial(\"A\", 2),\n",
    "             factorial(\"B\", 3),\n",
    "             factorial(\"C\", 4)]\n",
    "\n",
    "    pbar = tqdm.tqdm(total=len(flist), position=0, ncols=90)\n",
    "    for f in asyncio.as_completed(flist):\n",
    "        value = await f\n",
    "        pbar.set_description(desc=value, refresh=True)\n",
    "        tqdm.tqdm.write(value)\n",
    "        pbar.update()\n",
    "    \n",
    "    pbar.close()\n",
    "\n",
    "if __name__ == '__main__':\n",
    "\n",
    "    # if nest_asyncio is applied you can use asyncio.run below\n",
    "    # asyncio.run(main())\n",
    "\n",
    "    # if nest_asyncio is not there, you can run the asyncio using await main()\n",
    "    await main()\n",
    ""
   ]
  },
  {
   "cell_type": "markdown",
   "metadata": {},
   "source": [
    "# IBKR with asyncio in native Jupyter\n",
    "\n",
    "Now let us take a look at how asyncio works on IBKR\n",
    "\n",
    "We will get OHLC for two contracts - one a stock and aonther an index\n",
    "\n",
    "**Note**: The program behaves strangely in Jupyter. Most probably this is due to clash of loops\n",
    "\n",
    "- Sometimes it gives `NameError: name 'IB' is not defined`\n",
    "- Other times it gives an error and suddenly works again\n",
    "\n",
    "You may need to restart the kernel\n"
   ],
   "execution_count": null,
   "outputs": []
  },
  {
   "cell_type": "code",
   "execution_count": null,
   "metadata": {},
   "outputs": [],
   "source": [
    "import sys\n",
    "import pandas as pd\n",
    "import asyncio\n",
    "import yaml\n",
    "\n",
    "from ib_insync import IB, util\n",
    "\n",
    "util.startLoop()\n",
    "\n",
    "MARKET = 'SNP'\n",
    "\n",
    "ROOT_PATH = r'C:/Users/User/Documents/Business/Projects/iboop/'\n",
    "FSPATH = ROOT_PATH+r'data/'+MARKET.lower()+'/'\n",
    "\n",
    "sys.path.insert(0, ROOT_PATH)\n",
    "\n",
    "# Variables initialization\n",
    "with open(ROOT_PATH+'var.yml') as f:\n",
    "    data=yaml.safe_load(f)\n",
    "\n",
    "HOST = data[\"COMMON\"][\"HOST\"]\n",
    "PORT = data[MARKET.upper()][\"PORT\"]\n",
    "CID = data[\"COMMON\"][\"CID\"]\n",
    "\n",
    "# Get two contracts\n",
    "df_unds = pd.read_pickle(FSPATH+'_df_unds.pkl')\n",
    "contracts = df_unds.groupby('ctype').head(1).contract\n",
    "\n",
    "# Make a single async function\n",
    "async def get_ohlc(ib, c):\n",
    "\n",
    "    ohlc = await ib.reqHistoricalDataAsync(\n",
    "        contract=c,\n",
    "        endDateTime=\"\",\n",
    "        durationStr=\"365 D\",\n",
    "        barSizeSetting=\"1 day\",\n",
    "        whatToShow=\"Trades\",\n",
    "        useRTH=True\n",
    "    )\n",
    "\n",
    "    # reverse sort to have latest date on top\n",
    "    df_ohlc = util.df(ohlc).sort_index(ascending=False).reset_index(drop=True)\n",
    "\n",
    "    df_ohlc.insert(0, 'symbol', c.symbol)\n",
    "\n",
    "    return df_ohlc"
   ]
  },
  {
   "cell_type": "markdown",
   "metadata": {},
   "source": [
    "Here will try to gather the task using asyncio.gather and run it using await - the most basic in Jupyter"
   ],
   "execution_count": null,
   "outputs": []
  },
  {
   "cell_type": "code",
   "execution_count": null,
   "metadata": {},
   "outputs": [],
   "source": [
    "with IB().connect(host=HOST, port=PORT, clientId=CID) as ib:\n",
    "    tasks = asyncio.gather(*[get_ohlc(ib, c) for c in contracts])\n",
    "    ohlcs = await tasks\n",
    "    ib.sleep(1)\n",
    "\n",
    "df = pd.concat(ohlcs)\n",
    "df.head()"
   ]
  },
  {
   "cell_type": "markdown",
   "metadata": {},
   "source": [
    "# Running an external asynchronous .py file in Jupyter\n",
    "Let us now try to run *async_ib.py* file which is outside jupyter by importing it."
   ],
   "execution_count": null,
   "outputs": []
  },
  {
   "cell_type": "code",
   "execution_count": 1,
   "metadata": {},
   "outputs": [
    {
     "output_type": "stream",
     "name": "stdout",
     "text": "Nothing done.\n"
    },
    {
     "output_type": "execute_result",
     "data": {
      "text/plain": "  symbol        date     open     high      low    close  volume   average  \\\n0   MXEA  2020-04-08  1578.21  1582.45  1569.64  1582.20       0    0.0000   \n1   MXEA  2020-04-07  1591.83  1591.83  1568.63  1580.02       0    0.0000   \n2   MXEA  2020-04-06  1535.01  1543.09  1532.25  1542.18       0    0.0000   \n3   MXEA  2020-04-03  1491.36  1493.85  1483.71  1488.51       0    0.0000   \n4   MXEA  2020-04-02  1495.89  1516.70  1492.69  1504.65       0    0.0000   \n0   AAPL  2020-04-08   262.74   267.37   261.23   266.07  293136  264.5680   \n1   AAPL  2020-04-07   270.80   271.70   259.00   259.43  389906  264.8230   \n2   AAPL  2020-04-06   250.87   263.11   249.38   262.47  351552  255.3605   \n3   AAPL  2020-04-03   242.90   245.70   238.97   241.41  242840  241.8235   \n4   AAPL  2020-04-02   240.24   245.15   236.90   244.93  320620  241.2630   \n\n   barCount  \n0      1355  \n1      1405  \n2      1369  \n3      1366  \n4      1433  \n0    144484  \n1    185526  \n2    183674  \n3    121664  \n4    165947  ",
      "text/html": "<div>\n<style scoped>\n    .dataframe tbody tr th:only-of-type {\n        vertical-align: middle;\n    }\n\n    .dataframe tbody tr th {\n        vertical-align: top;\n    }\n\n    .dataframe thead th {\n        text-align: right;\n    }\n</style>\n<table border=\"1\" class=\"dataframe\">\n  <thead>\n    <tr style=\"text-align: right;\">\n      <th></th>\n      <th>symbol</th>\n      <th>date</th>\n      <th>open</th>\n      <th>high</th>\n      <th>low</th>\n      <th>close</th>\n      <th>volume</th>\n      <th>average</th>\n      <th>barCount</th>\n    </tr>\n  </thead>\n  <tbody>\n    <tr>\n      <th>0</th>\n      <td>MXEA</td>\n      <td>2020-04-08</td>\n      <td>1578.21</td>\n      <td>1582.45</td>\n      <td>1569.64</td>\n      <td>1582.20</td>\n      <td>0</td>\n      <td>0.0000</td>\n      <td>1355</td>\n    </tr>\n    <tr>\n      <th>1</th>\n      <td>MXEA</td>\n      <td>2020-04-07</td>\n      <td>1591.83</td>\n      <td>1591.83</td>\n      <td>1568.63</td>\n      <td>1580.02</td>\n      <td>0</td>\n      <td>0.0000</td>\n      <td>1405</td>\n    </tr>\n    <tr>\n      <th>2</th>\n      <td>MXEA</td>\n      <td>2020-04-06</td>\n      <td>1535.01</td>\n      <td>1543.09</td>\n      <td>1532.25</td>\n      <td>1542.18</td>\n      <td>0</td>\n      <td>0.0000</td>\n      <td>1369</td>\n    </tr>\n    <tr>\n      <th>3</th>\n      <td>MXEA</td>\n      <td>2020-04-03</td>\n      <td>1491.36</td>\n      <td>1493.85</td>\n      <td>1483.71</td>\n      <td>1488.51</td>\n      <td>0</td>\n      <td>0.0000</td>\n      <td>1366</td>\n    </tr>\n    <tr>\n      <th>4</th>\n      <td>MXEA</td>\n      <td>2020-04-02</td>\n      <td>1495.89</td>\n      <td>1516.70</td>\n      <td>1492.69</td>\n      <td>1504.65</td>\n      <td>0</td>\n      <td>0.0000</td>\n      <td>1433</td>\n    </tr>\n    <tr>\n      <th>0</th>\n      <td>AAPL</td>\n      <td>2020-04-08</td>\n      <td>262.74</td>\n      <td>267.37</td>\n      <td>261.23</td>\n      <td>266.07</td>\n      <td>293136</td>\n      <td>264.5680</td>\n      <td>144484</td>\n    </tr>\n    <tr>\n      <th>1</th>\n      <td>AAPL</td>\n      <td>2020-04-07</td>\n      <td>270.80</td>\n      <td>271.70</td>\n      <td>259.00</td>\n      <td>259.43</td>\n      <td>389906</td>\n      <td>264.8230</td>\n      <td>185526</td>\n    </tr>\n    <tr>\n      <th>2</th>\n      <td>AAPL</td>\n      <td>2020-04-06</td>\n      <td>250.87</td>\n      <td>263.11</td>\n      <td>249.38</td>\n      <td>262.47</td>\n      <td>351552</td>\n      <td>255.3605</td>\n      <td>183674</td>\n    </tr>\n    <tr>\n      <th>3</th>\n      <td>AAPL</td>\n      <td>2020-04-03</td>\n      <td>242.90</td>\n      <td>245.70</td>\n      <td>238.97</td>\n      <td>241.41</td>\n      <td>242840</td>\n      <td>241.8235</td>\n      <td>121664</td>\n    </tr>\n    <tr>\n      <th>4</th>\n      <td>AAPL</td>\n      <td>2020-04-02</td>\n      <td>240.24</td>\n      <td>245.15</td>\n      <td>236.90</td>\n      <td>244.93</td>\n      <td>320620</td>\n      <td>241.2630</td>\n      <td>165947</td>\n    </tr>\n  </tbody>\n</table>\n</div>"
     },
     "metadata": {},
     "execution_count": 1
    }
   ],
   "source": [
    "%reset\n",
    "import sys\n",
    "import async_ib\n",
    "\n",
    "from ib_insync import util\n",
    "util.startLoop()\n",
    "\n",
    "MARKET = 'SNP'\n",
    "\n",
    "ROOT_PATH = r'C:/Users/User/Documents/Business/Projects/iboop/'\n",
    "sys.path.insert(0, ROOT_PATH)\n",
    "\n",
    "async_ib.get_2_ohlcs().groupby('symbol').head()\n",
    ""
   ]
  },
  {
   "cell_type": "markdown",
   "metadata": {},
   "source": [
    "It just works beautifully! (If the cell is run by itself)"
   ]
  },
  {
   "cell_type": "code",
   "execution_count": 4,
   "metadata": {},
   "outputs": [
    {
     "output_type": "execute_result",
     "data": {
      "text/plain": "[1, 2, 3]"
     },
     "metadata": {},
     "execution_count": 4
    }
   ],
   "source": [
    "a = [1, 2]\n",
    "b = [3]\n",
    "a.extend(b)\n",
    "a"
   ]
  },
  {
   "cell_type": "code",
   "execution_count": null,
   "metadata": {},
   "outputs": [],
   "source": []
  }
 ]
}