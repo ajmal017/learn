{
 "cells": [
  {
   "cell_type": "markdown",
   "metadata": {},
   "source": [
    "# Introduction\n",
    "This notebook tests [suggestion from Ewald](https://groups.io/g/insync/message/3055) on getting reliable tick data using ib_insync API using Events."
   ]
  },
  {
   "cell_type": "code",
   "execution_count": null,
   "metadata": {},
   "outputs": [],
   "source": [
    "# To be run only once. Connects to SNP live.\n",
    "import asyncio\n",
    "from ib_insync import *\n",
    "ib = IB().connect('127.0.0.1', 1300, 0)\n",
    "\n",
    "util.startLoop()"
   ]
  },
  {
   "cell_type": "code",
   "execution_count": null,
   "metadata": {},
   "outputs": [],
   "source": [
    "def onPendingTickers(pendingTickers):\n",
    "    global n1\n",
    "    n1 += sum(len(t.ticks) for t in pendingTickers)\n",
    "    print(ib.wrapper.lastTime)\n",
    "    print('A', n1)\n",
    "\n",
    "async def coro():\n",
    "    global n2\n",
    "    while True:\n",
    "        pendingTickers = await ib.pendingTickersEvent\n",
    "        n2 += sum(len(t.ticks) for t in pendingTickers)\n",
    "        print('B', n2)\n",
    "\n",
    "async def coro2():\n",
    "    global n3\n",
    "    async for pendingTickers in ib.pendingTickersEvent:\n",
    "        n3 += sum(len(t.ticks) for t in pendingTickers)\n",
    "        print('C', n3)\n",
    "\n",
    "async def coro3():\n",
    "    global n4\n",
    "    while True:\n",
    "        await ib.updateEvent\n",
    "        n4 += sum(len(t.ticks) for t in ib.pendingTickers())\n",
    "        print('D', n4)\n",
    "\n",
    "\n",
    "n1 = n2 = n3 = n4 = n5 = 0\n",
    "\n",
    "contracts = [\n",
    "    Forex('EURUSD'),\n",
    "    Forex('GBPUSD'),\n",
    "    Stock('SPY', 'SMART', 'USD'),\n",
    "    ContFuture(\"ES\", exchange=\"GLOBEX\", currency=\"USD\")]\n",
    "ib.qualifyContracts(*contracts)\n",
    "tickers = [ib.reqMktData(c) for c in contracts]\n",
    "ib.pendingTickersEvent += onPendingTickers\n",
    "asyncio.ensure_future(coro())\n",
    "asyncio.ensure_future(coro2())\n",
    "asyncio.ensure_future(coro3())"
   ]
  },
  {
   "cell_type": "code",
   "execution_count": 11,
   "metadata": {},
   "outputs": [
    {
     "name": "stdout",
     "output_type": "stream",
     "text": "2020-02-18 09:06:54.747925+00:00\nA 2247\nD 2247\nC 2247\nB 2247\n"
    },
    {
     "data": {
      "text/plain": "[Ticker(contract=Forex('EURUSD', conId=12087792, exchange='IDEALPRO', localSymbol='EUR.USD', tradingClass='EUR.USD'), time=datetime.datetime(2020, 2, 18, 9, 6, 54, 455243, tzinfo=datetime.timezone.utc), bid=1.0829, bidSize=7000000, ask=1.08295, askSize=24000000, prevBid=1.08285, prevBidSize=8000000, prevAsk=1.0829, prevAskSize=23500000, high=1.0838, low=1.0823, close=1.0836),\n Ticker(contract=Forex('GBPUSD', conId=12087797, exchange='IDEALPRO', localSymbol='GBP.USD', tradingClass='GBP.USD'), time=datetime.datetime(2020, 2, 18, 9, 6, 54, 747925, tzinfo=datetime.timezone.utc), bid=1.29945, bidSize=5000000, ask=1.2995, askSize=1000000, prevBid=1.2994, prevBidSize=6000000, prevAsk=1.29945, prevAskSize=2000000, high=1.3008, low=1.2971, close=1.3004, ticks=[TickData(time=datetime.datetime(2020, 2, 18, 9, 6, 54, 747925, tzinfo=datetime.timezone.utc), tickType=0, price=1.29945, size=6000000), TickData(time=datetime.datetime(2020, 2, 18, 9, 6, 54, 747925, tzinfo=datetime.timezone.utc), tickType=3, price=1.2995, size=1000000), TickData(time=datetime.datetime(2020, 2, 18, 9, 6, 54, 747925, tzinfo=datetime.timezone.utc), tickType=0, price=1.29945, size=5000000)]),\n Ticker(contract=Stock(conId=756733, symbol='SPY', exchange='SMART', primaryExchange='ARCA', currency='USD', localSymbol='SPY', tradingClass='SPY'), time=datetime.datetime(2020, 2, 18, 9, 6, 53, 227043, tzinfo=datetime.timezone.utc), bid=336.16, bidSize=10, ask=336.2, askSize=7, last=336.2, lastSize=2, prevBid=336.15, prevBidSize=5, prevAsk=336.18, prevAskSize=9, prevLast=336.22, prevLastSize=3, volume=120, close=337.6),\n Ticker(time=datetime.datetime(2020, 2, 18, 9, 6, 54, 385432, tzinfo=datetime.timezone.utc), bid=3365.0, bidSize=32, ask=3365.25, askSize=57, last=3365.25, lastSize=1, prevBid=3364.75, prevBidSize=31, prevAsk=3365.0, prevAskSize=59, prevLast=3365.0, prevLastSize=12, volume=327550, open=3378.25, high=3392.5, low=3363.25, close=3381.0)]"
     },
     "execution_count": 11,
     "metadata": {},
     "output_type": "execute_result"
    }
   ],
   "source": [
    "tickers"
   ]
  },
  {
   "cell_type": "code",
   "execution_count": null,
   "metadata": {},
   "outputs": [],
   "source": [
    "# This should be avoided\n",
    "while ib.waitOnUpdate():\n",
    "    # this will miss ticks\n",
    "    n5 += sum(len(t.ticks) for t in tickers)\n",
    "    print('E', n5)"
   ]
  },
  {
   "cell_type": "code",
   "execution_count": null,
   "metadata": {},
   "outputs": [],
   "source": [
    "tickers"
   ]
  },
  {
   "cell_type": "code",
   "execution_count": null,
   "metadata": {},
   "outputs": [],
   "source": []
  }
 ],
 "metadata": {
  "language_info": {
   "name": "python",
   "codemirror_mode": {
    "name": "ipython",
    "version": 3
   },
   "version": "3.8.1-final"
  },
  "orig_nbformat": 2,
  "file_extension": ".py",
  "mimetype": "text/x-python",
  "name": "python",
  "npconvert_exporter": "python",
  "pygments_lexer": "ipython3",
  "version": 3,
  "kernelspec": {
   "name": "python38132bit2115ca79f6634adbad3a74c57c1d7c04",
   "display_name": "Python 3.8.1 32-bit"
  }
 },
 "nbformat": 4,
 "nbformat_minor": 2
}