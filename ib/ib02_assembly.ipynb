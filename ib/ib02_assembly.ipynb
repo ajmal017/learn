{
 "cells": [
  {
   "cell_type": "markdown",
   "metadata": {},
   "source": [
    "# Building base data\n",
    "We will run a set of programs to understand how ib_insync generates data using async"
   ]
  },
  {
   "cell_type": "markdown",
   "metadata": {},
   "source": [
    "## SET THE MARKET"
   ]
  },
  {
   "cell_type": "code",
   "execution_count": 1,
   "metadata": {},
   "outputs": [],
   "source": [
    "MARKET = \"SNP\""
   ]
  },
  {
   "cell_type": "markdown",
   "metadata": {},
   "source": [
    "## IMPORTS, CONNECTIONS, LOG, TIMER"
   ]
  },
  {
   "cell_type": "code",
   "execution_count": 2,
   "metadata": {},
   "outputs": [],
   "source": [
    "import asyncio\n",
    "import pickle\n",
    "import sys\n",
    "import time\n",
    "import pandas as pd\n",
    "import random\n",
    "\n",
    "from collections import defaultdict\n",
    "from datetime import datetime\n",
    "from pprint import pprint\n",
    "\n",
    "from ib_insync import *\n",
    "\n",
    "from ib01_getsyms import get_syms\n",
    "from support import timestr\n",
    "\n",
    "random.seed(8888)"
   ]
  },
  {
   "cell_type": "code",
   "execution_count": 3,
   "metadata": {},
   "outputs": [],
   "source": [
    "import nest_asyncio\n",
    "util.startLoop()\n",
    "nest_asyncio.apply()\n",
    "\n",
    "pd.options.display.max_columns = None"
   ]
  },
  {
   "cell_type": "code",
   "execution_count": 4,
   "metadata": {},
   "outputs": [],
   "source": [
    "HOST = '127.0.0.1'\n",
    "PORT = 3000 if MARKET.upper() == 'NSE' else 1300\n",
    "CID = 0\n",
    "MASTERCID = 10"
   ]
  },
  {
   "cell_type": "code",
   "execution_count": 5,
   "metadata": {},
   "outputs": [],
   "source": [
    "# Direct logs to file with level at WARNING (30)\n",
    "util.logToFile(path='./data/data.log', level=30)\n",
    "with open('./data/data.log', 'w'): # to clear the log\n",
    "    pass"
   ]
  },
  {
   "cell_type": "markdown",
   "metadata": {},
   "source": [
    "## UNDERLYING SYMBOLS AND LOTS"
   ]
  },
  {
   "cell_type": "code",
   "execution_count": 6,
   "metadata": {},
   "outputs": [],
   "source": [
    "# get all the symbols\n",
    "df_syms = get_syms(MARKET)\n",
    "\n",
    "# ...make the symbols unique\n",
    "symbols = set(df_syms.symbol)\n",
    "\n",
    "# ...build the contracts\n",
    "raw_cts = [i for j in [[Stock(symbol, exchange, currency), Index(symbol, exchange, currency)]\n",
    "                       for symbol, exchange, currency\n",
    "                       in zip(df_syms.symbol, df_syms.exchange, df_syms.currency)] for i in j]\n",
    "\n",
    "# raw_cts = raw_cts[18:25]  # !!! DATA LIMITER !!!"
   ]
  },
  {
   "cell_type": "code",
   "execution_count": 7,
   "metadata": {},
   "outputs": [
    {
     "name": "stdout",
     "output_type": "stream",
     "text": [
      "Wall time: 4.63 s\n"
     ]
    }
   ],
   "source": [
    "%%time\n",
    "\n",
    "## Qualify the underlyings\n",
    "ib = IB()\n",
    "\n",
    "with ib.connect(HOST, PORT, CID) as ib:\n",
    "    qunds = ib.qualifyContracts(*raw_cts)"
   ]
  },
  {
   "cell_type": "code",
   "execution_count": null,
   "metadata": {},
   "outputs": [],
   "source": [
    "qunds[:5]"
   ]
  },
  {
   "cell_type": "markdown",
   "metadata": {},
   "source": [
    "# OHLC DATA COROUTINE"
   ]
  },
  {
   "cell_type": "code",
   "execution_count": 9,
   "metadata": {},
   "outputs": [],
   "source": [
    "async def ohlcCoro(c, DURATION=365):\n",
    "    ohlc = await ib.reqHistoricalDataAsync(\n",
    "                        contract=c,\n",
    "                        endDateTime=\"\",\n",
    "                        durationStr=str(DURATION) + ' D',\n",
    "                        barSizeSetting=\"1 day\",\n",
    "                        whatToShow=\"Trades\",\n",
    "                        useRTH=True)\n",
    "    df = util.df(ohlc)\n",
    "    df.insert(0, 'symbol', c.symbol)\n",
    "    \n",
    "#     await asyncio.sleep(5)  # tried a delay expecting processing to take 5 seconds for 365 days of data\n",
    "# NOTE: introducing the above delay is unnecessary!!\n",
    "    \n",
    "    return df"
   ]
  },
  {
   "cell_type": "markdown",
   "metadata": {},
   "source": [
    "## Single contract test"
   ]
  },
  {
   "cell_type": "code",
   "execution_count": 10,
   "metadata": {},
   "outputs": [
    {
     "data": {
      "text/plain": [
       "Index(conId=6886747, symbol='DJX', exchange='CBOE', currency='USD', localSymbol='DJX')"
      ]
     },
     "execution_count": 10,
     "metadata": {},
     "output_type": "execute_result"
    }
   ],
   "source": [
    "ct1 = qunds[0]\n",
    "ct1"
   ]
  },
  {
   "cell_type": "raw",
   "metadata": {},
   "source": [
    "%%time\n",
    "### THIS DOES NOT WORK FOR INDEX OUTSIDE MARKET HOURS ###\n",
    "with ib.connect(HOST, PORT, CID) as ib:\n",
    "    one_ohlc = ib.run(ohlcCoro(ct1))\n",
    "\n",
    "one_ohlc"
   ]
  },
  {
   "cell_type": "markdown",
   "metadata": {},
   "source": [
    "This does not work and **goes on an infinite loop**. \n",
    "\n",
    "But why?!! \n",
    "\n",
    "Because `qunds[0]` is an Index. The program is not able to find out ohlcs for an Index, when the market is not open"
   ]
  },
  {
   "cell_type": "markdown",
   "metadata": {},
   "source": [
    "We will need to modify ib.run and introduce a `timeout` in it.\n",
    "\n",
    "** Note ** : introduction of `timeout` in ib.run is good for one contract only. It is advisable to use asyncio.wait_for() for multiple tasks. "
   ]
  },
  {
   "cell_type": "code",
   "execution_count": 11,
   "metadata": {},
   "outputs": [
    {
     "name": "stdout",
     "output_type": "stream",
     "text": [
      "Error: Contract DJX does not give out an OHLC!!!\n",
      "Wall time: 6.05 s\n"
     ]
    },
    {
     "data": {
      "text/plain": [
       "[]"
      ]
     },
     "execution_count": 11,
     "metadata": {},
     "output_type": "execute_result"
    }
   ],
   "source": [
    "%%time\n",
    "\n",
    "util.logToConsole(level=30)\n",
    "with ib.connect(HOST, PORT, CID) as ib:\n",
    "    try:\n",
    "        one_error_ohlc = ib.run(ohlcCoro(ct1), timeout=6)\n",
    "    except Exception as e:\n",
    "        one_error_ohlc = []\n",
    "        print(f'Error{e}: Contract {ct1.symbol} does not give out an OHLC!!!')\n",
    "\n",
    "one_error_ohlc"
   ]
  },
  {
   "cell_type": "markdown",
   "metadata": {},
   "source": [
    "Testing the same with a non-index contract"
   ]
  },
  {
   "cell_type": "code",
   "execution_count": 12,
   "metadata": {},
   "outputs": [
    {
     "data": {
      "text/plain": [
       "Stock(conId=4065, symbol='ABT', exchange='SMART', primaryExchange='NYSE', currency='USD', localSymbol='ABT', tradingClass='ABT')"
      ]
     },
     "execution_count": 12,
     "metadata": {},
     "output_type": "execute_result"
    }
   ],
   "source": [
    "ct2 = qunds[10]\n",
    "ct2"
   ]
  },
  {
   "cell_type": "code",
   "execution_count": 13,
   "metadata": {},
   "outputs": [
    {
     "name": "stdout",
     "output_type": "stream",
     "text": [
      "  symbol        date    open    high     low   close  volume   average  \\\n",
      "0    ABT  2020-07-20  100.00  100.71   98.72   99.08   41964   99.6735   \n",
      "1    ABT  2020-07-21   98.88   99.48   97.76   98.19   31481   98.4470   \n",
      "2    ABT  2020-07-22   98.11  100.57   98.00  100.19   32047   99.5895   \n",
      "3    ABT  2020-07-23  100.28  101.98  100.07  100.82   39651  100.9755   \n",
      "4    ABT  2020-07-24  100.21  100.21   98.36   98.95   31654   99.0460   \n",
      "\n",
      "   barCount  \n",
      "0     24263  \n",
      "1     20045  \n",
      "2     21046  \n",
      "3     25659  \n",
      "4     20869  \n",
      "Wall time: 2.99 s\n"
     ]
    }
   ],
   "source": [
    "%%time\n",
    "\n",
    "util.logToConsole(level=30) # to check out any errors in the console\n",
    "with ib.connect(HOST, PORT, CID) as ib:\n",
    "    try:\n",
    "        one_ohlc = ib.run(ohlcCoro(ct2, 5), timeout=7)\n",
    "    except Exception as e:\n",
    "        one_ohlc = []\n",
    "        print(f'Error{e}: Contract {ct2.symbol} does not give out an OHLC!!!')\n",
    "util.logToFile(path='./data/data.log', level=30) # remove INFOs and log to file\n",
    "pprint(one_ohlc, depth = None)"
   ]
  },
  {
   "cell_type": "markdown",
   "metadata": {},
   "source": [
    "## Multiple contract test\n",
    "#### Test 50 good contracts using simple` gather`\n",
    "We found that OHLC doesn't work for SNP Index. So, let us start by using a list of good (non-Index) contracts, using a simple `gather`"
   ]
  },
  {
   "cell_type": "code",
   "execution_count": null,
   "metadata": {},
   "outputs": [],
   "source": [
    "und_cts1 = [q for q in qunds if isinstance(q, Stock)]\n",
    "und_cts1 = und_cts1[:50]  # !!! DATA LIMITER for 50 max simultaneous API hist records !!!\n",
    "len(und_cts1)\n",
    "# und_cts1"
   ]
  },
  {
   "cell_type": "code",
   "execution_count": null,
   "metadata": {},
   "outputs": [],
   "source": [
    "%%time\n",
    "\n",
    "with ib.connect(HOST, PORT, CID) as ib:\n",
    "    task1 = ib.run(asyncio.gather(*[ohlcCoro(c) for c in und_cts1]))\n",
    "\n",
    "pd.concat(task1, ignore_index=True).groupby('symbol').head(1)"
   ]
  },
  {
   "cell_type": "markdown",
   "metadata": {},
   "source": [
    "#### Test a mixed-bag of 6 good and bad contracts using wait_for"
   ]
  },
  {
   "cell_type": "code",
   "execution_count": 14,
   "metadata": {},
   "outputs": [
    {
     "data": {
      "text/plain": [
       "[Stock(conId=7930, symbol='HD', exchange='SMART', primaryExchange='NYSE', currency='USD', localSymbol='HD', tradingClass='HD'),\n",
       " Index(conId=416904, symbol='SPX', exchange='CBOE', currency='USD', localSymbol='SPX'),\n",
       " Stock(conId=107113386, symbol='FB', exchange='SMART', primaryExchange='NASDAQ', currency='USD', localSymbol='FB', tradingClass='NMS'),\n",
       " Index(conId=13455763, symbol='VIX', exchange='CBOE', currency='USD', localSymbol='VIX'),\n",
       " Index(conId=6886747, symbol='DJX', exchange='CBOE', currency='USD', localSymbol='DJX'),\n",
       " Stock(conId=273544, symbol='QCOM', exchange='SMART', primaryExchange='NASDAQ', currency='USD', localSymbol='QCOM', tradingClass='NMS')]"
      ]
     },
     "execution_count": 14,
     "metadata": {},
     "output_type": "execute_result"
    }
   ],
   "source": [
    "und_cts2 = [q for q in qunds if isinstance(q, Index)][:3] + \\\n",
    "            random.sample([q for q in qunds if isinstance(q, Stock)], 3)\n",
    "und_cts2 = random.sample(und_cts2, 6)\n",
    "und_cts2"
   ]
  },
  {
   "cell_type": "code",
   "execution_count": 33,
   "metadata": {},
   "outputs": [
    {
     "ename": "SyntaxError",
     "evalue": "'await' outside function (<timed exec>, line 7)",
     "output_type": "error",
     "traceback": [
      "Traceback \u001b[1;36m(most recent call last)\u001b[0m:\n",
      "  File \u001b[0;32m\"C:\\Users\\User\\AppData\\Local\\Programs\\Python\\Python38-32\\lib\\site-packages\\IPython\\core\\interactiveshell.py\"\u001b[0m, line \u001b[0;32m3319\u001b[0m, in \u001b[0;35mrun_code\u001b[0m\n    exec(code_obj, self.user_global_ns, self.user_ns)\n",
      "  File \u001b[0;32m\"<ipython-input-33-4981707a8c95>\"\u001b[0m, line \u001b[0;32m1\u001b[0m, in \u001b[0;35m<module>\u001b[0m\n    get_ipython().run_cell_magic('time', '', '\\nwith ib.connect(HOST, PORT, CID) as ib:\\n    \\n    async def get_ohlc():\\n        tasks = [ohlcCoro(c) for c in und_cts2]\\n        return asyncio.gather(*tasks)\\n    \\n    tasks2 = await get_ohlc()\\n')\n",
      "  File \u001b[0;32m\"C:\\Users\\User\\AppData\\Local\\Programs\\Python\\Python38-32\\lib\\site-packages\\IPython\\core\\interactiveshell.py\"\u001b[0m, line \u001b[0;32m2352\u001b[0m, in \u001b[0;35mrun_cell_magic\u001b[0m\n    result = fn(*args, **kwargs)\n",
      "  File \u001b[0;32m\"<C:\\Users\\User\\AppData\\Local\\Programs\\Python\\Python38-32\\lib\\site-packages\\decorator.py:decorator-gen-62>\"\u001b[0m, line \u001b[0;32m2\u001b[0m, in \u001b[0;35mtime\u001b[0m\n",
      "  File \u001b[0;32m\"C:\\Users\\User\\AppData\\Local\\Programs\\Python\\Python38-32\\lib\\site-packages\\IPython\\core\\magic.py\"\u001b[0m, line \u001b[0;32m187\u001b[0m, in \u001b[0;35m<lambda>\u001b[0m\n    call = lambda f, *a, **k: f(*a, **k)\n",
      "  File \u001b[0;32m\"C:\\Users\\User\\AppData\\Local\\Programs\\Python\\Python38-32\\lib\\site-packages\\IPython\\core\\magics\\execution.py\"\u001b[0m, line \u001b[0;32m1293\u001b[0m, in \u001b[0;35mtime\u001b[0m\n    code = self.shell.compile(expr_ast, source, mode)\n",
      "\u001b[1;36m  File \u001b[1;32m\"C:\\Users\\User\\AppData\\Local\\Programs\\Python\\Python38-32\\lib\\codeop.py\"\u001b[1;36m, line \u001b[1;32m136\u001b[1;36m, in \u001b[1;35m__call__\u001b[1;36m\u001b[0m\n\u001b[1;33m    codeob = compile(source, filename, symbol, self.flags, 1)\u001b[0m\n",
      "\u001b[1;36m  File \u001b[1;32m\"<timed exec>\"\u001b[1;36m, line \u001b[1;32m7\u001b[0m\n\u001b[1;31mSyntaxError\u001b[0m\u001b[1;31m:\u001b[0m 'await' outside function\n"
     ]
    }
   ],
   "source": [
    "%%time\n",
    "\n",
    "with ib.connect(HOST, PORT, CID) as ib:\n",
    "    \n",
    "    async def get_ohlc():\n",
    "        tasks = [ohlcCoro(c) for c in und_cts2]\n",
    "        return asyncio.gather(*tasks)\n",
    "    \n",
    "    tasks2 = await get_ohlc()"
   ]
  },
  {
   "cell_type": "code",
   "execution_count": 26,
   "metadata": {},
   "outputs": [
    {
     "name": "stderr",
     "output_type": "stream",
     "text": [
      "<timed exec>:7: RuntimeWarning: coroutine 'get_ohlc' was never awaited\n",
      "RuntimeWarning: Enable tracemalloc to get the object allocation traceback\n",
      "<timed exec>:10: RuntimeWarning: coroutine 'wait_for' was never awaited\n",
      "RuntimeWarning: Enable tracemalloc to get the object allocation traceback\n"
     ]
    },
    {
     "ename": "TypeError",
     "evalue": "cannot unpack non-iterable coroutine object",
     "output_type": "error",
     "traceback": [
      "\u001b[1;31m---------------------------------------------------------------------------\u001b[0m",
      "\u001b[1;31mTypeError\u001b[0m                                 Traceback (most recent call last)",
      "\u001b[1;32m<timed exec>\u001b[0m in \u001b[0;36m<module>\u001b[1;34m\u001b[0m\n",
      "\u001b[1;31mTypeError\u001b[0m: cannot unpack non-iterable coroutine object"
     ]
    }
   ],
   "source": [
    "    while tasks2:\n",
    "        done, pending = asyncio.wait_for(tasks2, 10)\n",
    "        \n",
    "        for task in done:\n",
    "            result = task.result()\n",
    "            pprint(result)\n",
    "        tasks2 = pending"
   ]
  },
  {
   "cell_type": "code",
   "execution_count": null,
   "metadata": {},
   "outputs": [],
   "source": []
  },
  {
   "cell_type": "code",
   "execution_count": null,
   "metadata": {},
   "outputs": [],
   "source": []
  },
  {
   "cell_type": "code",
   "execution_count": null,
   "metadata": {},
   "outputs": [],
   "source": []
  },
  {
   "cell_type": "code",
   "execution_count": null,
   "metadata": {},
   "outputs": [],
   "source": [
    "async def mktdataCoro(c, FILL_DELAY=5):\n",
    "\n",
    "    tick = ib.reqMktData(c, '456, 104, 106, 100, 101, 165')\n",
    "    await asyncio.sleep(FILL_DELAY)\n",
    "\n",
    "    ib.cancelMktData(c)\n",
    "\n",
    "    return {c.symbol: {'mdata': tick}}"
   ]
  },
  {
   "cell_type": "code",
   "execution_count": null,
   "metadata": {},
   "outputs": [],
   "source": [
    "async def chainsCoro(c):\n",
    "    chains = ib.reqSecDefOptParamsAsync(underlyingSymbol=c.symbol,\n",
    "                                               futFopExchange=\"\",\n",
    "                                               underlyingSecType=c.secType,\n",
    "                                               underlyingConId=c.conId)\n",
    "    return {c.symbol: {'chains': chains}}"
   ]
  },
  {
   "cell_type": "code",
   "execution_count": null,
   "metadata": {},
   "outputs": [],
   "source": [
    "%%time\n",
    "with ib.connect(HOST, PORT, CID) as ib:\n",
    "    qunds = ib.qualifyContracts(*raw_cts[:50])\n",
    "    async def coro(c):\n",
    "        ohlc_task = [ohlcCoro(c, 365) for c in qunds]\n",
    "        mkt_task = [mktdataCoro(c, 5) for c in qunds]\n",
    "        chain_task = [chainsCoro(c) for c in qunds]\n",
    "        tasks = ohlc_task + mkt_task + chain_task\n",
    "        return await asyncio.gather(*tasks)\n",
    "    \n",
    "    tasks = [coro(c) for c in qunds]\n",
    "    \n",
    "    r = []\n",
    "    \n",
    "    while tasks:\n",
    "        done, pending = ib.run(asyncio.as_completed(tasks))\n",
    "        \n",
    "        for task in done:\n",
    "            result = task.result()\n",
    "            \n",
    "            if result:\n",
    "                r.append(result)\n",
    "        tasks = pending\n",
    "\n",
    "# print(r)"
   ]
  },
  {
   "cell_type": "code",
   "execution_count": null,
   "metadata": {},
   "outputs": [],
   "source": [
    "r[20]"
   ]
  },
  {
   "cell_type": "code",
   "execution_count": null,
   "metadata": {},
   "outputs": [],
   "source": [
    "with open('./data/first.pkl', 'wb') as f:\n",
    "    pickle.dump(r, f, protocol=pickle.HIGHEST_PROTOCOL)"
   ]
  },
  {
   "cell_type": "code",
   "execution_count": null,
   "metadata": {},
   "outputs": [],
   "source": [
    "        \n",
    "    \n",
    "    \n",
    "    print(\"Get first result:\")\n",
    "    done, pending = ib.run(asyncio.wait(tasks, return_when=asyncio.FIRST_COMPLETED))\n",
    "    \n",
    "    for task in done:\n",
    "        print(task.result())\n",
    "    print(\"pending:\", len(pending))\n",
    "    \n",
    "    print(\"\\nGet more results in 15 seconds:\\n\")\n",
    "    done2, pending2 = ib.run(asyncio.wait(pending, timeout=15))\n",
    "    \n",
    "    for task in done2:\n",
    "        print(task.result())\n",
    "    print(\"pending:\", len(pending2))\n",
    "    "
   ]
  },
  {
   "cell_type": "code",
   "execution_count": null,
   "metadata": {},
   "outputs": [],
   "source": []
  },
  {
   "cell_type": "code",
   "execution_count": null,
   "metadata": {},
   "outputs": [],
   "source": []
  },
  {
   "cell_type": "code",
   "execution_count": null,
   "metadata": {},
   "outputs": [],
   "source": [
    "    blk = 5\n",
    "    cb = [qunds[i: i+5] for i in range(0, len(qunds), 5)]\n",
    "    result = [ib.run(coro(c)) for c in cb]"
   ]
  },
  {
   "cell_type": "code",
   "execution_count": null,
   "metadata": {},
   "outputs": [],
   "source": [
    "r = [i for j in result for i in j]"
   ]
  },
  {
   "cell_type": "code",
   "execution_count": null,
   "metadata": {},
   "outputs": [],
   "source": [
    "list(list(r[5939].values())[0].values())[0].result()"
   ]
  },
  {
   "cell_type": "code",
   "execution_count": null,
   "metadata": {},
   "outputs": [],
   "source": [
    "ib.run?"
   ]
  },
  {
   "cell_type": "code",
   "execution_count": null,
   "metadata": {},
   "outputs": [],
   "source": [
    "async def get_data(raw_cts):\n",
    "    '''Sequentially getting data from each qualified contract'''\n",
    "    \n",
    "    d = []\n",
    "    \n",
    "    qunds = [ib.qualifyContractsAsync(*raw_cts)]\n",
    "    \n",
    "    \n",
    "    while qunds:\n",
    "        d1, p1 = await asyncio.wait(qunds, return_when = asyncio.FIRST_COMPLETED)\n",
    "        \n",
    "        for x in d1:\n",
    "            qct = x.result()\n",
    "            \n",
    "            for c in qct:\n",
    "                \n",
    "                tasks = [asyncio.create_task(mktdataCoro(c)), \n",
    "                         asyncio.create_task(ohlcCoro(c)),\n",
    "                         asyncio.ensure_future(ib.reqSecDefOptParamsAsync(underlyingSymbol=c.symbol,\n",
    "                                               futFopExchange=\"\",\n",
    "                                               underlyingSecType=c.secType,\n",
    "                                               underlyingConId=c.conId))]\n",
    "                while tasks:\n",
    "                    d2, p2 = await asyncio.wait(tasks, return_when = asyncio.FIRST_COMPLETED)\n",
    "                    \n",
    "                    for y in d2:\n",
    "                        data = y.result()\n",
    "                        \n",
    "                        print(f'{c.symbol} data collected!')\n",
    "                        d.append([c.symbol, type(data), data])\n",
    "                    \n",
    "                    tasks = p2\n",
    "        \n",
    "        qunds = p1\n",
    "        \n",
    "    return d"
   ]
  },
  {
   "cell_type": "code",
   "execution_count": null,
   "metadata": {},
   "outputs": [],
   "source": [
    "ib = IB()"
   ]
  },
  {
   "cell_type": "code",
   "execution_count": null,
   "metadata": {},
   "outputs": [],
   "source": [
    "%%time\n",
    "with ib.connect(HOST, PORT, CID) as ib:\n",
    "    data = ib.run(get_data(raw_cts))"
   ]
  },
  {
   "cell_type": "raw",
   "metadata": {},
   "source": [
    "%%time\n",
    "with ib.connect(HOST, PORT, CID) as ib:\n",
    "    qunds1 = ib.qualifyContracts(*raw_cts)"
   ]
  },
  {
   "cell_type": "code",
   "execution_count": null,
   "metadata": {},
   "outputs": [],
   "source": [
    "data[1]"
   ]
  },
  {
   "cell_type": "code",
   "execution_count": null,
   "metadata": {},
   "outputs": [],
   "source": []
  },
  {
   "cell_type": "code",
   "execution_count": null,
   "metadata": {},
   "outputs": [],
   "source": [
    "async def make_tasks(c):\n",
    "    tasks = [asyncio.create_task(ohlcCoro(c, DURATION=2), name=c.symbol+'_'+'ohlc'),\n",
    "             asyncio.create_task(mktdataCoro(c, FILL_DELAY=5), name=c.symbol+'_'+'mdata'),\n",
    "             asyncio.create_task(chainsCoro(c), name=c.symbol+'_'+'chains')]\n",
    "    \n",
    "    return asyncio.gather(tasks)"
   ]
  },
  {
   "cell_type": "code",
   "execution_count": null,
   "metadata": {},
   "outputs": [],
   "source": [
    "async def get_pll_data(raw_cts):\n",
    "    '''Getting data parallely'''\n",
    "    \n",
    "    d = dict()\n",
    "    \n",
    "    qunds = await ib.qualifyContractsAsync(*raw_cts)\n",
    "    \n",
    "    for c in qunds:\n",
    "        exec(c.symbol + \"=asyncio.gather(*[ohlcCoro(\"+c+\",2), mktdataCoro(\"+c+\",5), chainsCoro(\"+c+\")])\")\n",
    "        d[c.symbol] = asyncio.gather(*[ohlcCoro(c, 2), mktdataCoro(c, 5), chainsCoro(c)])\n",
    "        \n",
    "    \n",
    "    \n",
    "    \"\"\"tasks = [i for j in [[ohlcCoro(c, 2), mktdataCoro(c, 5), chainsCoro(c)] for c in qunds] for i in j]\n",
    "    \n",
    "    print(tasks)\n",
    "    \n",
    "    while tasks:\n",
    "        \n",
    "        done, pending = await asyncio.wait(tasks, return_when = asyncio.FIRST_COMPLETED)\n",
    "        \n",
    "        for task in done:\n",
    "            data = task.result()\n",
    "            print(f'Completed {data} \\n')            \n",
    "            d.append(data)\n",
    "            \n",
    "        tasks = pending\"\"\"\n",
    "    \n",
    "    return d"
   ]
  },
  {
   "cell_type": "code",
   "execution_count": null,
   "metadata": {},
   "outputs": [],
   "source": [
    "%%time\n",
    "with ib.connect(HOST, PORT, CID) as ib:\n",
    "    data = ib.run(get_pll_data(raw_cts))"
   ]
  },
  {
   "cell_type": "code",
   "execution_count": null,
   "metadata": {},
   "outputs": [],
   "source": [
    "data"
   ]
  },
  {
   "cell_type": "code",
   "execution_count": null,
   "metadata": {},
   "outputs": [],
   "source": [
    "list(data.values())[0].result()"
   ]
  },
  {
   "cell_type": "code",
   "execution_count": null,
   "metadata": {},
   "outputs": [],
   "source": [
    "import asyncio\n",
    "from pprint import pprint\n",
    "\n",
    "import random\n",
    "\n",
    "async def coro(tag):\n",
    "    print(\">\", tag)\n",
    "    await asyncio.sleep(random.uniform(1, 3))\n",
    "    print(\"<\", tag)\n",
    "    return tag\n",
    "\n",
    "\n",
    "loop = asyncio.get_event_loop()\n",
    "\n",
    "group1 = asyncio.gather(*[coro(\"group 1.{}\".format(i)) for i in range(1, 6)])\n",
    "group2 = asyncio.gather(*[coro(\"group 2.{}\".format(i)) for i in range(1, 4)])\n",
    "group3 = asyncio.gather(*[coro(\"group 3.{}\".format(i)) for i in range(1, 10)])\n",
    "\n",
    "all_groups = asyncio.gather(group1, group2, group3)\n",
    "\n",
    "results = loop.run_until_complete(all_groups)\n",
    "\n",
    "loop.close()\n",
    "\n",
    "pprint(results)"
   ]
  },
  {
   "cell_type": "code",
   "execution_count": null,
   "metadata": {},
   "outputs": [],
   "source": []
  }
 ],
 "metadata": {
  "kernelspec": {
   "display_name": "Python 3.8.1 32-bit",
   "language": "python",
   "name": "python38132bit2115ca79f6634adbad3a74c57c1d7c04"
  },
  "language_info": {
   "codemirror_mode": {
    "name": "ipython",
    "version": 3
   },
   "file_extension": ".py",
   "mimetype": "text/x-python",
   "name": "python",
   "nbconvert_exporter": "python",
   "pygments_lexer": "ipython3",
   "version": "3.8.1"
  }
 },
 "nbformat": 4,
 "nbformat_minor": 4
}
