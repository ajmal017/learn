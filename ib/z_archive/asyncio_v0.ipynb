{
 "cells": [
  {
   "cell_type": "markdown",
   "metadata": {},
   "source": [
    "# Understanding asyncio\n",
    "Let us first do some simple tests on getting OHLCs using synchronous and async methods."
   ]
  },
  {
   "cell_type": "code",
   "execution_count": 1,
   "metadata": {},
   "outputs": [],
   "source": [
    "import asyncio\n",
    "import pickle\n",
    "import pandas as pd\n",
    "\n",
    "from collections import defaultdict"
   ]
  },
  {
   "cell_type": "code",
   "execution_count": 2,
   "metadata": {},
   "outputs": [],
   "source": [
    "from ib_insync import *"
   ]
  },
  {
   "cell_type": "code",
   "execution_count": 3,
   "metadata": {},
   "outputs": [],
   "source": [
    "import nest_asyncio\n",
    "nest_asyncio.apply()\n",
    "util.startLoop()"
   ]
  },
  {
   "cell_type": "code",
   "execution_count": 4,
   "metadata": {},
   "outputs": [],
   "source": [
    "MARKET = 'SNP'\n",
    "\n",
    "HOST = '127.0.0.1'\n",
    "PORT = 4002 if MARKET.upper() == 'NSE' else 4002  # Paper trades!!\n",
    "CID = 0\n",
    "\n",
    "DATAPATH = './data/'\n",
    "LONG_BAR_FORMAT = '{desc:<25}{percentage:3.0f}%|{bar:30}{r_bar}'"
   ]
  },
  {
   "cell_type": "code",
   "execution_count": 5,
   "metadata": {},
   "outputs": [],
   "source": [
    "## Get the contracts\n",
    "with open('./data/und_cts.pkl', 'rb') as f:\n",
    "    sym_con = pickle.load(f)\n",
    "all_cts = list(sym_con.values())\n",
    "stock_cts = [c for c in all_cts if isinstance(c, Stock)]"
   ]
  },
  {
   "cell_type": "markdown",
   "metadata": {},
   "source": [
    "# Test ohlc coro only"
   ]
  },
  {
   "cell_type": "code",
   "execution_count": 15,
   "metadata": {},
   "outputs": [],
   "source": [
    "async def ohlcCoro(c, DURATION=365, SLEEP=5):\n",
    "    ohlc = ib.reqHistoricalDataAsync(\n",
    "        contract=c,\n",
    "        endDateTime=\"\",\n",
    "        durationStr=str(DURATION) + ' D',\n",
    "        barSizeSetting=\"1 day\",\n",
    "        whatToShow=\"Trades\",\n",
    "        useRTH=True)\n",
    "\n",
    "    # Refer: https://stackoverflow.com/a/40572169/7978112\n",
    "    await asyncio.sleep(SLEEP)\n",
    "\n",
    "    return {c.symbol: ohlc}"
   ]
  },
  {
   "cell_type": "code",
   "execution_count": 58,
   "metadata": {},
   "outputs": [],
   "source": [
    "cts = list(all_cts)[:50]"
   ]
  },
  {
   "cell_type": "code",
   "execution_count": 71,
   "metadata": {},
   "outputs": [
    {
     "name": "stdout",
     "output_type": "stream",
     "text": [
      "Wall time: 5.03 s\n"
     ]
    }
   ],
   "source": [
    "%%time\n",
    "if __name__ == \"__main__\":\n",
    "\n",
    "    async def get_ohlcs(cts):\n",
    "        tasks = [asyncio.create_task(\n",
    "            ohlcCoro(c, DURATION=365, SLEEP=5), name=c.symbol) for c in cts]\n",
    "    \n",
    "        result = defaultdict(dict)\n",
    "        done, pending = await asyncio.wait(tasks)\n",
    "\n",
    "        '''for task in tasks:\n",
    "            if task in done:\n",
    "                result.update({task.get_name(): task.result()})'''\n",
    "        for task in done:\n",
    "            result.update({task.get_name(): type(list(task.result().values())[0])})\n",
    "                \n",
    "        return result, tasks\n",
    "\n",
    "    with IB().connect(HOST, PORT, CID) as ib:\n",
    "        result = ib.run(get_ohlcs(cts))"
   ]
  },
  {
   "cell_type": "code",
   "execution_count": 72,
   "metadata": {},
   "outputs": [
    {
     "data": {
      "text/plain": [
       "(defaultdict(dict,\n",
       "             {'AMT': asyncio.futures.Future,\n",
       "              'BK': asyncio.futures.Future,\n",
       "              'BIIB': asyncio.futures.Future,\n",
       "              'AIG': asyncio.futures.Future,\n",
       "              'ADBE': asyncio.futures.Future,\n",
       "              'ACN': asyncio.futures.Future,\n",
       "              'ABT': asyncio.futures.Future,\n",
       "              'ABBV': asyncio.futures.Future,\n",
       "              'SPX': asyncio.futures.Future,\n",
       "              'AAPL': asyncio.futures.Future,\n",
       "              'XEO': asyncio.futures.Future,\n",
       "              'VIX': asyncio.futures.Future,\n",
       "              'MXEA': asyncio.futures.Future,\n",
       "              'MXEF': asyncio.futures.Future,\n",
       "              'XSP': asyncio.futures.Future,\n",
       "              'OEX': asyncio.futures.Future,\n",
       "              'AMZN': asyncio.futures.Future,\n",
       "              'AMGN': asyncio.futures.Future,\n",
       "              'BA': asyncio.futures.Future,\n",
       "              'AXP': asyncio.futures.Future,\n",
       "              'BAC': asyncio.futures.Future,\n",
       "              'BKNG': asyncio.futures.Future,\n",
       "              'BLK': asyncio.futures.Future,\n",
       "              'BMY': asyncio.futures.Future,\n",
       "              'C': asyncio.futures.Future,\n",
       "              'CAT': asyncio.futures.Future,\n",
       "              'CHTR': asyncio.futures.Future,\n",
       "              'CL': asyncio.futures.Future,\n",
       "              'COF': asyncio.futures.Future,\n",
       "              'COP': asyncio.futures.Future,\n",
       "              'COST': asyncio.futures.Future,\n",
       "              'CRM': asyncio.futures.Future,\n",
       "              'CSCO': asyncio.futures.Future,\n",
       "              'CVS': asyncio.futures.Future,\n",
       "              'CVX': asyncio.futures.Future,\n",
       "              'DD': asyncio.futures.Future,\n",
       "              'DIS': asyncio.futures.Future,\n",
       "              'DOW': asyncio.futures.Future,\n",
       "              'EMR': asyncio.futures.Future,\n",
       "              'F': asyncio.futures.Future,\n",
       "              'FB': asyncio.futures.Future,\n",
       "              'FDX': asyncio.futures.Future,\n",
       "              'GD': asyncio.futures.Future,\n",
       "              'GE': asyncio.futures.Future,\n",
       "              'GILD': asyncio.futures.Future,\n",
       "              'GM': asyncio.futures.Future,\n",
       "              'GOOG': asyncio.futures.Future,\n",
       "              'DJX': asyncio.futures.Future,\n",
       "              'GS': asyncio.futures.Future,\n",
       "              'HD': asyncio.futures.Future}),\n",
       " [<Task finished name='DJX' coro=<ohlcCoro() done, defined at <ipython-input-15-03904a29721a>:1> result={'DJX': <Future finis...Count=10644)]>}>,\n",
       "  <Task finished name='VIX' coro=<ohlcCoro() done, defined at <ipython-input-15-03904a29721a>:1> result={'VIX': <Future finis...arCount=718)]>}>,\n",
       "  <Task finished name='SPX' coro=<ohlcCoro() done, defined at <ipython-input-15-03904a29721a>:1> result={'SPX': <Future finis...rCount=4548)]>}>,\n",
       "  <Task finished name='XSP' coro=<ohlcCoro() done, defined at <ipython-input-15-03904a29721a>:1> result={'XSP': <Future finis...rCount=9740)]>}>,\n",
       "  <Task finished name='MXEA' coro=<ohlcCoro() done, defined at <ipython-input-15-03904a29721a>:1> result={'MXEA': <Future finis...rCount=1352)]>}>,\n",
       "  <Task finished name='MXEF' coro=<ohlcCoro() done, defined at <ipython-input-15-03904a29721a>:1> result={'MXEF': <Future finis...rCount=1087)]>}>,\n",
       "  <Task finished name='OEX' coro=<ohlcCoro() done, defined at <ipython-input-15-03904a29721a>:1> result={'OEX': <Future finis...rCount=6947)]>}>,\n",
       "  <Task finished name='XEO' coro=<ohlcCoro() done, defined at <ipython-input-15-03904a29721a>:1> result={'XEO': <Future finis...Count=14468)]>}>,\n",
       "  <Task finished name='AAPL' coro=<ohlcCoro() done, defined at <ipython-input-15-03904a29721a>:1> result={'AAPL': <Future pending>}>,\n",
       "  <Task finished name='ABBV' coro=<ohlcCoro() done, defined at <ipython-input-15-03904a29721a>:1> result={'ABBV': <Future pending>}>,\n",
       "  <Task finished name='ABT' coro=<ohlcCoro() done, defined at <ipython-input-15-03904a29721a>:1> result={'ABT': <Future pending>}>,\n",
       "  <Task finished name='ACN' coro=<ohlcCoro() done, defined at <ipython-input-15-03904a29721a>:1> result={'ACN': <Future pending>}>,\n",
       "  <Task finished name='ADBE' coro=<ohlcCoro() done, defined at <ipython-input-15-03904a29721a>:1> result={'ADBE': <Future pending>}>,\n",
       "  <Task finished name='AIG' coro=<ohlcCoro() done, defined at <ipython-input-15-03904a29721a>:1> result={'AIG': <Future pending>}>,\n",
       "  <Task finished name='AMGN' coro=<ohlcCoro() done, defined at <ipython-input-15-03904a29721a>:1> result={'AMGN': <Future pending>}>,\n",
       "  <Task finished name='AMT' coro=<ohlcCoro() done, defined at <ipython-input-15-03904a29721a>:1> result={'AMT': <Future pending>}>,\n",
       "  <Task finished name='AMZN' coro=<ohlcCoro() done, defined at <ipython-input-15-03904a29721a>:1> result={'AMZN': <Future pending>}>,\n",
       "  <Task finished name='AXP' coro=<ohlcCoro() done, defined at <ipython-input-15-03904a29721a>:1> result={'AXP': <Future pending>}>,\n",
       "  <Task finished name='BA' coro=<ohlcCoro() done, defined at <ipython-input-15-03904a29721a>:1> result={'BA': <Future pending>}>,\n",
       "  <Task finished name='BAC' coro=<ohlcCoro() done, defined at <ipython-input-15-03904a29721a>:1> result={'BAC': <Future pending>}>,\n",
       "  <Task finished name='BIIB' coro=<ohlcCoro() done, defined at <ipython-input-15-03904a29721a>:1> result={'BIIB': <Future pending>}>,\n",
       "  <Task finished name='BK' coro=<ohlcCoro() done, defined at <ipython-input-15-03904a29721a>:1> result={'BK': <Future pending>}>,\n",
       "  <Task finished name='BKNG' coro=<ohlcCoro() done, defined at <ipython-input-15-03904a29721a>:1> result={'BKNG': <Future pending>}>,\n",
       "  <Task finished name='BLK' coro=<ohlcCoro() done, defined at <ipython-input-15-03904a29721a>:1> result={'BLK': <Future pending>}>,\n",
       "  <Task finished name='BMY' coro=<ohlcCoro() done, defined at <ipython-input-15-03904a29721a>:1> result={'BMY': <Future pending>}>,\n",
       "  <Task finished name='C' coro=<ohlcCoro() done, defined at <ipython-input-15-03904a29721a>:1> result={'C': <Future pending>}>,\n",
       "  <Task finished name='CAT' coro=<ohlcCoro() done, defined at <ipython-input-15-03904a29721a>:1> result={'CAT': <Future pending>}>,\n",
       "  <Task finished name='CHTR' coro=<ohlcCoro() done, defined at <ipython-input-15-03904a29721a>:1> result={'CHTR': <Future pending>}>,\n",
       "  <Task finished name='CL' coro=<ohlcCoro() done, defined at <ipython-input-15-03904a29721a>:1> result={'CL': <Future pending>}>,\n",
       "  <Task finished name='COF' coro=<ohlcCoro() done, defined at <ipython-input-15-03904a29721a>:1> result={'COF': <Future pending>}>,\n",
       "  <Task finished name='COP' coro=<ohlcCoro() done, defined at <ipython-input-15-03904a29721a>:1> result={'COP': <Future pending>}>,\n",
       "  <Task finished name='COST' coro=<ohlcCoro() done, defined at <ipython-input-15-03904a29721a>:1> result={'COST': <Future pending>}>,\n",
       "  <Task finished name='CRM' coro=<ohlcCoro() done, defined at <ipython-input-15-03904a29721a>:1> result={'CRM': <Future pending>}>,\n",
       "  <Task finished name='CSCO' coro=<ohlcCoro() done, defined at <ipython-input-15-03904a29721a>:1> result={'CSCO': <Future pending>}>,\n",
       "  <Task finished name='CVS' coro=<ohlcCoro() done, defined at <ipython-input-15-03904a29721a>:1> result={'CVS': <Future pending>}>,\n",
       "  <Task finished name='CVX' coro=<ohlcCoro() done, defined at <ipython-input-15-03904a29721a>:1> result={'CVX': <Future pending>}>,\n",
       "  <Task finished name='DD' coro=<ohlcCoro() done, defined at <ipython-input-15-03904a29721a>:1> result={'DD': <Future pending>}>,\n",
       "  <Task finished name='DIS' coro=<ohlcCoro() done, defined at <ipython-input-15-03904a29721a>:1> result={'DIS': <Future pending>}>,\n",
       "  <Task finished name='DOW' coro=<ohlcCoro() done, defined at <ipython-input-15-03904a29721a>:1> result={'DOW': <Future pending>}>,\n",
       "  <Task finished name='EMR' coro=<ohlcCoro() done, defined at <ipython-input-15-03904a29721a>:1> result={'EMR': <Future pending>}>,\n",
       "  <Task finished name='F' coro=<ohlcCoro() done, defined at <ipython-input-15-03904a29721a>:1> result={'F': <Future pending>}>,\n",
       "  <Task finished name='FB' coro=<ohlcCoro() done, defined at <ipython-input-15-03904a29721a>:1> result={'FB': <Future pending>}>,\n",
       "  <Task finished name='FDX' coro=<ohlcCoro() done, defined at <ipython-input-15-03904a29721a>:1> result={'FDX': <Future pending>}>,\n",
       "  <Task finished name='GD' coro=<ohlcCoro() done, defined at <ipython-input-15-03904a29721a>:1> result={'GD': <Future pending>}>,\n",
       "  <Task finished name='GE' coro=<ohlcCoro() done, defined at <ipython-input-15-03904a29721a>:1> result={'GE': <Future pending>}>,\n",
       "  <Task finished name='GILD' coro=<ohlcCoro() done, defined at <ipython-input-15-03904a29721a>:1> result={'GILD': <Future pending>}>,\n",
       "  <Task finished name='GM' coro=<ohlcCoro() done, defined at <ipython-input-15-03904a29721a>:1> result={'GM': <Future pending>}>,\n",
       "  <Task finished name='GOOG' coro=<ohlcCoro() done, defined at <ipython-input-15-03904a29721a>:1> result={'GOOG': <Future pending>}>,\n",
       "  <Task finished name='GS' coro=<ohlcCoro() done, defined at <ipython-input-15-03904a29721a>:1> result={'GS': <Future pending>}>,\n",
       "  <Task finished name='HD' coro=<ohlcCoro() done, defined at <ipython-input-15-03904a29721a>:1> result={'HD': <Future pending>}>])"
      ]
     },
     "execution_count": 72,
     "metadata": {},
     "output_type": "execute_result"
    }
   ],
   "source": [
    "result"
   ]
  },
  {
   "cell_type": "code",
   "execution_count": null,
   "metadata": {},
   "outputs": [],
   "source": []
  },
  {
   "cell_type": "code",
   "execution_count": null,
   "metadata": {},
   "outputs": [],
   "source": []
  },
  {
   "cell_type": "code",
   "execution_count": 45,
   "metadata": {},
   "outputs": [],
   "source": [
    "if __name__ == \"__main__\":\n",
    "\n",
    "    async def get_ohlcs(cts):\n",
    "        tasks = [asyncio.create_task(\n",
    "            ohlcCoro(c, DURATION=5, SLEEP=5), name=c.symbol) for c in cts]\n",
    "\n",
    "        result = dict()\n",
    "        for coro in asyncio.as_completed(tasks, timeout=None):\n",
    "            result.update({coro: await coro})\n",
    "\n",
    "        return result\n",
    "\n",
    "    with IB().connect(HOST, PORT, CID) as ib:\n",
    "        result = ib.run(get_ohlcs(cts))"
   ]
  },
  {
   "cell_type": "code",
   "execution_count": 46,
   "metadata": {},
   "outputs": [
    {
     "data": {
      "text/plain": [
       "{<coroutine object as_completed.<locals>._wait_for_one at 0x0ADC51A8>: {'DJX': <Future finished result=[BarData(date...rCount=10644)]>},\n",
       " <coroutine object as_completed.<locals>._wait_for_one at 0x0ADC53E8>: {'SPX': <Future finished result=[BarData(date...arCount=4548)]>},\n",
       " <coroutine object as_completed.<locals>._wait_for_one at 0x0ADC59E8>: {'OEX': <Future finished result=[BarData(date...arCount=6947)]>},\n",
       " <coroutine object as_completed.<locals>._wait_for_one at 0x0ADC5968>: {'MXEF': <Future finished result=[BarData(date...arCount=1087)]>},\n",
       " <coroutine object as_completed.<locals>._wait_for_one at 0x0ADC5A28>: {'XEO': <Future finished result=[BarData(date...rCount=14468)]>},\n",
       " <coroutine object as_completed.<locals>._wait_for_one at 0x0ADC5AE8>: {'MXEA': <Future finished result=[BarData(date...arCount=1352)]>},\n",
       " <coroutine object as_completed.<locals>._wait_for_one at 0x0ADC5A68>: {'VIX': <Future finished result=[BarData(date...barCount=639)]>},\n",
       " <coroutine object as_completed.<locals>._wait_for_one at 0x0ADC5AA8>: {'XSP': <Future finished result=[BarData(date...arCount=9740)]>}}"
      ]
     },
     "execution_count": 46,
     "metadata": {},
     "output_type": "execute_result"
    }
   ],
   "source": [
    "result"
   ]
  },
  {
   "cell_type": "code",
   "execution_count": 47,
   "metadata": {},
   "outputs": [
    {
     "data": {
      "text/plain": [
       "[BarData(date=datetime.date(2020, 7, 28), open=265.29, high=265.57, low=263.62, close=263.79, volume=0, average=0.0, barCount=10116),\n",
       " BarData(date=datetime.date(2020, 7, 29), open=263.88, high=266.02, low=263.75, close=265.4, volume=0, average=0.0, barCount=9822),\n",
       " BarData(date=datetime.date(2020, 7, 30), open=263.67, high=263.75, low=259.92, close=263.14, volume=0, average=0.0, barCount=10921),\n",
       " BarData(date=datetime.date(2020, 7, 31), open=264.09, high=264.4, low=260.14, close=264.28, volume=0, average=0.0, barCount=12439),\n",
       " BarData(date=datetime.date(2020, 8, 3), open=265.42, high=267.07, low=265.34, close=266.64, volume=0, average=0.0, barCount=10644)]"
      ]
     },
     "execution_count": 47,
     "metadata": {},
     "output_type": "execute_result"
    }
   ],
   "source": [
    "list(list(result.values())[0].values())[0].result()"
   ]
  },
  {
   "cell_type": "code",
   "execution_count": null,
   "metadata": {},
   "outputs": [],
   "source": []
  },
  {
   "cell_type": "code",
   "execution_count": null,
   "metadata": {},
   "outputs": [],
   "source": []
  },
  {
   "cell_type": "code",
   "execution_count": null,
   "metadata": {},
   "outputs": [],
   "source": [
    "## Build base async functions with its component async functions\n",
    "async def ohlcAsync(c, duration=365):\n",
    "    '''A simple async for ohlc'''\n",
    "    ohlc_coro = ib.reqHistoricalDataAsync(\n",
    "        contract=c,\n",
    "        endDateTime=\"\",\n",
    "        durationStr=str(duration) + ' D',\n",
    "        barSizeSetting=\"1 day\",\n",
    "        whatToShow=\"Trades\",\n",
    "        useRTH=True)\n",
    "    return ohlc_coro\n",
    "\n",
    "async def chainsAsync(c):\n",
    "    chain_coro = ib.reqSecDefOptParamsAsync(\n",
    "        underlyingSymbol=c.symbol, futFopExchange=\"\", \n",
    "        underlyingSecType=c.secType, underlyingConId=c.conId)\n",
    "    return chain_coro\n",
    "\n",
    "async def mdataAsync(c, FILL_DELAY=5):\n",
    "    tick_coro = ib.reqMktData(\n",
    "        c, '456, 104, 106, 100, 101, 165')\n",
    "    await asyncio.sleep(FILL_DELAY)\n",
    "    ib.cancelMktData(c)\n",
    "    \n",
    "    return tick_coro\n",
    "\n",
    "async def priceAsync(c, DELAY=5):\n",
    "    price_coro = await ib.reqTickersAsync(c)\n",
    "    await asyncio.sleep(DELAY)\n",
    "    return price_coro\n",
    "\n",
    "async def baseAsync(c):\n",
    "    tasks = [ohlcAsync(c), chainsAsync(c), mdataAsync(c), priceAsync(c)]\n",
    "    return await asyncio.gather(*tasks)"
   ]
  },
  {
   "cell_type": "code",
   "execution_count": null,
   "metadata": {},
   "outputs": [],
   "source": [
    "import random\n",
    "random.seed(1234)\n",
    "cts = random.sample(all_cts, 5)\n",
    "cts"
   ]
  },
  {
   "cell_type": "code",
   "execution_count": null,
   "metadata": {},
   "outputs": [],
   "source": [
    "%%time\n",
    "## Extract the base\n",
    "with IB().connect(HOST, PORT, CID) as ib:\n",
    "    base = {c.symbol: ib.run(baseAsync(c)) for c in all_cts}\n",
    "#     base = {c.symbol: ib.run(baseAsync(c)) for c in cts} # !!! DATA IS LIMITED !!! not working !!!!\n",
    "print(base)"
   ]
  },
  {
   "cell_type": "code",
   "execution_count": null,
   "metadata": {},
   "outputs": [],
   "source": [
    "base['KMI']"
   ]
  },
  {
   "cell_type": "code",
   "execution_count": null,
   "metadata": {},
   "outputs": [],
   "source": []
  },
  {
   "cell_type": "code",
   "execution_count": null,
   "metadata": {},
   "outputs": [],
   "source": [
    "## Assemble the base dfs\n",
    "ohlcs = defaultdict(dict)\n",
    "mdata = defaultdict(dict)\n",
    "chains = defaultdict(dict)\n",
    "undPrices = defaultdict(dict)\n",
    "\n",
    "for k, v in base.items():\n",
    "    ohlcs.update({k: v[0].result() if v[0].done() else None})\n",
    "    chains.update({k: v[1].result() if v[1].done() else None})\n",
    "    mdata.update({k: v[2]})\n",
    "    undPrices.update({k: v[3][0]})"
   ]
  },
  {
   "cell_type": "code",
   "execution_count": null,
   "metadata": {},
   "outputs": [],
   "source": [
    "undPrices"
   ]
  },
  {
   "cell_type": "code",
   "execution_count": null,
   "metadata": {},
   "outputs": [],
   "source": [
    "# cleanup the ohlcs\n",
    "ohlc_dfs = []\n",
    "mdata_dfs = []\n",
    "\n",
    "for k, v in ohlcs.items():\n",
    "    \n",
    "    if v: # it is not None\n",
    "        \n",
    "        # for ohlcs\n",
    "        df1 = util.df(v)\n",
    "        df1.insert(0, 'symbol', k)\n",
    "        ohlc_dfs.append(df1)\n",
    "        \n",
    "        # for market data\n",
    "        m_df = pd.DataFrame(util.df([mdata[k]]))\n",
    "        div_df = pd.DataFrame(m_df.dividends.tolist())\n",
    "\n",
    "        df2 = m_df.drop('dividends', 1).join(div_df)\n",
    "        df2.insert(0, 'symbol', k)\n",
    "        mdata_dfs.append(df2)"
   ]
  },
  {
   "cell_type": "code",
   "execution_count": null,
   "metadata": {},
   "outputs": [],
   "source": [
    "df_ohlcs = pd.concat(ohlc_dfs, ignore_index=True)\n",
    "df_unds = pd.concat(mdata_dfs, ignore_index=True)"
   ]
  },
  {
   "cell_type": "code",
   "execution_count": null,
   "metadata": {},
   "outputs": [],
   "source": [
    "# ... set up the final mkt df columns\n",
    "cols = ['symbol', 'time', 'low13week', 'high13week', 'low26week',\n",
    "        'high26week', 'low52week', 'high52week',  'putVolume', 'callVolume',\n",
    "        'past12Months', 'next12Months', 'nextDate', 'nextAmount',\n",
    "        'avOptionVolume', 'histVolatility', 'impliedVolatility']"
   ]
  },
  {
   "cell_type": "code",
   "execution_count": null,
   "metadata": {},
   "outputs": [],
   "source": [
    "df_unds[cols]"
   ]
  },
  {
   "cell_type": "code",
   "execution_count": null,
   "metadata": {},
   "outputs": [],
   "source": []
  },
  {
   "cell_type": "markdown",
   "metadata": {},
   "source": [
    "The above works beautifully for stock ohlcs. But we have some problems and challenges: \n",
    "\n",
    "1. We can try to replicate the success to other coros\n",
    "2. We want to build a dictionary with sym:ohlc to identify which ohlcs belong to what symbol\n",
    "3. It doesn't work for index ohlcs. We need a way for it to wait for a certain time and quit, if it is not getting."
   ]
  }
 ],
 "metadata": {
  "kernelspec": {
   "display_name": "Python 3.8.1 32-bit",
   "language": "python",
   "name": "python38132bit2115ca79f6634adbad3a74c57c1d7c04"
  },
  "language_info": {
   "codemirror_mode": {
    "name": "ipython",
    "version": 3
   },
   "file_extension": ".py",
   "mimetype": "text/x-python",
   "name": "python",
   "nbconvert_exporter": "python",
   "pygments_lexer": "ipython3",
   "version": "3.8.1"
  }
 },
 "nbformat": 4,
 "nbformat_minor": 4
}
