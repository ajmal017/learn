{
 "cells": [
  {
   "cell_type": "code",
   "execution_count": 1,
   "metadata": {},
   "outputs": [],
   "source": [
    "import nest_asyncio\n",
    "nest_asyncio.apply()\n",
    "\n",
    "from ib_insync import util\n",
    "util.startLoop()"
   ]
  },
  {
   "cell_type": "code",
   "execution_count": 72,
   "metadata": {},
   "outputs": [],
   "source": [
    "# Simulate a big qualifyAsync\n",
    "from ib_insync import IB, Option, Contract, util\n",
    "import pandas as pd\n",
    "import yaml\n",
    "import asyncio\n",
    "import random\n",
    "import logging\n",
    "from tqdm import tqdm\n",
    "\n",
    "MARKET = 'snp'\n",
    "root_path = \"C:/Users/User/Documents/Business/Projects/asyncib/\"\n",
    "data_path = root_path+'data/'+MARKET.lower()+'/'\n",
    "\n",
    "# get the connection IDs\n",
    "with open(root_path+'var.yml') as f:\n",
    "    data=yaml.safe_load(f)\n",
    "    \n",
    "HOST = data[\"COMMON\"][\"HOST\"]\n",
    "PORT = data[MARKET.upper()][\"PORT\"]\n",
    "CID = data[\"COMMON\"][\"CID\"]\n",
    "\n",
    "# make the contract chains\n",
    "df_chains = pd.read_pickle(data_path+'df_chains.pkl')\n",
    "\n",
    "puts = [Option(symbol=s, lastTradeDateOrContractMonth=e, strike=k, right='P', exchange=x) \n",
    "                for s, e, k, x in \n",
    "                zip(df_chains.symbol, df_chains.expiry, df_chains.strike, ['NSE' \n",
    "                    if MARKET.upper() == 'NSE' else 'SMART']*len(df_chains))]\n",
    "\n",
    "calls = [Option(symbol=s, lastTradeDateOrContractMonth=e, strike=k, right='C', exchange=x) \n",
    "                for s, e, k, x in \n",
    "                zip(df_chains.symbol, df_chains.expiry, df_chains.strike, ['NSE' \n",
    "                    if MARKET.upper() == 'NSE' else 'SMART']*len(df_chains))]\n",
    "\n",
    "raw_cs = puts+calls"
   ]
  },
  {
   "cell_type": "code",
   "execution_count": 122,
   "metadata": {},
   "outputs": [],
   "source": [
    "contracts = random.sample(raw_cs, 5) # sample list of contracts\n",
    "util.logToConsole(level=logging.FATAL) # Suppress ib_insync errors"
   ]
  },
  {
   "cell_type": "code",
   "execution_count": 132,
   "metadata": {},
   "outputs": [],
   "source": [
    "from pprint import pprint\n",
    "# create an async task\n",
    "async def qual(contracts):\n",
    "    blks = 100\n",
    "    tasks = list((ib.qualifyContractsAsync(c) for c in contracts))\n",
    "    done, pending = await asyncio.wait(tasks)\n",
    "    \n",
    "    pprint(done)\n",
    "    pprint(pending)\n",
    "    \n",
    "    return tasks"
   ]
  },
  {
   "cell_type": "code",
   "execution_count": 136,
   "metadata": {},
   "outputs": [
    {
     "name": "stdout",
     "output_type": "stream",
     "text": [
      "{<Task finished name='Task-180' coro=<IB.qualifyContractsAsync() done, defined at C:\\Users\\User\\AppData\\Local\\Programs\\Python\\Python38-32\\lib\\site-packages\\ib_insync\\ib.py:1627> result=[]>,\n",
      " <Task finished name='Task-179' coro=<IB.qualifyContractsAsync() done, defined at C:\\Users\\User\\AppData\\Local\\Programs\\Python\\Python38-32\\lib\\site-packages\\ib_insync\\ib.py:1627> result=[Option(conId=...ngClass='XEO')]>,\n",
      " <Task finished name='Task-178' coro=<IB.qualifyContractsAsync() done, defined at C:\\Users\\User\\AppData\\Local\\Programs\\Python\\Python38-32\\lib\\site-packages\\ib_insync\\ib.py:1627> result=[]>,\n",
      " <Task finished name='Task-182' coro=<IB.qualifyContractsAsync() done, defined at C:\\Users\\User\\AppData\\Local\\Programs\\Python\\Python38-32\\lib\\site-packages\\ib_insync\\ib.py:1627> result=[Option(conId=...ngClass='CVX')]>,\n",
      " <Task finished name='Task-181' coro=<IB.qualifyContractsAsync() done, defined at C:\\Users\\User\\AppData\\Local\\Programs\\Python\\Python38-32\\lib\\site-packages\\ib_insync\\ib.py:1627> result=[Option(conId=...ngClass='DIS')]>}\n",
      "set()\n",
      "Wall time: 1.03 s\n"
     ]
    }
   ],
   "source": [
    "%%time\n",
    "with IB().connect(HOST, PORT, CID) as ib:\n",
    "    result = ib.run(qual(contracts))"
   ]
  },
  {
   "cell_type": "code",
   "execution_count": 137,
   "metadata": {},
   "outputs": [
    {
     "data": {
      "text/plain": [
       "[<coroutine object IB.qualifyContractsAsync at 0x0E2EA7A8>,\n",
       " <coroutine object IB.qualifyContractsAsync at 0x0E379928>,\n",
       " <coroutine object IB.qualifyContractsAsync at 0x01863D28>,\n",
       " <coroutine object IB.qualifyContractsAsync at 0x01863BE8>,\n",
       " <coroutine object IB.qualifyContractsAsync at 0x0B44B428>]"
      ]
     },
     "execution_count": 137,
     "metadata": {},
     "output_type": "execute_result"
    }
   ],
   "source": [
    "result"
   ]
  },
  {
   "cell_type": "code",
   "execution_count": null,
   "metadata": {},
   "outputs": [],
   "source": []
  }
 ],
 "metadata": {
  "kernelspec": {
   "display_name": "Python 3.8.1 32-bit",
   "language": "python",
   "name": "python38132bit2115ca79f6634adbad3a74c57c1d7c04"
  },
  "language_info": {
   "codemirror_mode": {
    "name": "ipython",
    "version": 3
   },
   "file_extension": ".py",
   "mimetype": "text/x-python",
   "name": "python",
   "nbconvert_exporter": "python",
   "pygments_lexer": "ipython3",
   "version": "3.8.1"
  }
 },
 "nbformat": 4,
 "nbformat_minor": 4
}
