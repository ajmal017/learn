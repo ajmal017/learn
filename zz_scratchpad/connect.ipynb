{
 "cells": [
  {
   "cell_type": "markdown",
   "metadata": {},
   "source": [
    "Let us play around with classes for IB connection\n",
    "\n",
    "The inheritance structure we need is:\n",
    "\n",
    "* user input expected = connection.market.live\n",
    "* connection.snp.live should give ('127.0.0.1', 1300, 1)\n",
    "* connection.snp.paper should give ('127.0.0.1', 1301, 1)\n",
    "* connection.nse.live should give ('127.0.0.1', 3000, 1)\n",
    "* connection.nse.paper should give ('127.0.0.1', 3001, 1)\n"
   ]
  },
  {
   "cell_type": "code",
   "execution_count": 38,
   "metadata": {},
   "outputs": [],
   "source": [
    "class Connection:\n",
    "    # def __init__(self):\n",
    "    pass\n",
    "\n",
    "    class Snp:\n",
    "        # def __init__(self):\n",
    "        pass\n",
    "\n",
    "        class Live:\n",
    "            def __init__(self):\n",
    "                self.value=('127.0.0.1', 1300, 1)\n",
    "            #     self.value = value()\n",
    "\n",
    "            # def value():\n",
    "            #     return ('127.0.0.1', 1300, 1)\n",
    "        "
   ]
  },
  {
   "cell_type": "code",
   "execution_count": 39,
   "metadata": {},
   "outputs": [],
   "source": [
    "c = Connection()"
   ]
  },
  {
   "cell_type": "code",
   "execution_count": 40,
   "metadata": {},
   "outputs": [
    {
     "output_type": "execute_result",
     "data": {
      "text/plain": "('127.0.0.1', 1300, 1)"
     },
     "metadata": {},
     "execution_count": 40
    }
   ],
   "source": [
    "c.Snp().Live().value"
   ]
  },
  {
   "cell_type": "code",
   "execution_count": null,
   "metadata": {},
   "outputs": [],
   "source": []
  }
 ],
 "metadata": {
  "language_info": {
   "codemirror_mode": {
    "name": "ipython",
    "version": 3
   },
   "file_extension": ".py",
   "mimetype": "text/x-python",
   "name": "python",
   "nbconvert_exporter": "python",
   "pygments_lexer": "ipython3",
   "version": "3.8.1-final"
  },
  "orig_nbformat": 2,
  "kernelspec": {
   "name": "python38132bit2115ca79f6634adbad3a74c57c1d7c04",
   "display_name": "Python 3.8.1 32-bit"
  }
 },
 "nbformat": 4,
 "nbformat_minor": 2
}