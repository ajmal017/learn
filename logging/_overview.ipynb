{
 "nbformat": 4,
 "nbformat_minor": 2,
 "metadata": {
  "language_info": {
   "name": "python",
   "codemirror_mode": {
    "name": "ipython",
    "version": 3
   },
   "version": "3.8.1-final"
  },
  "orig_nbformat": 2,
  "file_extension": ".py",
  "mimetype": "text/x-python",
  "name": "python",
  "npconvert_exporter": "python",
  "pygments_lexer": "ipython3",
  "version": 3,
  "kernelspec": {
   "name": "python38132bit2115ca79f6634adbad3a74c57c1d7c04",
   "display_name": "Python 3.8.1 32-bit"
  }
 },
 "cells": [
  {
   "cell_type": "markdown",
   "execution_count": null,
   "metadata": {},
   "outputs": [],
   "source": [
    "# Introduction\n",
    "\n",
    "This module explores how logging works.\n",
    "\n",
    "# Structure\n",
    "\n",
    "There is a *main.py* program which calls *submodule.py* program. \n",
    "The *main.py* program should log into console all INFOs, except for those INFOs from the submodule.\n",
    "All *main.py* and *submodule.py* logs should be filed in a *main.log*\n",
    "\n",
    "A question regarding this was asked in [Stackoverflow:](https://stackoverflow.com/questions/60473336).\n",
    "\n",
    "The structure of main program is:"
   ]
  },
  {
   "cell_type": "code",
   "execution_count": null,
   "metadata": {},
   "outputs": [],
   "source": [
    "# main.py importing a submodule\n",
    "import logging\n",
    "\n",
    "import submodule\n",
    "\n",
    "logger = logging.getLogger(__name__)\n",
    "\n",
    "# log to console\n",
    "c_handler = logging.StreamHandler()\n",
    "\n",
    "console_format = logging.Formatter(\"[%(levelname)s] %(message)s\")\n",
    "c_handler.setFormatter(console_format)\n",
    "c_handler.setLevel(logging.INFO)\n",
    "\n",
    "logging.getLogger().addHandler(c_handler)\n",
    "\n",
    "# log to file from main\n",
    "logfile = \"./main.log\"\n",
    "\n",
    "f_handler = logging.FileHandler(filename=logfile)\n",
    "\n",
    "f_format = logging.Formatter(\"%(asctime)s: %(name)-18s [%(levelname)-8s] %(message)s\")\n",
    "f_handler.setFormatter(f_format)\n",
    "f_handler.setLevel(logging.DEBUG)\n",
    "\n",
    "\n",
    "logging.getLogger().addHandler(f_handler)\n",
    "logging.getLogger().setLevel(logging.DEBUG)\n",
    "\n",
    "logger.error(\"This is an error!!! Logged to console\")\n",
    "logger.debug(\"This is a debug error. Not logged to console, but should log to file\")\n",
    "\n",
    "# run submodule\n",
    "submodule.logsomething()"
   ]
  },
  {
   "cell_type": "markdown",
   "execution_count": null,
   "metadata": {},
   "outputs": [],
   "source": [
    "The submodule program is:"
   ]
  },
  {
   "cell_type": "code",
   "execution_count": null,
   "metadata": {},
   "outputs": [],
   "source": [
    "# submodule.py\n",
    "import logging\n",
    "\n",
    "logger = logging.getLogger(__name__)\n",
    "\n",
    "def logsomething():\n",
    "    logger.info(\"This is an info message from submodule, should be recorded in main.log!\")\n",
    "    logger.debug(\"This is a debug message from submodule, also should be recorded in main.log!!\")"
   ]
  },
  {
   "cell_type": "markdown",
   "metadata": {},
   "source": [
    "# Learnings\n",
    "\n",
    "Some key learnings are:\n",
    "\n",
    "1. All handler and formatted related stuff should be configured in *main.py* and executed before the *submodule.py* is called.\n",
    "2. The *submodule.py* program should not have any formatter or handler in it. Otherwise the *main.py* handlers get overwritten by *submodule.py* program!"
   ]
  },
  {
   "cell_type": "code",
   "execution_count": null,
   "metadata": {},
   "outputs": [],
   "source": []
  }
 ]
}