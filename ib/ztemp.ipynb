{
 "metadata": {
  "language_info": {
   "codemirror_mode": {
    "name": "ipython",
    "version": 3
   },
   "file_extension": ".py",
   "mimetype": "text/x-python",
   "name": "python",
   "nbconvert_exporter": "python",
   "pygments_lexer": "ipython3",
   "version": "3.8.1-final"
  },
  "orig_nbformat": 2,
  "kernelspec": {
   "name": "python_defaultSpec_1598449102778",
   "display_name": "Python 3.8.1 32-bit ('learn-K8yDujNC')"
  }
 },
 "nbformat": 4,
 "nbformat_minor": 2,
 "cells": [
  {
   "cell_type": "code",
   "execution_count": 3,
   "metadata": {},
   "outputs": [
    {
     "output_type": "execute_result",
     "data": {
      "text/plain": "    symbol      undId expiry  lot  \\\n0      DXJ   39832875   None  100   \n1      XME   45540699   None  100   \n2     YINN   70737252   None  100   \n3      IWM    9579970   None  100   \n4     UPRO   61228752   None  100   \n..     ...        ...    ...  ...   \n268   WYNN   16454492   None  100   \n269   XLNX     276222   None  100   \n270    XOM      13977   None  100   \n271    YUM    3206042   None  100   \n272    ZTS  121665622   None  100   \n\n                                              contract  \n0    Stock(conId=39832875, symbol='DXJ', exchange='...  \n1    Stock(conId=45540699, symbol='XME', exchange='...  \n2    Stock(conId=70737252, symbol='YINN', exchange=...  \n3    Stock(conId=9579970, symbol='IWM', exchange='S...  \n4    Stock(conId=61228752, symbol='UPRO', exchange=...  \n..                                                 ...  \n268  Stock(conId=16454492, symbol='WYNN', exchange=...  \n269  Stock(conId=276222, symbol='XLNX', exchange='S...  \n270  Stock(conId=13977, symbol='XOM', exchange='SMA...  \n271  Stock(conId=3206042, symbol='YUM', exchange='S...  \n272  Stock(conId=121665622, symbol='ZTS', exchange=...  \n\n[265 rows x 5 columns]",
      "text/html": "<div>\n<style scoped>\n    .dataframe tbody tr th:only-of-type {\n        vertical-align: middle;\n    }\n\n    .dataframe tbody tr th {\n        vertical-align: top;\n    }\n\n    .dataframe thead th {\n        text-align: right;\n    }\n</style>\n<table border=\"1\" class=\"dataframe\">\n  <thead>\n    <tr style=\"text-align: right;\">\n      <th></th>\n      <th>symbol</th>\n      <th>undId</th>\n      <th>expiry</th>\n      <th>lot</th>\n      <th>contract</th>\n    </tr>\n  </thead>\n  <tbody>\n    <tr>\n      <th>0</th>\n      <td>DXJ</td>\n      <td>39832875</td>\n      <td>None</td>\n      <td>100</td>\n      <td>Stock(conId=39832875, symbol='DXJ', exchange='...</td>\n    </tr>\n    <tr>\n      <th>1</th>\n      <td>XME</td>\n      <td>45540699</td>\n      <td>None</td>\n      <td>100</td>\n      <td>Stock(conId=45540699, symbol='XME', exchange='...</td>\n    </tr>\n    <tr>\n      <th>2</th>\n      <td>YINN</td>\n      <td>70737252</td>\n      <td>None</td>\n      <td>100</td>\n      <td>Stock(conId=70737252, symbol='YINN', exchange=...</td>\n    </tr>\n    <tr>\n      <th>3</th>\n      <td>IWM</td>\n      <td>9579970</td>\n      <td>None</td>\n      <td>100</td>\n      <td>Stock(conId=9579970, symbol='IWM', exchange='S...</td>\n    </tr>\n    <tr>\n      <th>4</th>\n      <td>UPRO</td>\n      <td>61228752</td>\n      <td>None</td>\n      <td>100</td>\n      <td>Stock(conId=61228752, symbol='UPRO', exchange=...</td>\n    </tr>\n    <tr>\n      <th>...</th>\n      <td>...</td>\n      <td>...</td>\n      <td>...</td>\n      <td>...</td>\n      <td>...</td>\n    </tr>\n    <tr>\n      <th>268</th>\n      <td>WYNN</td>\n      <td>16454492</td>\n      <td>None</td>\n      <td>100</td>\n      <td>Stock(conId=16454492, symbol='WYNN', exchange=...</td>\n    </tr>\n    <tr>\n      <th>269</th>\n      <td>XLNX</td>\n      <td>276222</td>\n      <td>None</td>\n      <td>100</td>\n      <td>Stock(conId=276222, symbol='XLNX', exchange='S...</td>\n    </tr>\n    <tr>\n      <th>270</th>\n      <td>XOM</td>\n      <td>13977</td>\n      <td>None</td>\n      <td>100</td>\n      <td>Stock(conId=13977, symbol='XOM', exchange='SMA...</td>\n    </tr>\n    <tr>\n      <th>271</th>\n      <td>YUM</td>\n      <td>3206042</td>\n      <td>None</td>\n      <td>100</td>\n      <td>Stock(conId=3206042, symbol='YUM', exchange='S...</td>\n    </tr>\n    <tr>\n      <th>272</th>\n      <td>ZTS</td>\n      <td>121665622</td>\n      <td>None</td>\n      <td>100</td>\n      <td>Stock(conId=121665622, symbol='ZTS', exchange=...</td>\n    </tr>\n  </tbody>\n</table>\n<p>265 rows × 5 columns</p>\n</div>"
     },
     "metadata": {},
     "execution_count": 3
    }
   ],
   "source": [
    "import pandas as pd\n",
    "\n",
    "df = pd.read_pickle('./data/snp_symlots.pkl')\n",
    "df"
   ]
  },
  {
   "cell_type": "code",
   "execution_count": 7,
   "metadata": {},
   "outputs": [
    {
     "output_type": "execute_result",
     "data": {
      "text/plain": "    symbol                                           contract  \\\n0     NTAP  Stock(conId=49921110, symbol='NTAP', exchange=...   \n1     TSCO  Stock(conId=6858322, symbol='TSCO', exchange='...   \n2      KSU  Stock(conId=8949, symbol='KSU', exchange='SMAR...   \n3      ZTS  Stock(conId=121665622, symbol='ZTS', exchange=...   \n4       CF  Stock(conId=35447205, symbol='CF', exchange='S...   \n..     ...                                                ...   \n260    UNP  Stock(conId=13284, symbol='UNP', exchange='SMA...   \n261   TMUS  Stock(conId=125980227, symbol='TMUS', exchange...   \n262    HCA  Stock(conId=85076790, symbol='HCA', exchange='...   \n263     MS  Stock(conId=2841574, symbol='MS', exchange='SM...   \n264   AKAM  Stock(conId=6220356, symbol='AKAM', exchange='...   \n\n                                time  marketDataType     bid  bidSize     ask  \\\n0   2020-08-26 14:36:39.935226+00:00               1   42.07     10.0   42.10   \n1   2020-08-26 14:36:59.728368+00:00               1  154.04      5.0  154.11   \n2   2020-08-26 14:36:51.792994+00:00               1  183.76      4.0  183.92   \n3   2020-08-26 14:36:40.435423+00:00               1  157.80      1.0  157.88   \n4   2020-08-26 14:36:57.723160+00:00               1   33.06      8.0   33.08   \n..                               ...             ...     ...      ...     ...   \n260 2020-08-26 14:37:18.667723+00:00               1  194.27      5.0  194.38   \n261 2020-08-26 14:36:59.981277+00:00               1  115.54      1.0  115.56   \n262 2020-08-26 14:37:18.423392+00:00               1  131.82      2.0  131.91   \n263 2020-08-26 14:37:19.920337+00:00               1   51.86     19.0   51.87   \n264 2020-08-26 14:36:59.727370+00:00               1  112.00      4.0  112.09   \n\n     askSize    last  lastSize  ...  putVolume  callVolume  histVolatility  \\\n0        8.0   42.08        10  ...      874.0        2023        0.342342   \n1        3.0  154.05         1  ...      145.0         225        0.299405   \n2        2.0  183.91         1  ...        6.0          12        0.468608   \n3        1.0  157.84         1  ...      131.0         141        0.190491   \n4        5.0   33.09         3  ...       76.0         299        0.354111   \n..       ...     ...       ...  ...        ...         ...             ...   \n260      4.0  194.36         1  ...       65.0        1319        0.214550   \n261      3.0  115.55         1  ...      267.0         372        0.228968   \n262      4.0  131.88         1  ...       50.0         118        0.343640   \n263     11.0   51.87         4  ...     1787.0        1910        0.263644   \n264      3.0  112.08         2  ...       66.0         350        0.250554   \n\n     impliedVolatility  undPrice  past12Months  next12Months    nextDate  \\\n0             0.485280     42.08       1.92000          1.92  2020-10-02   \n1             0.251521    154.05       1.45000          1.60  2020-11-20   \n2             0.326864    183.91       1.56000          1.60  2020-09-11   \n3             0.213469    157.84       0.76400          0.80  2020-11-19   \n4             0.374460     33.09       1.20000          1.20  2020-11-12   \n..                 ...       ...           ...           ...         ...   \n260           0.253377    194.36       3.88000          3.88  2020-08-28   \n261           0.234593    115.55           NaN           NaN         NaN   \n262           0.360363    131.88       1.23000           NaN         NaN   \n263           0.290701     51.87       1.65278          1.40  2020-10-29   \n264           0.268420    112.08           NaN           NaN         NaN   \n\n     nextAmount  ticks  \n0          0.48    NaN  \n1          0.40    NaN  \n2          0.40    NaN  \n3          0.20    NaN  \n4          0.30    NaN  \n..          ...    ...  \n260        0.97    NaN  \n261         NaN    NaN  \n262         NaN    NaN  \n263        0.35    NaN  \n264         NaN    NaN  \n\n[265 rows x 40 columns]",
      "text/html": "<div>\n<style scoped>\n    .dataframe tbody tr th:only-of-type {\n        vertical-align: middle;\n    }\n\n    .dataframe tbody tr th {\n        vertical-align: top;\n    }\n\n    .dataframe thead th {\n        text-align: right;\n    }\n</style>\n<table border=\"1\" class=\"dataframe\">\n  <thead>\n    <tr style=\"text-align: right;\">\n      <th></th>\n      <th>symbol</th>\n      <th>contract</th>\n      <th>time</th>\n      <th>marketDataType</th>\n      <th>bid</th>\n      <th>bidSize</th>\n      <th>ask</th>\n      <th>askSize</th>\n      <th>last</th>\n      <th>lastSize</th>\n      <th>...</th>\n      <th>putVolume</th>\n      <th>callVolume</th>\n      <th>histVolatility</th>\n      <th>impliedVolatility</th>\n      <th>undPrice</th>\n      <th>past12Months</th>\n      <th>next12Months</th>\n      <th>nextDate</th>\n      <th>nextAmount</th>\n      <th>ticks</th>\n    </tr>\n  </thead>\n  <tbody>\n    <tr>\n      <th>0</th>\n      <td>NTAP</td>\n      <td>Stock(conId=49921110, symbol='NTAP', exchange=...</td>\n      <td>2020-08-26 14:36:39.935226+00:00</td>\n      <td>1</td>\n      <td>42.07</td>\n      <td>10.0</td>\n      <td>42.10</td>\n      <td>8.0</td>\n      <td>42.08</td>\n      <td>10</td>\n      <td>...</td>\n      <td>874.0</td>\n      <td>2023</td>\n      <td>0.342342</td>\n      <td>0.485280</td>\n      <td>42.08</td>\n      <td>1.92000</td>\n      <td>1.92</td>\n      <td>2020-10-02</td>\n      <td>0.48</td>\n      <td>NaN</td>\n    </tr>\n    <tr>\n      <th>1</th>\n      <td>TSCO</td>\n      <td>Stock(conId=6858322, symbol='TSCO', exchange='...</td>\n      <td>2020-08-26 14:36:59.728368+00:00</td>\n      <td>1</td>\n      <td>154.04</td>\n      <td>5.0</td>\n      <td>154.11</td>\n      <td>3.0</td>\n      <td>154.05</td>\n      <td>1</td>\n      <td>...</td>\n      <td>145.0</td>\n      <td>225</td>\n      <td>0.299405</td>\n      <td>0.251521</td>\n      <td>154.05</td>\n      <td>1.45000</td>\n      <td>1.60</td>\n      <td>2020-11-20</td>\n      <td>0.40</td>\n      <td>NaN</td>\n    </tr>\n    <tr>\n      <th>2</th>\n      <td>KSU</td>\n      <td>Stock(conId=8949, symbol='KSU', exchange='SMAR...</td>\n      <td>2020-08-26 14:36:51.792994+00:00</td>\n      <td>1</td>\n      <td>183.76</td>\n      <td>4.0</td>\n      <td>183.92</td>\n      <td>2.0</td>\n      <td>183.91</td>\n      <td>1</td>\n      <td>...</td>\n      <td>6.0</td>\n      <td>12</td>\n      <td>0.468608</td>\n      <td>0.326864</td>\n      <td>183.91</td>\n      <td>1.56000</td>\n      <td>1.60</td>\n      <td>2020-09-11</td>\n      <td>0.40</td>\n      <td>NaN</td>\n    </tr>\n    <tr>\n      <th>3</th>\n      <td>ZTS</td>\n      <td>Stock(conId=121665622, symbol='ZTS', exchange=...</td>\n      <td>2020-08-26 14:36:40.435423+00:00</td>\n      <td>1</td>\n      <td>157.80</td>\n      <td>1.0</td>\n      <td>157.88</td>\n      <td>1.0</td>\n      <td>157.84</td>\n      <td>1</td>\n      <td>...</td>\n      <td>131.0</td>\n      <td>141</td>\n      <td>0.190491</td>\n      <td>0.213469</td>\n      <td>157.84</td>\n      <td>0.76400</td>\n      <td>0.80</td>\n      <td>2020-11-19</td>\n      <td>0.20</td>\n      <td>NaN</td>\n    </tr>\n    <tr>\n      <th>4</th>\n      <td>CF</td>\n      <td>Stock(conId=35447205, symbol='CF', exchange='S...</td>\n      <td>2020-08-26 14:36:57.723160+00:00</td>\n      <td>1</td>\n      <td>33.06</td>\n      <td>8.0</td>\n      <td>33.08</td>\n      <td>5.0</td>\n      <td>33.09</td>\n      <td>3</td>\n      <td>...</td>\n      <td>76.0</td>\n      <td>299</td>\n      <td>0.354111</td>\n      <td>0.374460</td>\n      <td>33.09</td>\n      <td>1.20000</td>\n      <td>1.20</td>\n      <td>2020-11-12</td>\n      <td>0.30</td>\n      <td>NaN</td>\n    </tr>\n    <tr>\n      <th>...</th>\n      <td>...</td>\n      <td>...</td>\n      <td>...</td>\n      <td>...</td>\n      <td>...</td>\n      <td>...</td>\n      <td>...</td>\n      <td>...</td>\n      <td>...</td>\n      <td>...</td>\n      <td>...</td>\n      <td>...</td>\n      <td>...</td>\n      <td>...</td>\n      <td>...</td>\n      <td>...</td>\n      <td>...</td>\n      <td>...</td>\n      <td>...</td>\n      <td>...</td>\n      <td>...</td>\n    </tr>\n    <tr>\n      <th>260</th>\n      <td>UNP</td>\n      <td>Stock(conId=13284, symbol='UNP', exchange='SMA...</td>\n      <td>2020-08-26 14:37:18.667723+00:00</td>\n      <td>1</td>\n      <td>194.27</td>\n      <td>5.0</td>\n      <td>194.38</td>\n      <td>4.0</td>\n      <td>194.36</td>\n      <td>1</td>\n      <td>...</td>\n      <td>65.0</td>\n      <td>1319</td>\n      <td>0.214550</td>\n      <td>0.253377</td>\n      <td>194.36</td>\n      <td>3.88000</td>\n      <td>3.88</td>\n      <td>2020-08-28</td>\n      <td>0.97</td>\n      <td>NaN</td>\n    </tr>\n    <tr>\n      <th>261</th>\n      <td>TMUS</td>\n      <td>Stock(conId=125980227, symbol='TMUS', exchange...</td>\n      <td>2020-08-26 14:36:59.981277+00:00</td>\n      <td>1</td>\n      <td>115.54</td>\n      <td>1.0</td>\n      <td>115.56</td>\n      <td>3.0</td>\n      <td>115.55</td>\n      <td>1</td>\n      <td>...</td>\n      <td>267.0</td>\n      <td>372</td>\n      <td>0.228968</td>\n      <td>0.234593</td>\n      <td>115.55</td>\n      <td>NaN</td>\n      <td>NaN</td>\n      <td>NaN</td>\n      <td>NaN</td>\n      <td>NaN</td>\n    </tr>\n    <tr>\n      <th>262</th>\n      <td>HCA</td>\n      <td>Stock(conId=85076790, symbol='HCA', exchange='...</td>\n      <td>2020-08-26 14:37:18.423392+00:00</td>\n      <td>1</td>\n      <td>131.82</td>\n      <td>2.0</td>\n      <td>131.91</td>\n      <td>4.0</td>\n      <td>131.88</td>\n      <td>1</td>\n      <td>...</td>\n      <td>50.0</td>\n      <td>118</td>\n      <td>0.343640</td>\n      <td>0.360363</td>\n      <td>131.88</td>\n      <td>1.23000</td>\n      <td>NaN</td>\n      <td>NaN</td>\n      <td>NaN</td>\n      <td>NaN</td>\n    </tr>\n    <tr>\n      <th>263</th>\n      <td>MS</td>\n      <td>Stock(conId=2841574, symbol='MS', exchange='SM...</td>\n      <td>2020-08-26 14:37:19.920337+00:00</td>\n      <td>1</td>\n      <td>51.86</td>\n      <td>19.0</td>\n      <td>51.87</td>\n      <td>11.0</td>\n      <td>51.87</td>\n      <td>4</td>\n      <td>...</td>\n      <td>1787.0</td>\n      <td>1910</td>\n      <td>0.263644</td>\n      <td>0.290701</td>\n      <td>51.87</td>\n      <td>1.65278</td>\n      <td>1.40</td>\n      <td>2020-10-29</td>\n      <td>0.35</td>\n      <td>NaN</td>\n    </tr>\n    <tr>\n      <th>264</th>\n      <td>AKAM</td>\n      <td>Stock(conId=6220356, symbol='AKAM', exchange='...</td>\n      <td>2020-08-26 14:36:59.727370+00:00</td>\n      <td>1</td>\n      <td>112.00</td>\n      <td>4.0</td>\n      <td>112.09</td>\n      <td>3.0</td>\n      <td>112.08</td>\n      <td>2</td>\n      <td>...</td>\n      <td>66.0</td>\n      <td>350</td>\n      <td>0.250554</td>\n      <td>0.268420</td>\n      <td>112.08</td>\n      <td>NaN</td>\n      <td>NaN</td>\n      <td>NaN</td>\n      <td>NaN</td>\n      <td>NaN</td>\n    </tr>\n  </tbody>\n</table>\n<p>265 rows × 40 columns</p>\n</div>"
     },
     "metadata": {},
     "execution_count": 7
    }
   ],
   "source": [
    "df_unds = pd.read_pickle('./data/df_unds1.pkl')\n",
    "df_unds"
   ]
  },
  {
   "cell_type": "code",
   "execution_count": 10,
   "metadata": {},
   "outputs": [
    {
     "output_type": "execute_result",
     "data": {
      "text/plain": "265"
     },
     "metadata": {},
     "execution_count": 10
    }
   ],
   "source": [
    "len(df_unds.symbol.unique())"
   ]
  },
  {
   "cell_type": "code",
   "execution_count": null,
   "metadata": {},
   "outputs": [],
   "source": []
  }
 ]
}