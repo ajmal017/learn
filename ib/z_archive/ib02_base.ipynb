{
 "cells": [
  {
   "cell_type": "markdown",
   "metadata": {},
   "source": [
    "# Building base data\n",
    "We will run a set of programs to understand how ib_insync generates data using async"
   ]
  },
  {
   "cell_type": "markdown",
   "metadata": {},
   "source": [
    "## SET THE MARKET"
   ]
  },
  {
   "cell_type": "code",
   "execution_count": null,
   "metadata": {},
   "outputs": [],
   "source": [
    "MARKET = \"NSE\""
   ]
  },
  {
   "cell_type": "markdown",
   "metadata": {},
   "source": [
    "## IMPORTS, CONNECTIONS, LOG, TIMER"
   ]
  },
  {
   "cell_type": "code",
   "execution_count": null,
   "metadata": {},
   "outputs": [],
   "source": [
    "import asyncio\n",
    "import pickle\n",
    "import sys\n",
    "import time\n",
    "import pandas as pd\n",
    "import random\n",
    "\n",
    "from collections import defaultdict\n",
    "from datetime import datetime\n",
    "from pprint import pprint\n",
    "\n",
    "from ib_insync import *\n",
    "\n",
    "from ib01_getsyms import get_syms\n",
    "from support import timestr\n",
    "\n",
    "from typing import Callable, Coroutine\n",
    "\n",
    "random.seed(8888)\n",
    "\n",
    "if sys.version_info[0] == 3 and sys.version_info[1] >= 8 and sys.platform.startswith('win'):\n",
    "    asyncio.set_event_loop_policy(asyncio.WindowsSelectorEventLoopPolicy())"
   ]
  },
  {
   "cell_type": "code",
   "execution_count": null,
   "metadata": {},
   "outputs": [],
   "source": [
    "import nest_asyncio\n",
    "util.startLoop()\n",
    "nest_asyncio.apply()\n",
    "\n",
    "pd.options.display.max_columns = None"
   ]
  },
  {
   "cell_type": "code",
   "execution_count": null,
   "metadata": {},
   "outputs": [],
   "source": [
    "HOST = '127.0.0.1'\n",
    "PORT = 4004 if MARKET.upper() == 'NSE' else 4002 # Paper trades!\n",
    "CID = 0\n",
    "MASTERCID = 10\n",
    "\n",
    "ib = IB()"
   ]
  },
  {
   "cell_type": "code",
   "execution_count": null,
   "metadata": {},
   "outputs": [],
   "source": [
    "# Direct logs to file with level at WARNING (30)\n",
    "util.logToFile(path='./data/data.log', level=30)\n",
    "with open('./data/data.log', 'w'): # to clear the log\n",
    "    pass"
   ]
  },
  {
   "cell_type": "markdown",
   "metadata": {},
   "source": [
    "## UNDERLYING SYMBOLS AND LOTS"
   ]
  },
  {
   "cell_type": "code",
   "execution_count": null,
   "metadata": {},
   "outputs": [],
   "source": [
    "%%time\n",
    "# get all the symbols\n",
    "df_syms = get_syms(MARKET)\n",
    "\n",
    "# ...make the symbols unique\n",
    "symbols = set(df_syms.symbol)\n",
    "\n",
    "# ...build the contracts\n",
    "raw_cts = [i for j in [[Stock(symbol, exchange, currency), Index(symbol, exchange, currency)]\n",
    "                       for symbol, exchange, currency\n",
    "                       in zip(df_syms.symbol, df_syms.exchange, df_syms.currency)] for i in j]\n",
    "\n",
    "# raw_cts = raw_cts[18:25]  # !!! DATA LIMITER !!!"
   ]
  },
  {
   "cell_type": "code",
   "execution_count": null,
   "metadata": {},
   "outputs": [],
   "source": [
    "%%time\n",
    "\n",
    "## Qualify the underlyings\n",
    "with ib.connect(HOST, PORT, CID) as ib:\n",
    "    qunds = ib.qualifyContracts(*raw_cts)\n",
    "\n",
    "qunds = list({q for q in qunds}) # Remove duplicates"
   ]
  },
  {
   "cell_type": "markdown",
   "metadata": {},
   "source": [
    "# COROUTINES"
   ]
  },
  {
   "cell_type": "markdown",
   "metadata": {},
   "source": [
    "## OHLC coroutine"
   ]
  },
  {
   "cell_type": "code",
   "execution_count": null,
   "metadata": {},
   "outputs": [],
   "source": [
    "async def ohlcCoro(c, DURATION=365):\n",
    "    ohlc = await ib.reqHistoricalDataAsync(\n",
    "                        contract=c,\n",
    "                        endDateTime=\"\",\n",
    "                        durationStr=str(DURATION) + ' D',\n",
    "                        barSizeSetting=\"1 day\",\n",
    "                        whatToShow=\"Trades\",\n",
    "                        useRTH=True)\n",
    "    await asyncio.sleep(5)\n",
    "    df = util.df(ohlc)\n",
    "    try:\n",
    "        df.insert(0, 'symbol', c.symbol)\n",
    "    except AttributeError:\n",
    "        df = None\n",
    "    return df"
   ]
  },
  {
   "cell_type": "markdown",
   "metadata": {},
   "source": [
    "## Market data coroutine"
   ]
  },
  {
   "cell_type": "code",
   "execution_count": null,
   "metadata": {},
   "outputs": [],
   "source": [
    "async def mktdataCoro(c, FILL_DELAY=5):\n",
    "\n",
    "    tick = ib.reqMktData(c, '456, 104, 106, 100, 101, 165')\n",
    "    await asyncio.sleep(FILL_DELAY)\n",
    "    ib.cancelMktData(c)\n",
    "    \n",
    "    m_df = pd.DataFrame(util.df([tick]))\n",
    "    \n",
    "    div_df = pd.DataFrame(m_df.dividends.tolist())\n",
    "    df1 = m_df.drop('dividends', 1).join(div_df)\n",
    "    df1.insert(0, 'symbol', [c.symbol for c in df1.contract])\n",
    "\n",
    "    df2 = df1.dropna(axis=1)\n",
    "\n",
    "    # Extract columns with legit values in them\n",
    "    df3 = df2[[c for c in df2.columns if df2.loc[0, c]]]\n",
    "\n",
    "    return df3"
   ]
  },
  {
   "cell_type": "markdown",
   "metadata": {},
   "source": [
    "## Chains coroutine"
   ]
  },
  {
   "cell_type": "code",
   "execution_count": null,
   "metadata": {},
   "outputs": [],
   "source": [
    "async def chainsCoro(c):\n",
    "    chains = await ib.reqSecDefOptParamsAsync(underlyingSymbol=c.symbol,\n",
    "                                               futFopExchange=\"\",\n",
    "                                               underlyingSecType=c.secType,\n",
    "                                               underlyingConId=c.conId)\n",
    "    \n",
    "\n",
    "    # Pick up one chain if it is a list\n",
    "    chain = chains[0] if isinstance(chains, list) else chains\n",
    "\n",
    "    df1 = pd.DataFrame([chain])\n",
    "\n",
    "    # Do a cartesian merge\n",
    "    df2 = pd.merge(pd.DataFrame(df1.expirations[0], columns=['expiry']).assign(key=1), \n",
    "             pd.DataFrame(df1.strikes[0], columns=['strike']).assign(key=1), on='key').\\\n",
    "                merge(df1.assign(key=1)).rename(columns={'tradingClass': 'symbol', 'multiplier': 'mult'})\\\n",
    "                    [['symbol', 'expiry', 'strike', 'exchange', 'mult']]\n",
    "\n",
    "    return df2"
   ]
  },
  {
   "cell_type": "markdown",
   "metadata": {},
   "source": [
    "## Base Cororutine"
   ]
  },
  {
   "cell_type": "code",
   "execution_count": null,
   "metadata": {},
   "outputs": [],
   "source": [
    "async def baseCoro(qunds:list) -> None: \n",
    "    for c in qunds:\n",
    "        todo.add(asyncio.create_task(ohlcCoro(c, DURATION=365), name=c.symbol+'_ohlc'))\n",
    "        todo.add(asyncio.create_task(mktdataCoro(c, FILL_DELAY=11), name=c.symbol+'_und'))\n",
    "        todo.add(asyncio.create_task(chainsCoro(c), name=c.symbol+'_chains'))"
   ]
  },
  {
   "cell_type": "markdown",
   "metadata": {},
   "source": [
    "## Progress Coroutine"
   ]
  },
  {
   "cell_type": "code",
   "execution_count": null,
   "metadata": {},
   "outputs": [],
   "source": [
    "async def progressAsync(cts, \n",
    "                        algo: Callable[..., Coroutine],\n",
    "                        save_algo: Callable[..., Coroutine],\n",
    "                        pkl_timeout: float=4.0,\n",
    "                        total_timeout: float=0.0,\n",
    "                        FSPATH: str='./data/',\n",
    "                        ) -> None:\n",
    "    \n",
    "    # create a task for the algo\n",
    "    task = asyncio.create_task(algo(cts), name=algo.__name__)\n",
    "    \n",
    "    todo.add(task) # add task to the asyncio loop\n",
    "    \n",
    "    start = time.time()\n",
    "    \n",
    "    while len(todo):\n",
    "        \n",
    "        done, pending = await asyncio.wait(todo, timeout=pkl_timeout)\n",
    "        \n",
    "        # remove done task from todo after the timeout, update result and pickle it\n",
    "        todo.difference_update(done)\n",
    "        result.update(done)\n",
    "        save_algo(FSPATH, result)\n",
    "        \n",
    "        # report pendings\n",
    "        pending_names = (t.get_name() for t in todo)\n",
    "        print(f\"{len(todo)}: \"+ \" \".join(sorted(pending_names))[-75:])\n",
    "        \n",
    "        # check for total_timeout\n",
    "        if total_timeout > 0.0:\n",
    "            if time.time() - start > total_timeout:\n",
    "                print(f'\\nProgram exceeded total_timeout of {total_timeout} seconds')\n",
    "                print(f'Cancelling pending todos')\n",
    "                for task in todo:\n",
    "                    task.cancel()\n",
    "                done, pending = await asyncio.wait(todo, timeout=1.0)\n",
    "                todo.difference_update(done)\n",
    "                todo.difference_update(pending) \n",
    "    \n",
    "    # success!\n",
    "    save_algo(FSPATH, result)\n",
    "    end = time.time()\n",
    "    print(f\"Took {int(end-start)} seconds\")"
   ]
  },
  {
   "cell_type": "markdown",
   "metadata": {},
   "source": [
    "## Saving base progress output function"
   ]
  },
  {
   "cell_type": "code",
   "execution_count": null,
   "metadata": {},
   "outputs": [],
   "source": [
    "def saveBase(FSPATH, result):\n",
    "    ohlcs = []\n",
    "    unds = []\n",
    "    chains = []\n",
    "    basetype = []\n",
    "    for v in list(result):\n",
    "        try:\n",
    "          basetype = v.get_name().split('_')[1]\n",
    "        except IndexError as e:\n",
    "#             print(f\"{v.get_name()} is not a valid base df\")\n",
    "            pass\n",
    "        if basetype == 'ohlc':\n",
    "            ohlcs.append(v.result())\n",
    "        if basetype == 'und':\n",
    "            unds.append(v.result())\n",
    "        if basetype == 'chains':\n",
    "            chains.append(v.result())\n",
    "\n",
    "    # build the dataframes and pickle\n",
    "    if unds:\n",
    "        df_unds = pd.concat(unds, ignore_index=True)\n",
    "        df_unds.to_pickle(FSPATH+'df_unds.pkl')\n",
    "    \n",
    "    if ohlcs:\n",
    "        df_ohlcs = pd.concat(ohlcs, ignore_index=True)\n",
    "        df_ohlcs.to_pickle(FSPATH+'df_ohlcs.pkl')\n",
    "        \n",
    "    if chains:\n",
    "        df_chains = pd.concat(chains, ignore_index=True)\n",
    "        df_chains.to_pickle(FSPATH+'df_chains.pkl')"
   ]
  },
  {
   "cell_type": "code",
   "execution_count": null,
   "metadata": {},
   "outputs": [],
   "source": [
    "%%time\n",
    "\n",
    "# Getting the base ready\n",
    "cts = qunds\n",
    "todo = set()\n",
    "result = set()\n",
    "with ib.connect(HOST, PORT, CID) as ib:\n",
    "    ib.run(progressAsync(cts=cts, algo=baseCoro, save_algo=saveBase, total_timeout=0))"
   ]
  },
  {
   "cell_type": "markdown",
   "metadata": {},
   "source": [
    "# Making df_opts"
   ]
  },
  {
   "cell_type": "code",
   "execution_count": null,
   "metadata": {},
   "outputs": [],
   "source": [
    "FSPATH: str='./data/'\n",
    "df_chains = pd.read_pickle(FSPATH+'df_chains.pkl')\n",
    "\n",
    "df_ch1 = pd.concat([df_chains.assign(right='P'), \n",
    "          df_chains.assign(right='C')], \n",
    "          ignore_index=False)\n",
    "\n",
    "puts = [Option(symbol=s, lastTradeDateOrContractMonth=e, strike=k, right='P', exchange=x) \n",
    "                    for s, e, k, x in \n",
    "                    zip(df_ch1.symbol, df_ch1.expiry, df_ch1.strike, ['NSE' \n",
    "                        if MARKET.upper() == 'NSE' else 'SMART']*len(df_ch1))]\n",
    "\n",
    "calls = [Option(symbol=s, lastTradeDateOrContractMonth=e, strike=k, right='C', exchange=x) \n",
    "                    for s, e, k, x in \n",
    "                    zip(df_ch1.symbol, df_ch1.expiry, df_ch1.strike, ['NSE' \n",
    "                        if MARKET.upper() == 'NSE' else 'SMART']*len(df_ch1))]\n",
    "\n",
    "raw_opts = puts + calls\n",
    "\n",
    "cts = raw_opts[:300]\n",
    "cts"
   ]
  },
  {
   "cell_type": "markdown",
   "metadata": {},
   "source": [
    "## Qualifying options"
   ]
  },
  {
   "cell_type": "raw",
   "metadata": {},
   "source": [
    "async def optsCoro(opts):\n",
    "    blk = 200\n",
    "    optblks = [opts[i: i+blk] for i in range(0, len(opts), blk)]\n",
    "    for b in optblks:\n",
    "        tasks = await asyncio.create_task(ib.qualifyContractsAsync(*b), \n",
    "                                     name=f'{b[0].symbol}_{b[0].lastTradeDateOrContractMonth[:-2]}_'+\\\n",
    "                                             f'{b[len(b)-1].symbol}_{b[len(b)-1].lastTradeDateOrContractMonth[:-2]}')\n",
    "    return tasks"
   ]
  },
  {
   "cell_type": "raw",
   "metadata": {},
   "source": [
    "with ib.connect(HOST, PORT, CID) as ib:\n",
    "    x = asyncio.run(optsCoro(cts))\n",
    "    \n",
    "x"
   ]
  },
  {
   "cell_type": "code",
   "execution_count": null,
   "metadata": {},
   "outputs": [],
   "source": [
    "pkl_timeout = 10\n",
    "todo = set()\n",
    "result = set()"
   ]
  },
  {
   "cell_type": "code",
   "execution_count": null,
   "metadata": {},
   "outputs": [],
   "source": [
    "async def qualCoro(opts: list):\n",
    "    contracts = await ib.qualifyContractsAsync(*opts)\n",
    "    await asyncio.sleep(0)\n",
    "    return contracts"
   ]
  },
  {
   "cell_type": "code",
   "execution_count": null,
   "metadata": {},
   "outputs": [],
   "source": [
    "async def qOptsCoro(opts: list) -> None:\n",
    "    blk = 100\n",
    "    optblks = [opts[i: i+blk] for i in range(0, len(opts), blk)]\n",
    "    for b in optblks:\n",
    "        todo.add(asyncio.create_task(qualCoro(b), \n",
    "                                     name=f'{b[0].symbol}{b[0].lastTradeDateOrContractMonth[:-2]}{b[0].right}{b[0].strike}'+\\\n",
    "                                             f'{b[len(b)-1].symbol}{b[len(b)-1].lastTradeDateOrContractMonth[:-2]}{b[len(b)-1].right}{b[len(b)-1].strike}'))"
   ]
  },
  {
   "cell_type": "code",
   "execution_count": null,
   "metadata": {},
   "outputs": [],
   "source": [
    "with ib.connect(HOST, PORT, CID) as ib:\n",
    "    \n",
    "    asyncio.create_task(qOptsCoro(cts), name=qOptsCoro.__name__)\n",
    "    \n",
    "    while len(todo):\n",
    "\n",
    "        done, pending = await asyncio.wait(todo, timeout=pkl_timeout)\n",
    "\n",
    "        # remove done task from todo after the timeout, update result and pickle it\n",
    "        todo.difference_update(done)\n",
    "        result.update(done)\n",
    "\n",
    "        # report pendings\n",
    "        pending_names = (t.get_name() for t in todo)\n",
    "        print(f\"{len(todo)}: \"+ \" \".join(sorted(pending_names))[-75:])"
   ]
  },
  {
   "cell_type": "code",
   "execution_count": null,
   "metadata": {},
   "outputs": [],
   "source": [
    "result"
   ]
  },
  {
   "cell_type": "code",
   "execution_count": null,
   "metadata": {},
   "outputs": [],
   "source": [
    "done"
   ]
  },
  {
   "cell_type": "code",
   "execution_count": null,
   "metadata": {},
   "outputs": [],
   "source": [
    "\n",
    "total_timeout = 0"
   ]
  },
  {
   "cell_type": "code",
   "execution_count": null,
   "metadata": {},
   "outputs": [],
   "source": [
    "todo.add(task) # add task to the asyncio loop"
   ]
  },
  {
   "cell_type": "code",
   "execution_count": null,
   "metadata": {},
   "outputs": [],
   "source": [
    "todo"
   ]
  },
  {
   "cell_type": "code",
   "execution_count": null,
   "metadata": {},
   "outputs": [],
   "source": [
    "start = time.time()\n",
    "\n",
    "while len(todo):\n",
    "\n",
    "    done, pending = await asyncio.wait(todo, timeout=pkl_timeout)\n",
    "\n",
    "    # remove done task from todo after the timeout, update result and pickle it\n",
    "    todo.difference_update(done)\n",
    "    result.update(done)\n",
    "    \n",
    "    # report pendings\n",
    "    pending_names = (t.get_name() for t in todo)\n",
    "    print(f\"{len(todo)}: \"+ \" \".join(sorted(pending_names))[-75:])\n",
    "\n",
    "    # check for total_timeout\n",
    "    if total_timeout > 0.0:\n",
    "        if time.time() - start > total_timeout:\n",
    "            print(f'\\nProgram exceeded total_timeout of {total_timeout} seconds')\n",
    "            print(f'Cancelling pending todos')\n",
    "            for task in todo:\n",
    "                task.cancel()\n",
    "            done, pending = await asyncio.wait(todo, timeout=1.0)\n",
    "            todo.difference_update(done)\n",
    "            todo.difference_update(pending) \n",
    "    \n",
    "# success!\n",
    "# saveQuals(FSPATH, result)\n",
    "end = time.time()\n",
    "print(f\"Took {int(end-start)} seconds\")"
   ]
  },
  {
   "cell_type": "code",
   "execution_count": null,
   "metadata": {},
   "outputs": [],
   "source": [
    "task"
   ]
  },
  {
   "cell_type": "code",
   "execution_count": null,
   "metadata": {},
   "outputs": [],
   "source": []
  },
  {
   "cell_type": "markdown",
   "metadata": {},
   "source": [
    "## Saving option qualification progress output function"
   ]
  },
  {
   "cell_type": "code",
   "execution_count": null,
   "metadata": {},
   "outputs": [],
   "source": [
    "def saveQuals(FSPATH, result):\n",
    "    \n",
    "    with open(FSPATH+'qualed_opts.pkl', 'wb') as handle:\n",
    "        pickle.dump((r.result() for r in result), \n",
    "                    handle, protocol=pickle.HIGHEST_PROTOCOL)"
   ]
  },
  {
   "cell_type": "code",
   "execution_count": null,
   "metadata": {},
   "outputs": [],
   "source": [
    "%%time\n",
    "\n",
    "# Getting the qualifications ready\n",
    "\n",
    "ib = IB()\n",
    "\n",
    "cts = raw_opts[:500]\n",
    "todo = set()\n",
    "result = set()\n",
    "with ib.connect(HOST, PORT, CID) as ib:\n",
    "    ib.run(progressAsync(cts=cts, algo=qOptsCoro, save_algo=saveQuals, total_timeout=0))"
   ]
  },
  {
   "cell_type": "code",
   "execution_count": null,
   "metadata": {},
   "outputs": [],
   "source": []
  }
 ],
 "metadata": {
  "kernelspec": {
   "display_name": "Python 3.8.1 32-bit",
   "language": "python",
   "name": "python38132bit2115ca79f6634adbad3a74c57c1d7c04"
  },
  "language_info": {
   "codemirror_mode": {
    "name": "ipython",
    "version": 3
   },
   "file_extension": ".py",
   "mimetype": "text/x-python",
   "name": "python",
   "nbconvert_exporter": "python",
   "pygments_lexer": "ipython3",
   "version": "3.8.1"
  }
 },
 "nbformat": 4,
 "nbformat_minor": 4
}
