{
 "cells": [
  {
   "cell_type": "markdown",
   "metadata": {},
   "source": [
    "# Introduction\n",
    "Here are some sample programs to run flex queries using IBKR for SNP live\n",
    "\n",
    "# Structure\n",
    "Each flex query needs:\n",
    " - a token\n",
    " - a queryId\n",
    "\n",
    "## SNP Tokens and QueryIds\n",
    "### Token details\n",
    " - **Token**: 1234567891234567891234 \n",
    "   - (Log-in to IBKR *Account Management* -> *Account Settings* -> Under *Reporting* section, click the wheel of *Flex Web Service* to get the token number)\n",
    " - **Activation Period**: 2020-04-22, 21:23:37 EDT — 2021-03-24, 21:23:37 EDT\n",
    "\n",
    "### queryIDs\n",
    " - **Trade PnL report**: 197433\n",
    " - **Default Positions report**: 238763\n",
    " - **Default Trades report**: 238762\n",
    "\n",
    "# Reports\n",
    "## PnL Report\n",
    "Trade confirmation flex queries work well\n",
    "\n"
   ]
  },
  {
   "cell_type": "code",
   "execution_count": 4,
   "metadata": {},
   "outputs": [],
   "source": [
    "# extracting sample df from a Trade PnL report\n",
    "from ib_insync import FlexReport\n",
    "pnl_report = FlexReport(token=1234567891234567891234, queryId=197433, path=\"./temp.xml\")"
   ]
  },
  {
   "cell_type": "code",
   "execution_count": 5,
   "metadata": {},
   "outputs": [
    {
     "output_type": "execute_result",
     "data": {
      "text/plain": "{'FlexQueryResponse', 'FlexStatement', 'FlexStatements', 'TradeConfirm'}"
     },
     "metadata": {},
     "execution_count": 5
    }
   ],
   "source": [
    "# list report topics\n",
    "pnl_report.topics()"
   ]
  },
  {
   "cell_type": "code",
   "execution_count": 7,
   "metadata": {},
   "outputs": [
    {
     "output_type": "execute_result",
     "data": {
      "text/plain": "      assetCategory                 symbol           description putCall  \\\n0               STK                   ABBV            ABBVIE INC           \n1               STK                   ABBV            ABBVIE INC           \n677             OPT  AAPL  190802P00195000  AAPL 02AUG19 195.0 P       P   \n678             OPT  AAPL  190802P00195000  AAPL 02AUG19 195.0 P       P   \n10831          CASH                USD.SGD               USD.SGD           \n10832          CASH                USD.SGD               USD.SGD           \n\n      strike     expiry  multiplier           orderTime settleDate buySell  \\\n0                                 1                      28-Jan-20     BUY   \n1                                 1                      31-Jan-20     BUY   \n677      195  02-Aug-19         100                      05-Aug-19     BUY   \n678      195  02-Aug-19         100  02-Aug-19 08:06:55  05-Aug-19    SELL   \n10831                             1  18-Mar-20 13:33:03  20-Mar-20     BUY   \n10832                             1  23-Mar-20 04:01:52  25-Mar-20     BUY   \n\n       quantity     price       amount     proceeds  commission  \n0         100.0  87.00000   8700.00000  -8700.00000    0.000000  \n1         100.0  87.00000   8700.00000  -8700.00000    0.000000  \n677         1.0   0.00000      0.00000      0.00000    0.000000  \n678        -1.0   0.16000    -16.00000     16.00000   -0.675231  \n10831   21203.0   1.44592  30657.84176 -30657.84176   -0.429021  \n10832    8426.0   1.45597  12268.00322 -12268.00322   -0.169284  ",
      "text/html": "<div>\n<style scoped>\n    .dataframe tbody tr th:only-of-type {\n        vertical-align: middle;\n    }\n\n    .dataframe tbody tr th {\n        vertical-align: top;\n    }\n\n    .dataframe thead th {\n        text-align: right;\n    }\n</style>\n<table border=\"1\" class=\"dataframe\">\n  <thead>\n    <tr style=\"text-align: right;\">\n      <th></th>\n      <th>assetCategory</th>\n      <th>symbol</th>\n      <th>description</th>\n      <th>putCall</th>\n      <th>strike</th>\n      <th>expiry</th>\n      <th>multiplier</th>\n      <th>orderTime</th>\n      <th>settleDate</th>\n      <th>buySell</th>\n      <th>quantity</th>\n      <th>price</th>\n      <th>amount</th>\n      <th>proceeds</th>\n      <th>commission</th>\n    </tr>\n  </thead>\n  <tbody>\n    <tr>\n      <th>0</th>\n      <td>STK</td>\n      <td>ABBV</td>\n      <td>ABBVIE INC</td>\n      <td></td>\n      <td></td>\n      <td></td>\n      <td>1</td>\n      <td></td>\n      <td>28-Jan-20</td>\n      <td>BUY</td>\n      <td>100.0</td>\n      <td>87.00000</td>\n      <td>8700.00000</td>\n      <td>-8700.00000</td>\n      <td>0.000000</td>\n    </tr>\n    <tr>\n      <th>1</th>\n      <td>STK</td>\n      <td>ABBV</td>\n      <td>ABBVIE INC</td>\n      <td></td>\n      <td></td>\n      <td></td>\n      <td>1</td>\n      <td></td>\n      <td>31-Jan-20</td>\n      <td>BUY</td>\n      <td>100.0</td>\n      <td>87.00000</td>\n      <td>8700.00000</td>\n      <td>-8700.00000</td>\n      <td>0.000000</td>\n    </tr>\n    <tr>\n      <th>677</th>\n      <td>OPT</td>\n      <td>AAPL  190802P00195000</td>\n      <td>AAPL 02AUG19 195.0 P</td>\n      <td>P</td>\n      <td>195</td>\n      <td>02-Aug-19</td>\n      <td>100</td>\n      <td></td>\n      <td>05-Aug-19</td>\n      <td>BUY</td>\n      <td>1.0</td>\n      <td>0.00000</td>\n      <td>0.00000</td>\n      <td>0.00000</td>\n      <td>0.000000</td>\n    </tr>\n    <tr>\n      <th>678</th>\n      <td>OPT</td>\n      <td>AAPL  190802P00195000</td>\n      <td>AAPL 02AUG19 195.0 P</td>\n      <td>P</td>\n      <td>195</td>\n      <td>02-Aug-19</td>\n      <td>100</td>\n      <td>02-Aug-19 08:06:55</td>\n      <td>05-Aug-19</td>\n      <td>SELL</td>\n      <td>-1.0</td>\n      <td>0.16000</td>\n      <td>-16.00000</td>\n      <td>16.00000</td>\n      <td>-0.675231</td>\n    </tr>\n    <tr>\n      <th>10831</th>\n      <td>CASH</td>\n      <td>USD.SGD</td>\n      <td>USD.SGD</td>\n      <td></td>\n      <td></td>\n      <td></td>\n      <td>1</td>\n      <td>18-Mar-20 13:33:03</td>\n      <td>20-Mar-20</td>\n      <td>BUY</td>\n      <td>21203.0</td>\n      <td>1.44592</td>\n      <td>30657.84176</td>\n      <td>-30657.84176</td>\n      <td>-0.429021</td>\n    </tr>\n    <tr>\n      <th>10832</th>\n      <td>CASH</td>\n      <td>USD.SGD</td>\n      <td>USD.SGD</td>\n      <td></td>\n      <td></td>\n      <td></td>\n      <td>1</td>\n      <td>23-Mar-20 04:01:52</td>\n      <td>25-Mar-20</td>\n      <td>BUY</td>\n      <td>8426.0</td>\n      <td>1.45597</td>\n      <td>12268.00322</td>\n      <td>-12268.00322</td>\n      <td>-0.169284</td>\n    </tr>\n  </tbody>\n</table>\n</div>"
     },
     "metadata": {},
     "execution_count": 7
    }
   ],
   "source": [
    "# putting that into a dataframe\n",
    "df_pnl=pnl_report.df('TradeConfirm')\n",
    "df_pnl.groupby('assetCategory').head(2) # split by assetCategory\n"
   ]
  },
  {
   "cell_type": "markdown",
   "metadata": {},
   "source": [
    "...however, Activity flex queries don't seem to work, as shown below.\n",
    "## Position Report\n"
   ]
  },
  {
   "cell_type": "code",
   "execution_count": 8,
   "metadata": {},
   "outputs": [
    {
     "output_type": "error",
     "ename": "ParseError",
     "evalue": "not well-formed (invalid token): line 1, column 17 (<string>)",
     "traceback": [
      "Traceback \u001b[1;36m(most recent call last)\u001b[0m:\n",
      "  File \u001b[0;32m\"C:\\Users\\User\\AppData\\Local\\Programs\\Python\\Python38-32\\lib\\site-packages\\IPython\\core\\interactiveshell.py\"\u001b[0m, line \u001b[0;32m3319\u001b[0m, in \u001b[0;35mrun_code\u001b[0m\n    exec(code_obj, self.user_global_ns, self.user_ns)\n",
      "  File \u001b[0;32m\"<ipython-input-8-d3dd962dd5ab>\"\u001b[0m, line \u001b[0;32m3\u001b[0m, in \u001b[0;35m<module>\u001b[0m\n    position_report = FlexReport(token=1013538784099328308548, queryId=238763, path=\"./temp.xml\")\n",
      "  File \u001b[0;32m\"C:\\Users\\User\\AppData\\Local\\Programs\\Python\\Python38-32\\lib\\site-packages\\ib_insync\\flexreport.py\"\u001b[0m, line \u001b[0;32m47\u001b[0m, in \u001b[0;35m__init__\u001b[0m\n    self.download(token, queryId)\n",
      "  File \u001b[0;32m\"C:\\Users\\User\\AppData\\Local\\Programs\\Python\\Python38-32\\lib\\site-packages\\ib_insync\\flexreport.py\"\u001b[0m, line \u001b[0;32m101\u001b[0m, in \u001b[0;35mdownload\u001b[0m\n    self.root = et.fromstring(self.data)\n",
      "\u001b[1;36m  File \u001b[1;32m\"C:\\Users\\User\\AppData\\Local\\Programs\\Python\\Python38-32\\lib\\xml\\etree\\ElementTree.py\"\u001b[1;36m, line \u001b[1;32m1320\u001b[1;36m, in \u001b[1;35mXML\u001b[1;36m\u001b[0m\n\u001b[1;33m    parser.feed(text)\u001b[0m\n",
      "\u001b[1;36m  File \u001b[1;32m\"<string>\"\u001b[1;36m, line \u001b[1;32munknown\u001b[0m\n\u001b[1;31mParseError\u001b[0m\u001b[1;31m:\u001b[0m not well-formed (invalid token): line 1, column 17\n"
     ]
    }
   ],
   "source": [
    "# Extract position report\n",
    "from ib_insync import FlexReport\n",
    "position_report = FlexReport(token=1234567891234567891234, queryId=238763, path=\"./temp.xml\")"
   ]
  },
  {
   "cell_type": "markdown",
   "metadata": {},
   "source": [
    "## Trade report"
   ]
  },
  {
   "cell_type": "code",
   "execution_count": 1,
   "metadata": {},
   "outputs": [
    {
     "output_type": "error",
     "ename": "ParseError",
     "evalue": "not well-formed (invalid token): line 1, column 17 (<string>)",
     "traceback": [
      "Traceback \u001b[1;36m(most recent call last)\u001b[0m:\n",
      "  File \u001b[0;32m\"C:\\Users\\User\\AppData\\Local\\Programs\\Python\\Python38-32\\lib\\site-packages\\IPython\\core\\interactiveshell.py\"\u001b[0m, line \u001b[0;32m3319\u001b[0m, in \u001b[0;35mrun_code\u001b[0m\n    exec(code_obj, self.user_global_ns, self.user_ns)\n",
      "  File \u001b[0;32m\"<ipython-input-1-5cd303862475>\"\u001b[0m, line \u001b[0;32m3\u001b[0m, in \u001b[0;35m<module>\u001b[0m\n    trade_report = FlexReport(token=1013538784099328308548, queryId=238762)\n",
      "  File \u001b[0;32m\"C:\\Users\\User\\AppData\\Local\\Programs\\Python\\Python38-32\\lib\\site-packages\\ib_insync\\flexreport.py\"\u001b[0m, line \u001b[0;32m47\u001b[0m, in \u001b[0;35m__init__\u001b[0m\n    self.download(token, queryId)\n",
      "  File \u001b[0;32m\"C:\\Users\\User\\AppData\\Local\\Programs\\Python\\Python38-32\\lib\\site-packages\\ib_insync\\flexreport.py\"\u001b[0m, line \u001b[0;32m101\u001b[0m, in \u001b[0;35mdownload\u001b[0m\n    self.root = et.fromstring(self.data)\n",
      "\u001b[1;36m  File \u001b[1;32m\"C:\\Users\\User\\AppData\\Local\\Programs\\Python\\Python38-32\\lib\\xml\\etree\\ElementTree.py\"\u001b[1;36m, line \u001b[1;32m1320\u001b[1;36m, in \u001b[1;35mXML\u001b[1;36m\u001b[0m\n\u001b[1;33m    parser.feed(text)\u001b[0m\n",
      "\u001b[1;36m  File \u001b[1;32m\"<string>\"\u001b[1;36m, line \u001b[1;32munknown\u001b[0m\n\u001b[1;31mParseError\u001b[0m\u001b[1;31m:\u001b[0m not well-formed (invalid token): line 1, column 17\n"
     ]
    }
   ],
   "source": [
    "# Extract trade report\n",
    "from ib_insync import FlexReport\n",
    "trade_report = FlexReport(token=1013538784099328308548, queryId=238762)"
   ]
  },
  {
   "cell_type": "markdown",
   "metadata": {},
   "source": [
    "Question has been asked in [groups.io](https://groups.io/g/insync/message/4584)\n",
    "\n",
    "Perhaps we need to try using Trade confirmation flex query format for activity flex query !!!"
   ]
  },
  {
   "cell_type": "code",
   "execution_count": null,
   "metadata": {},
   "outputs": [],
   "source": []
  }
 ],
 "metadata": {
  "language_info": {
   "codemirror_mode": {
    "name": "ipython",
    "version": 3
   },
   "file_extension": ".py",
   "mimetype": "text/x-python",
   "name": "python",
   "nbconvert_exporter": "python",
   "pygments_lexer": "ipython3",
   "version": "3.8.1-final"
  },
  "orig_nbformat": 2,
  "kernelspec": {
   "name": "python38132bit2115ca79f6634adbad3a74c57c1d7c04",
   "display_name": "Python 3.8.1 32-bit"
  }
 },
 "nbformat": 4,
 "nbformat_minor": 2
}