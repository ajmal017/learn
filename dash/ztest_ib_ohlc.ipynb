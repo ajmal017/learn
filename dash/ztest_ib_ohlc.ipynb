{
 "nbformat": 4,
 "nbformat_minor": 2,
 "metadata": {
  "language_info": {
   "name": "python",
   "codemirror_mode": {
    "name": "ipython",
    "version": 3
   },
   "version": "3.8.1-final"
  },
  "orig_nbformat": 2,
  "file_extension": ".py",
  "mimetype": "text/x-python",
  "name": "python",
  "npconvert_exporter": "python",
  "pygments_lexer": "ipython3",
  "version": 3,
  "kernelspec": {
   "name": "python38132bit2115ca79f6634adbad3a74c57c1d7c04",
   "display_name": "Python 3.8.1 32-bit"
  }
 },
 "cells": [
  {
   "cell_type": "code",
   "execution_count": null,
   "metadata": {},
   "outputs": [],
   "source": [
    "import pandas as pd\n",
    "import plotly.graph_objects as go\n",
    "\n",
    "# import ibkr data\n",
    "MARKET = 'SNP'\n",
    "SYMBOL = 'AAPL'\n",
    "\n",
    "df_ohlcs = pd.read_pickle(\"C:/Users/User/Documents/Business/Projects/ib/data/\"+MARKET.lower()+\"/_df_ohlcs.pkl\")\n",
    "df_unds = pd.read_pickle(\"C:/Users/User/Documents/Business/Projects/ib/data/\"+MARKET.lower()+\"/_df_unds.pkl\")\n",
    "df_bands = pd.read_pickle(\"C:/Users/User/Documents/Business/Projects/ib/data/\"+MARKET.lower()+\"/_df_bands.pkl\")\n",
    "\n",
    "df = df_ohlcs[df_ohlcs.symbol==SYMBOL]\n",
    "\n",
    "# prepare the data\n",
    "data = go.Ohlc(\n",
    "    x=df.date,\n",
    "    open=df.open,\n",
    "    high=df.high,\n",
    "    low=df.low,\n",
    "    close=df.close)\n",
    "\n",
    "# prepare OHLC figure with layouts\n",
    "fig = go.Figure(data=data,\n",
    "                layout_title_text=f\"OHLC for {SYMBOL}\",\n",
    "                layout_title_xref='paper',\n",
    "                layout_xaxis_title='Date',\n",
    "                layout_yaxis_title='$'\n",
    ")\n",
    "\n",
    "# show the figure\n",
    "fig.show()"
   ]
  },
  {
   "cell_type": "code",
   "execution_count": null,
   "metadata": {},
   "outputs": [],
   "source": [
    "# Get the bands for a DTE\n",
    "DTE=14\n",
    "df_b = df_bands[(df_bands.symbol == SYMBOL) &\n",
    "         (df_bands.dte == DTE)]\n",
    "\n",
    "# Get the bands closest to the strikeref\n",
    "g = df_b.groupby(['symbol', 'expiry', 'right'], as_index=False)\n",
    "df_sr = g.apply(lambda x: x.iloc[abs(x.strike-x.strikeref).argsort()[:1]])"
   ]
  },
  {
   "cell_type": "code",
   "execution_count": null,
   "metadata": {},
   "outputs": [],
   "source": [
    "df_sr"
   ]
  },
  {
   "cell_type": "code",
   "execution_count": null,
   "metadata": {},
   "outputs": [],
   "source": [
    "# add a horizontal line for strikeref\n",
    "\n",
    "fig.update_layout(shapes=[\n",
    "    dict(\n",
    "      type= 'line',\n",
    "      yref= 'paper', y0=df_sr.strikeref[0], y1= df_sr.strikeref[0],\n",
    "      xref= 'x', x0=df.date.min(), x1=df.date.max()\n",
    "    )\n",
    "])"
   ]
  },
  {
   "cell_type": "code",
   "execution_count": null,
   "metadata": {},
   "outputs": [],
   "source": [
    "    dict(\n",
    "      type= 'line',\n",
    "      yref= 'paper', y0=df_sr.strikeref[0], y1= df_sr.strikeref[0],\n",
    "      xref= 'x', x0=df.date.min(), x1=df.date.max()\n",
    "    )"
   ]
  },
  {
   "cell_type": "code",
   "execution_count": null,
   "metadata": {},
   "outputs": [],
   "source": [
    "go.Scatter(x=df.date, y=df_sr.strikeref[0], mode='lines', name='')"
   ]
  },
  {
   "cell_type": "code",
   "execution_count": null,
   "metadata": {},
   "outputs": [],
   "source": [
    "# add a horizontal line for strikeref\n",
    "call_line = dict(type='line',\n",
    "    xref='x', x=0, x1=1,\n",
    "    yref='paper', y0=df_sr.strikeref[0], y1=df_sr.strikeref[0]\n",
    "    )"
   ]
  },
  {
   "cell_type": "code",
   "execution_count": 4,
   "metadata": {},
   "outputs": [
    {
     "data": {
      "text/plain": "[{'label': 'New York City', 'value': 'NYC'},\n {'label': 'Montréal', 'value': 'MTL'},\n {'label': 'San Francisco', 'value': 'SF'}]"
     },
     "execution_count": 4,
     "metadata": {},
     "output_type": "execute_result"
    }
   ],
   "source": [
    "[\n",
    "dict(label='New York City', value='NYC'),\n",
    "dict(label=u'Montréal', value='MTL'),\n",
    "dict(label='San Francisco', value='SF')\n",
    "]"
   ]
  },
  {
   "cell_type": "code",
   "execution_count": 2,
   "metadata": {},
   "outputs": [],
   "source": [
    "# import dash\n",
    "import dash_core_components as dcc\n",
    "import dash_html_components as html\n",
    "multi_dropdown = [\n",
    "    html.Label('Multi-Dropdown'),\n",
    "    dcc.Dropdown(\n",
    "        options=[\n",
    "            dict(label='New York City', value='NYC'),\n",
    "            dict(label=u'Montréal', value='MTL'),\n",
    "            dict(label='San Francisco', value='SF')\n",
    "        ],\n",
    "        value=['MTL', 'SF'],\n",
    "        multi=True\n",
    "    )]"
   ]
  },
  {
   "cell_type": "code",
   "execution_count": 3,
   "metadata": {},
   "outputs": [
    {
     "data": {
      "text/plain": "[Label('Multi-Dropdown'),\n Dropdown(options=[{'label': 'New York City', 'value': 'NYC'}, {'label': 'Montréal', 'value': 'MTL'}, {'label': 'San Francisco', 'value': 'SF'}], value=['MTL', 'SF'], multi=True)]"
     },
     "execution_count": 3,
     "metadata": {},
     "output_type": "execute_result"
    }
   ],
   "source": [
    "multi_dropdown"
   ]
  },
  {
   "cell_type": "code",
   "execution_count": 5,
   "metadata": {},
   "outputs": [
    {
     "data": {
      "text/plain": "Dropdown(options=[{'label': 'New York City', 'value': 'NYC'}, {'label': 'Montréal', 'value': 'MTL'}, {'label': 'San Francisco', 'value': 'SF'}], value=['MTL', 'SF'], multi=True)"
     },
     "execution_count": 5,
     "metadata": {},
     "output_type": "execute_result"
    }
   ],
   "source": [
    "dcc.Dropdown(\n",
    "        options=[\n",
    "            {'label': 'New York City', 'value': 'NYC'},\n",
    "            {'label': u'Montréal', 'value': 'MTL'},\n",
    "            {'label': 'San Francisco', 'value': 'SF'}\n",
    "        ],\n",
    "        value=['MTL', 'SF'],\n",
    "        multi=True\n",
    "    )"
   ]
  },
  {
   "cell_type": "code",
   "execution_count": null,
   "metadata": {},
   "outputs": [],
   "source": []
  }
 ]
}