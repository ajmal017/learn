{
 "cells": [
  {
   "cell_type": "markdown",
   "metadata": {},
   "source": [
    "# Event Handling\n",
    "Here is an example from [StackOverflow: 1092531](https://stackoverflow.com/questions/1092531)\n",
    "\n",
    "## Principle behind this\n",
    "* A simple event handler would fire off one or more callable functions, whenever an event is fired.\n",
    "* A class to _manage_ this would require two methods at a miniumum:\n",
    "   * add\n",
    "   * fire\n",
    "* Within that class we need to maintain a list of _event handlers_\n",
    "* The class's **add** method would be an *event.append(`<callable>` | `<tuple or list of callables>`)*.\n",
    "   * This is given by the usage `e.append(f)`\n",
    "* The class's **fire** method is the `__call__` magic method.\n",
    "* The class's `__repr__` method is to make us known what is unambiguously in the list. It simply returns what is there in the `Event([])` list."
   ]
  },
  {
   "cell_type": "code",
   "execution_count": 2,
   "metadata": {},
   "outputs": [],
   "source": [
    "class Event(list):\n",
    "    \"\"\"Event subscription.\n",
    "\n",
    "    A list of callable objects. Calling an instance of this will cause a\n",
    "    call to each item in the list in ascending order by index.\n",
    "\n",
    "    Example Usage:\n",
    "    >>> def f(x):\n",
    "    ...     print('f(%s)' % x)\n",
    "    >>> def g(x):\n",
    "    ...     print('g(%s)' % x)\n",
    "    >>> e = Event()\n",
    "    >>> e()\n",
    "    >>> e.append(f)\n",
    "    >>> e(123)\n",
    "    f(123)\n",
    "    >>> e.remove(f)\n",
    "    >>> e()\n",
    "    >>> e += (f, g)\n",
    "    >>> e(10)\n",
    "    f(10)\n",
    "    g(10)\n",
    "    >>> del e[0]\n",
    "    >>> e(2)\n",
    "    g(2)\n",
    "\n",
    "    \"\"\"\n",
    "    def __call__(self, *args, **kwargs):\n",
    "        for f in self:\n",
    "            f(*args, **kwargs)\n",
    "\n",
    "    def __repr__(self):\n",
    "        return \"Event(%s)\" % list.__repr__(self)"
   ]
  },
  {
   "cell_type": "markdown",
   "metadata": {},
   "source": [
    "Let us try to use the function now..."
   ]
  },
  {
   "cell_type": "code",
   "execution_count": 3,
   "metadata": {},
   "outputs": [],
   "source": [
    "def f(x):\n",
    "    print('f(%s)' % x)\n",
    "\n",
    "def g(x):\n",
    "    print('g(%s)' % x)"
   ]
  },
  {
   "cell_type": "code",
   "execution_count": 18,
   "metadata": {},
   "outputs": [],
   "source": [
    "# Instantiate the event\n",
    "e = Event()\n",
    "e() # will show nothing in it"
   ]
  },
  {
   "cell_type": "code",
   "execution_count": 19,
   "metadata": {},
   "outputs": [
    {
     "data": {
      "text/plain": [
       "Event([])"
      ]
     },
     "execution_count": 19,
     "metadata": {},
     "output_type": "execute_result"
    }
   ],
   "source": [
    "e # shows the event __repr__ as Event([])"
   ]
  },
  {
   "cell_type": "code",
   "execution_count": 20,
   "metadata": {},
   "outputs": [
    {
     "data": {
      "text/plain": [
       "Event([<function f at 0x0618F6F0>])"
      ]
     },
     "execution_count": 20,
     "metadata": {},
     "output_type": "execute_result"
    }
   ],
   "source": [
    "e.append(f)\n",
    "e"
   ]
  },
  {
   "cell_type": "code",
   "execution_count": 22,
   "metadata": {},
   "outputs": [
    {
     "name": "stdout",
     "output_type": "stream",
     "text": [
      "f(123)\n"
     ]
    }
   ],
   "source": [
    "e(123) # will show f(123), as f is the function in it"
   ]
  },
  {
   "cell_type": "code",
   "execution_count": 23,
   "metadata": {},
   "outputs": [
    {
     "data": {
      "text/plain": [
       "Event([])"
      ]
     },
     "execution_count": 23,
     "metadata": {},
     "output_type": "execute_result"
    }
   ],
   "source": [
    "e.remove(f) # will make e empty\n",
    "e"
   ]
  },
  {
   "cell_type": "code",
   "execution_count": 24,
   "metadata": {},
   "outputs": [],
   "source": [
    "e(123) # will show nothing, as it has no function in it."
   ]
  },
  {
   "cell_type": "code",
   "execution_count": 26,
   "metadata": {},
   "outputs": [
    {
     "data": {
      "text/plain": [
       "(<function __main__.f(x)>, <function __main__.g(x)>)"
      ]
     },
     "execution_count": 26,
     "metadata": {},
     "output_type": "execute_result"
    }
   ],
   "source": [
    "(f, g) # is a tuple of the two functions"
   ]
  },
  {
   "cell_type": "code",
   "execution_count": 27,
   "metadata": {},
   "outputs": [
    {
     "data": {
      "text/plain": [
       "Event([<function f at 0x0618F6F0>, <function g at 0x0618F660>])"
      ]
     },
     "execution_count": 27,
     "metadata": {},
     "output_type": "execute_result"
    }
   ],
   "source": [
    "e += (f, g) # appends the two functions into event handler e\n",
    "e"
   ]
  },
  {
   "cell_type": "code",
   "execution_count": 28,
   "metadata": {},
   "outputs": [
    {
     "name": "stdout",
     "output_type": "stream",
     "text": [
      "f(10)\n",
      "g(10)\n"
     ]
    }
   ],
   "source": [
    "e(10) # will print out the functions with the varoiables in it ... f(10)   g(10)"
   ]
  },
  {
   "cell_type": "code",
   "execution_count": 32,
   "metadata": {},
   "outputs": [
    {
     "data": {
      "text/plain": [
       "Event([<function g at 0x0618F660>])"
      ]
     },
     "execution_count": 32,
     "metadata": {},
     "output_type": "execute_result"
    }
   ],
   "source": [
    "del e[0] # will remove function f from the event handler\n",
    "e"
   ]
  },
  {
   "cell_type": "code",
   "execution_count": 33,
   "metadata": {},
   "outputs": [
    {
     "name": "stdout",
     "output_type": "stream",
     "text": [
      "g(2)\n"
     ]
    }
   ],
   "source": [
    "e(2) # will therefore show only g(2)"
   ]
  },
  {
   "cell_type": "code",
   "execution_count": null,
   "metadata": {},
   "outputs": [],
   "source": []
  }
 ],
 "metadata": {
  "kernelspec": {
   "display_name": "Python 3",
   "language": "python",
   "name": "python3"
  },
  "language_info": {
   "codemirror_mode": {
    "name": "ipython",
    "version": 3
   },
   "file_extension": ".py",
   "mimetype": "text/x-python",
   "name": "python",
   "nbconvert_exporter": "python",
   "pygments_lexer": "ipython3",
   "version": "3.7.1"
  }
 },
 "nbformat": 4,
 "nbformat_minor": 2
}
