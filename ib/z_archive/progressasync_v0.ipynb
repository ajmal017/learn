{
 "cells": [
  {
   "cell_type": "markdown",
   "metadata": {},
   "source": [
    "## SET THE MARKET"
   ]
  },
  {
   "cell_type": "code",
   "execution_count": 1,
   "metadata": {},
   "outputs": [],
   "source": [
    "MARKET = \"NSE\""
   ]
  },
  {
   "cell_type": "markdown",
   "metadata": {},
   "source": [
    "## IMPORTS, CONNECTIONS, LOG, TIMER"
   ]
  },
  {
   "cell_type": "code",
   "execution_count": 2,
   "metadata": {},
   "outputs": [],
   "source": [
    "import asyncio\n",
    "import pickle\n",
    "import sys\n",
    "import time\n",
    "import pandas as pd\n",
    "import random\n",
    "import copy\n",
    "\n",
    "from collections import defaultdict\n",
    "from datetime import datetime\n",
    "from pprint import pprint\n",
    "\n",
    "from ib_insync import *\n",
    "\n",
    "from ib01_getsyms import get_syms\n",
    "from support import timestr\n",
    "\n",
    "from typing import Callable, Coroutine\n",
    "\n",
    "random.seed(8888)\n",
    "\n",
    "if sys.version_info[0] == 3 and sys.version_info[1] >= 8 and sys.platform.startswith('win'):\n",
    "    asyncio.set_event_loop_policy(asyncio.WindowsSelectorEventLoopPolicy())"
   ]
  },
  {
   "cell_type": "code",
   "execution_count": 3,
   "metadata": {},
   "outputs": [],
   "source": [
    "import nest_asyncio\n",
    "util.startLoop()\n",
    "nest_asyncio.apply()\n",
    "\n",
    "pd.options.display.max_columns = None"
   ]
  },
  {
   "cell_type": "code",
   "execution_count": 7,
   "metadata": {},
   "outputs": [],
   "source": [
    "HOST = '127.0.0.1'\n",
    "PORT = 4004 if MARKET.upper() == 'NSE' else 4002 # Paper trades!\n",
    "CID = 0\n",
    "MASTERCID = 10\n",
    "\n",
    "ib = IB()\n",
    "FSPATH: str='./data/'"
   ]
  },
  {
   "cell_type": "code",
   "execution_count": 5,
   "metadata": {},
   "outputs": [],
   "source": [
    "# Direct logs to file with level at WARNING (30)\n",
    "util.logToFile(path='./data/data.log', level=30)\n",
    "with open('./data/data.log', 'w'): # to clear the log\n",
    "    pass"
   ]
  },
  {
   "cell_type": "markdown",
   "metadata": {},
   "source": [
    "# Making df_opts"
   ]
  },
  {
   "cell_type": "code",
   "execution_count": null,
   "metadata": {},
   "outputs": [],
   "source": [
    "df_chains = pd.read_pickle(FSPATH+'df_chains.pkl')\n",
    "\n",
    "df_ch1 = pd.concat([df_chains.assign(right='P'), \n",
    "          df_chains.assign(right='C')], \n",
    "          ignore_index=False)\n",
    "\n",
    "puts = [Option(symbol=s, lastTradeDateOrContractMonth=e, strike=k, right='P', exchange=x) \n",
    "                    for s, e, k, x in \n",
    "                    zip(df_ch1.symbol, df_ch1.expiry, df_ch1.strike, ['NSE' \n",
    "                        if MARKET.upper() == 'NSE' else 'SMART']*len(df_ch1))]\n",
    "\n",
    "calls = [Option(symbol=s, lastTradeDateOrContractMonth=e, strike=k, right='C', exchange=x) \n",
    "                    for s, e, k, x in \n",
    "                    zip(df_ch1.symbol, df_ch1.expiry, df_ch1.strike, ['NSE' \n",
    "                        if MARKET.upper() == 'NSE' else 'SMART']*len(df_ch1))]"
   ]
  },
  {
   "cell_type": "code",
   "execution_count": 9,
   "metadata": {},
   "outputs": [
    {
     "data": {
      "text/html": [
       "<div>\n",
       "<style scoped>\n",
       "    .dataframe tbody tr th:only-of-type {\n",
       "        vertical-align: middle;\n",
       "    }\n",
       "\n",
       "    .dataframe tbody tr th {\n",
       "        vertical-align: top;\n",
       "    }\n",
       "\n",
       "    .dataframe thead th {\n",
       "        text-align: right;\n",
       "    }\n",
       "</style>\n",
       "<table border=\"1\" class=\"dataframe\">\n",
       "  <thead>\n",
       "    <tr style=\"text-align: right;\">\n",
       "      <th></th>\n",
       "      <th>ctype</th>\n",
       "      <th>symbol</th>\n",
       "      <th>expiryM</th>\n",
       "      <th>lot</th>\n",
       "      <th>exchange</th>\n",
       "      <th>currency</th>\n",
       "    </tr>\n",
       "  </thead>\n",
       "  <tbody>\n",
       "    <tr>\n",
       "      <th>0</th>\n",
       "      <td>Index</td>\n",
       "      <td>NIFTY50</td>\n",
       "      <td>2020-08</td>\n",
       "      <td>75</td>\n",
       "      <td>NSE</td>\n",
       "      <td>INR</td>\n",
       "    </tr>\n",
       "    <tr>\n",
       "      <th>1</th>\n",
       "      <td>Index</td>\n",
       "      <td>BANKNIFTY</td>\n",
       "      <td>2020-08</td>\n",
       "      <td>25</td>\n",
       "      <td>NSE</td>\n",
       "      <td>INR</td>\n",
       "    </tr>\n",
       "    <tr>\n",
       "      <th>2</th>\n",
       "      <td>Index</td>\n",
       "      <td>BANKNIFTY</td>\n",
       "      <td>2020-10</td>\n",
       "      <td>25</td>\n",
       "      <td>NSE</td>\n",
       "      <td>INR</td>\n",
       "    </tr>\n",
       "    <tr>\n",
       "      <th>3</th>\n",
       "      <td>Index</td>\n",
       "      <td>NIFTY50</td>\n",
       "      <td>2020-10</td>\n",
       "      <td>75</td>\n",
       "      <td>NSE</td>\n",
       "      <td>INR</td>\n",
       "    </tr>\n",
       "    <tr>\n",
       "      <th>4</th>\n",
       "      <td>Index</td>\n",
       "      <td>NIFTY50</td>\n",
       "      <td>2020-09</td>\n",
       "      <td>75</td>\n",
       "      <td>NSE</td>\n",
       "      <td>INR</td>\n",
       "    </tr>\n",
       "    <tr>\n",
       "      <th>...</th>\n",
       "      <td>...</td>\n",
       "      <td>...</td>\n",
       "      <td>...</td>\n",
       "      <td>...</td>\n",
       "      <td>...</td>\n",
       "      <td>...</td>\n",
       "    </tr>\n",
       "    <tr>\n",
       "      <th>412</th>\n",
       "      <td>Stock</td>\n",
       "      <td>SAIL</td>\n",
       "      <td>2020-08</td>\n",
       "      <td>19000</td>\n",
       "      <td>NSE</td>\n",
       "      <td>INR</td>\n",
       "    </tr>\n",
       "    <tr>\n",
       "      <th>413</th>\n",
       "      <td>Stock</td>\n",
       "      <td>RECLTD</td>\n",
       "      <td>2020-08</td>\n",
       "      <td>6000</td>\n",
       "      <td>NSE</td>\n",
       "      <td>INR</td>\n",
       "    </tr>\n",
       "    <tr>\n",
       "      <th>414</th>\n",
       "      <td>Stock</td>\n",
       "      <td>BAJFINANC</td>\n",
       "      <td>2020-08</td>\n",
       "      <td>250</td>\n",
       "      <td>NSE</td>\n",
       "      <td>INR</td>\n",
       "    </tr>\n",
       "    <tr>\n",
       "      <th>415</th>\n",
       "      <td>Stock</td>\n",
       "      <td>AMBUJACEM</td>\n",
       "      <td>2020-09</td>\n",
       "      <td>3000</td>\n",
       "      <td>NSE</td>\n",
       "      <td>INR</td>\n",
       "    </tr>\n",
       "    <tr>\n",
       "      <th>416</th>\n",
       "      <td>Stock</td>\n",
       "      <td>TORNTPHAR</td>\n",
       "      <td>2020-10</td>\n",
       "      <td>500</td>\n",
       "      <td>NSE</td>\n",
       "      <td>INR</td>\n",
       "    </tr>\n",
       "  </tbody>\n",
       "</table>\n",
       "<p>417 rows × 6 columns</p>\n",
       "</div>"
      ],
      "text/plain": [
       "     ctype     symbol  expiryM    lot exchange currency\n",
       "0    Index    NIFTY50  2020-08     75      NSE      INR\n",
       "1    Index  BANKNIFTY  2020-08     25      NSE      INR\n",
       "2    Index  BANKNIFTY  2020-10     25      NSE      INR\n",
       "3    Index    NIFTY50  2020-10     75      NSE      INR\n",
       "4    Index    NIFTY50  2020-09     75      NSE      INR\n",
       "..     ...        ...      ...    ...      ...      ...\n",
       "412  Stock       SAIL  2020-08  19000      NSE      INR\n",
       "413  Stock     RECLTD  2020-08   6000      NSE      INR\n",
       "414  Stock  BAJFINANC  2020-08    250      NSE      INR\n",
       "415  Stock  AMBUJACEM  2020-09   3000      NSE      INR\n",
       "416  Stock  TORNTPHAR  2020-10    500      NSE      INR\n",
       "\n",
       "[417 rows x 6 columns]"
      ]
     },
     "execution_count": 9,
     "metadata": {},
     "output_type": "execute_result"
    }
   ],
   "source": [
    "pd.read_pickle(FSPATH+'df_nsesyms.pkl')"
   ]
  },
  {
   "cell_type": "code",
   "execution_count": null,
   "metadata": {},
   "outputs": [],
   "source": []
  },
  {
   "cell_type": "markdown",
   "metadata": {},
   "source": [
    "## Qualifying options"
   ]
  },
  {
   "cell_type": "code",
   "execution_count": null,
   "metadata": {},
   "outputs": [],
   "source": [
    "async def qualCoro(cts):\n",
    "    contracts = await ib.qualifyContractsAsync(cts)\n",
    "    await asyncio.sleep(20)\n",
    "    return contracts"
   ]
  },
  {
   "cell_type": "code",
   "execution_count": null,
   "metadata": {},
   "outputs": [],
   "source": [
    "raw_opts = copy.copy(puts) + copy.copy(calls)\n",
    "cts = random.sample(raw_opts, len(raw_opts))[:100000]\n",
    "todo = set()\n",
    "result = set()\n",
    "pkl_timeout = 10\n",
    "total_timeout = 0"
   ]
  },
  {
   "cell_type": "code",
   "execution_count": null,
   "metadata": {},
   "outputs": [],
   "source": [
    "# cts[:25]"
   ]
  },
  {
   "cell_type": "code",
   "execution_count": null,
   "metadata": {},
   "outputs": [],
   "source": [
    "async def qualTasks(cts: list) -> None:\n",
    "    blk=1000\n",
    "    optblks = [cts[i: i+blk] for i in range(0, len(cts), blk)]\n",
    "\n",
    "    for b in optblks:\n",
    "        todo.add(asyncio.create_task(ib.qualifyContractsAsync(*b), \n",
    "                                 name=f'{b[0].symbol}{b[0].lastTradeDateOrContractMonth[:-2]}{b[0].right}{b[0].strike}:'+\\\n",
    "                                             f'{b[len(b)-1].symbol}{b[len(b)-1].lastTradeDateOrContractMonth[:-2]}{b[len(b)-1].right}{b[len(b)-1].strike}'))\n",
    "\n",
    "\n",
    "    start = time.time()\n",
    "    \n",
    "    while len(todo):\n",
    "        \n",
    "        done, pending = await asyncio.wait(todo, timeout=pkl_timeout)\n",
    "        \n",
    "        # remove done task from todo after the timeout, update result and pickle it\n",
    "        todo.difference_update(done)\n",
    "        result.update(done)\n",
    "        \n",
    "        # report pendings\n",
    "        pending_names = (t.get_name() for t in todo)\n",
    "        print(f\"{len(todo)}: \"+ \" \".join(sorted(pending_names))[-75:])\n",
    "        \n",
    "        # check for total_timeout\n",
    "        if total_timeout > 0.0:\n",
    "            if time.time() - start > total_timeout:\n",
    "                print(f'\\nProgram exceeded total_timeout of {total_timeout} seconds')\n",
    "                print(f'Cancelling pending todos')\n",
    "                for task in todo:\n",
    "                    task.cancel()\n",
    "                done, pending = await asyncio.wait(todo, timeout=1.0)\n",
    "                todo.difference_update(done)\n",
    "                todo.difference_update(pending)\n",
    "                \n",
    "    end = time.time()\n",
    "    print(f\"Took {int(end-start)} seconds\")\n",
    "        \n",
    "#     for c in cts:\n",
    "#         todo.add(asyncio.create_task(qualCoro(c)))"
   ]
  },
  {
   "cell_type": "code",
   "execution_count": null,
   "metadata": {},
   "outputs": [],
   "source": [
    "%%time\n",
    "with ib.connect(HOST, PORT, CID) as ib:\n",
    "    ib.run(qualTasks(cts))"
   ]
  },
  {
   "cell_type": "code",
   "execution_count": null,
   "metadata": {},
   "outputs": [],
   "source": [
    "len([i for r in result for i in r.result()])"
   ]
  },
  {
   "cell_type": "code",
   "execution_count": null,
   "metadata": {},
   "outputs": [],
   "source": [
    "for task in todo:\n",
    "    task.cancel()"
   ]
  },
  {
   "cell_type": "code",
   "execution_count": null,
   "metadata": {},
   "outputs": [],
   "source": [
    "len(cts)"
   ]
  },
  {
   "cell_type": "code",
   "execution_count": null,
   "metadata": {},
   "outputs": [],
   "source": [
    "async def progressQuals(cts,\n",
    "                       algo: Callable[..., Coroutine],\n",
    "                       pkl_timeout: float=2.0,\n",
    "                       total_timeout: float=0.0,\n",
    "                       FSPATH: str='./data/',\n",
    "                       ) -> None:\n",
    "\n",
    "        # create a task for the algo\n",
    "    task = asyncio.create_task(algo(cts), name=algo.__name__)\n",
    "    \n",
    "    todo.add(task) # add task to the asyncio loop\n",
    "    \n",
    "    start = time.time()\n",
    "    \n",
    "    while len(todo):\n",
    "        \n",
    "        done, pending = await asyncio.wait(todo, timeout=pkl_timeout)\n",
    "        \n",
    "        # remove done task from todo after the timeout, update result and pickle it\n",
    "        todo.difference_update(done)\n",
    "        result.update(done)\n",
    "        \n",
    "        # report pendings\n",
    "        pending_names = (t.get_name() for t in todo)\n",
    "        print(f\"{len(todo)}: \"+ \" \".join(sorted(pending_names))[-75:])\n",
    "        \n",
    "        # check for total_timeout\n",
    "        if total_timeout > 0.0:\n",
    "            if time.time() - start > total_timeout:\n",
    "                print(f'\\nProgram exceeded total_timeout of {total_timeout} seconds')\n",
    "                print(f'Cancelling pending todos')\n",
    "                for task in todo:\n",
    "                    task.cancel()\n",
    "                done, pending = await asyncio.wait(todo, timeout=1.0)\n",
    "                todo.difference_update(done)\n",
    "                todo.difference_update(pending)\n",
    "                \n",
    "    end = time.time()\n",
    "    print(f\"Took {int(end-start)} seconds\")"
   ]
  },
  {
   "cell_type": "code",
   "execution_count": null,
   "metadata": {},
   "outputs": [],
   "source": [
    "with ib.connect(HOST, PORT, CID) as ib:\n",
    "    ib.run(progressQuals(cts=cts, algo=qualTasks))"
   ]
  },
  {
   "cell_type": "code",
   "execution_count": null,
   "metadata": {},
   "outputs": [],
   "source": [
    "result"
   ]
  },
  {
   "cell_type": "code",
   "execution_count": null,
   "metadata": {},
   "outputs": [],
   "source": []
  }
 ],
 "metadata": {
  "kernelspec": {
   "display_name": "Python 3.8.1 32-bit",
   "language": "python",
   "name": "python38132bit2115ca79f6634adbad3a74c57c1d7c04"
  },
  "language_info": {
   "codemirror_mode": {
    "name": "ipython",
    "version": 3
   },
   "file_extension": ".py",
   "mimetype": "text/x-python",
   "name": "python",
   "nbconvert_exporter": "python",
   "pygments_lexer": "ipython3",
   "version": "3.8.1"
  }
 },
 "nbformat": 4,
 "nbformat_minor": 4
}
