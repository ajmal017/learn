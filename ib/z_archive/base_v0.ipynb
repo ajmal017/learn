{
 "cells": [
  {
   "cell_type": "markdown",
   "metadata": {},
   "source": [
    "# Building base data\n",
    "We will run a set of programs to understand how ib_insync generates data using async"
   ]
  },
  {
   "cell_type": "markdown",
   "metadata": {},
   "source": [
    "## SET THE MARKET"
   ]
  },
  {
   "cell_type": "code",
   "execution_count": 1,
   "metadata": {},
   "outputs": [],
   "source": [
    "MARKET = \"SNP\""
   ]
  },
  {
   "cell_type": "markdown",
   "metadata": {},
   "source": [
    "## IMPORTS, CONNECTIONS, LOG, TIMER"
   ]
  },
  {
   "cell_type": "code",
   "execution_count": 2,
   "metadata": {},
   "outputs": [],
   "source": [
    "import asyncio\n",
    "import pickle\n",
    "import sys\n",
    "import time\n",
    "import pandas as pd\n",
    "import random\n",
    "\n",
    "from collections import defaultdict\n",
    "from datetime import datetime\n",
    "from pprint import pprint\n",
    "\n",
    "from ib_insync import *\n",
    "\n",
    "from ib01_getsyms import get_syms\n",
    "from support import timestr\n",
    "\n",
    "from typing import Callable, Coroutine\n",
    "\n",
    "random.seed(8888)\n",
    "\n",
    "if sys.version_info[0] == 3 and sys.version_info[1] >= 8 and sys.platform.startswith('win'):\n",
    "    asyncio.set_event_loop_policy(asyncio.WindowsSelectorEventLoopPolicy())"
   ]
  },
  {
   "cell_type": "code",
   "execution_count": 3,
   "metadata": {},
   "outputs": [],
   "source": [
    "import nest_asyncio\n",
    "util.startLoop()\n",
    "nest_asyncio.apply()\n",
    "\n",
    "pd.options.display.max_columns = None"
   ]
  },
  {
   "cell_type": "code",
   "execution_count": 4,
   "metadata": {},
   "outputs": [],
   "source": [
    "HOST = '127.0.0.1'\n",
    "PORT = 4004 if MARKET.upper() == 'NSE' else 4002 # Paper trades!\n",
    "CID = 0\n",
    "MASTERCID = 10"
   ]
  },
  {
   "cell_type": "code",
   "execution_count": 5,
   "metadata": {},
   "outputs": [],
   "source": [
    "# Direct logs to file with level at WARNING (30)\n",
    "util.logToFile(path='./data/data.log', level=30)\n",
    "with open('./data/data.log', 'w'): # to clear the log\n",
    "    pass"
   ]
  },
  {
   "cell_type": "markdown",
   "metadata": {},
   "source": [
    "## UNDERLYING SYMBOLS AND LOTS"
   ]
  },
  {
   "cell_type": "code",
   "execution_count": 6,
   "metadata": {},
   "outputs": [
    {
     "name": "stdout",
     "output_type": "stream",
     "text": [
      "Wall time: 1.98 s\n"
     ]
    }
   ],
   "source": [
    "%%time\n",
    "# get all the symbols\n",
    "df_syms = get_syms(MARKET)\n",
    "\n",
    "# ...make the symbols unique\n",
    "symbols = set(df_syms.symbol)\n",
    "\n",
    "# ...build the contracts\n",
    "raw_cts = [i for j in [[Stock(symbol, exchange, currency), Index(symbol, exchange, currency)]\n",
    "                       for symbol, exchange, currency\n",
    "                       in zip(df_syms.symbol, df_syms.exchange, df_syms.currency)] for i in j]\n",
    "\n",
    "# raw_cts = raw_cts[18:25]  # !!! DATA LIMITER !!!"
   ]
  },
  {
   "cell_type": "code",
   "execution_count": 7,
   "metadata": {},
   "outputs": [
    {
     "name": "stdout",
     "output_type": "stream",
     "text": [
      "Wall time: 4.6 s\n"
     ]
    }
   ],
   "source": [
    "%%time\n",
    "\n",
    "## Qualify the underlyings\n",
    "ib = IB()\n",
    "\n",
    "with ib.connect(HOST, PORT, CID) as ib:\n",
    "    qunds = ib.qualifyContracts(*raw_cts)\n",
    "\n",
    "qunds = list({q for q in qunds}) # Remove duplicates"
   ]
  },
  {
   "cell_type": "markdown",
   "metadata": {},
   "source": [
    "# COROUTINES"
   ]
  },
  {
   "cell_type": "markdown",
   "metadata": {},
   "source": [
    "## OHLC coroutine"
   ]
  },
  {
   "cell_type": "code",
   "execution_count": 8,
   "metadata": {},
   "outputs": [],
   "source": [
    "async def ohlcCoro(c, DURATION=365):\n",
    "    ohlc = await ib.reqHistoricalDataAsync(\n",
    "                        contract=c,\n",
    "                        endDateTime=\"\",\n",
    "                        durationStr=str(DURATION) + ' D',\n",
    "                        barSizeSetting=\"1 day\",\n",
    "                        whatToShow=\"Trades\",\n",
    "                        useRTH=True)\n",
    "    await asyncio.sleep(5)\n",
    "    df = util.df(ohlc)\n",
    "    try:\n",
    "        df.insert(0, 'symbol', c.symbol)\n",
    "    except AttributeError:\n",
    "        df = None\n",
    "    return df"
   ]
  },
  {
   "cell_type": "markdown",
   "metadata": {},
   "source": [
    "## Market data coroutine"
   ]
  },
  {
   "cell_type": "code",
   "execution_count": 9,
   "metadata": {},
   "outputs": [],
   "source": [
    "async def mktdataCoro(c, FILL_DELAY=5):\n",
    "\n",
    "    tick = ib.reqMktData(c, '456, 104, 106, 100, 101, 165')\n",
    "    await asyncio.sleep(FILL_DELAY)\n",
    "    ib.cancelMktData(c)\n",
    "    \n",
    "    m_df = pd.DataFrame(util.df([tick]))\n",
    "    \n",
    "    div_df = pd.DataFrame(m_df.dividends.tolist())\n",
    "    df1 = m_df.drop('dividends', 1).join(div_df)\n",
    "    df1.insert(0, 'symbol', [c.symbol for c in df1.contract])\n",
    "\n",
    "    df2 = df1.dropna(axis=1)\n",
    "\n",
    "    # Extract columns with legit values in them\n",
    "    df3 = df2[[c for c in df2.columns if df2.loc[0, c]]]\n",
    "\n",
    "    return df3"
   ]
  },
  {
   "cell_type": "markdown",
   "metadata": {},
   "source": [
    "## Chains coroutine"
   ]
  },
  {
   "cell_type": "code",
   "execution_count": 10,
   "metadata": {},
   "outputs": [],
   "source": [
    "async def chainsCoro(c):\n",
    "    chains = await ib.reqSecDefOptParamsAsync(underlyingSymbol=c.symbol,\n",
    "                                               futFopExchange=\"\",\n",
    "                                               underlyingSecType=c.secType,\n",
    "                                               underlyingConId=c.conId)\n",
    "    \n",
    "\n",
    "    # Pick up one chain if it is a list\n",
    "    chain = chains[0] if isinstance(chains, list) else chains\n",
    "\n",
    "    df1 = pd.DataFrame([chain])\n",
    "\n",
    "    # Do a cartesian merge\n",
    "    df2 = pd.merge(pd.DataFrame(df1.expirations[0], columns=['expiry']).assign(key=1), \n",
    "             pd.DataFrame(df1.strikes[0], columns=['strike']).assign(key=1), on='key').\\\n",
    "                merge(df1.assign(key=1)).rename(columns={'tradingClass': 'symbol', 'multiplier': 'mult'})\\\n",
    "                    [['symbol', 'expiry', 'strike', 'exchange', 'mult']]\n",
    "\n",
    "    return df2"
   ]
  },
  {
   "cell_type": "markdown",
   "metadata": {},
   "source": [
    "## Base Cororutine"
   ]
  },
  {
   "cell_type": "code",
   "execution_count": 11,
   "metadata": {},
   "outputs": [],
   "source": [
    "async def baseCoro(qunds:list) -> None: \n",
    "    for c in qunds:\n",
    "        todo.add(asyncio.create_task(ohlcCoro(c, DURATION=365), name=c.symbol+'_ohlc'))\n",
    "        todo.add(asyncio.create_task(mktdataCoro(c, FILL_DELAY=11), name=c.symbol+'_und'))\n",
    "        todo.add(asyncio.create_task(chainsCoro(c), name=c.symbol+'_chains'))"
   ]
  },
  {
   "cell_type": "markdown",
   "metadata": {},
   "source": [
    "## Progress Coroutine"
   ]
  },
  {
   "cell_type": "code",
   "execution_count": 29,
   "metadata": {},
   "outputs": [],
   "source": [
    "async def progressAsync(cts, \n",
    "                        algo: Callable[..., Coroutine],\n",
    "                        save_algo: Callable[..., Coroutine],\n",
    "                        pkl_timeout: float=2.0,\n",
    "                        total_timeout: float=0.0,\n",
    "                        retries: int=1,\n",
    "                        part_pkl: str=\"\",\n",
    "                        FSPATH: str='./data/',\n",
    "                        ) -> None: \n",
    "    \n",
    "    part_pkl = algo.__name__+'_partial.pkl'\n",
    "    \n",
    "    # create a task for the algo\n",
    "    task = asyncio.create_task(algo(cts), name=algo.__name__)\n",
    "    \n",
    "    todo.add(task) # add task to the asyncio loop\n",
    "    \n",
    "    start = time.time()\n",
    "    \n",
    "    while len(todo):\n",
    "        \n",
    "        done, pending = await asyncio.wait(todo, timeout=pkl_timeout)\n",
    "        \n",
    "        # remove done task from todo after the timeout, update result and pickle it\n",
    "        todo.difference_update(done)\n",
    "        result.update(done)\n",
    "        save_algo(FSPATH, result)\n",
    "        \n",
    "        # report pendings\n",
    "        pending_names = (t.get_name() for t in todo)\n",
    "        print(f\"{len(todo)}: \"+ \" \".join(sorted(pending_names))[-75:])\n",
    "        \n",
    "        # check for total_timeout\n",
    "        if total_timeout > 0.0:\n",
    "            if time.time() - start > total_timeout:\n",
    "                print(f'\\nProgram exceeded total_timeout of {total_timeout} seconds')\n",
    "                print(f'Cancelling pending todos')\n",
    "                for task in todo:\n",
    "                    task.cancel()\n",
    "                done, pending = await asyncio.wait(todo, timeout=1.0)\n",
    "                todo.difference_update(done)\n",
    "                todo.difference_update(pending) \n",
    "    \n",
    "    # success!\n",
    "    save_algo(FSPATH, result)\n",
    "    end = time.time()\n",
    "    print(f\"Took {int(end-start)} seconds\")"
   ]
  },
  {
   "cell_type": "markdown",
   "metadata": {},
   "source": [
    "## Saving progress output function"
   ]
  },
  {
   "cell_type": "code",
   "execution_count": 30,
   "metadata": {},
   "outputs": [],
   "source": [
    "def saveBase(FSPATH, result):\n",
    "    ohlcs = []\n",
    "    unds = []\n",
    "    chains = []\n",
    "    basetype = []\n",
    "    for v in list(result):\n",
    "        try:\n",
    "          basetype = v.get_name().split('_')[1]\n",
    "        except IndexError as e:\n",
    "#             print(f\"{v.get_name()} is not a valid base df\")\n",
    "            pass\n",
    "        if basetype == 'ohlc':\n",
    "            ohlcs.append(v.result())\n",
    "        if basetype == 'und':\n",
    "            unds.append(v.result())\n",
    "        if basetype == 'chains':\n",
    "            chains.append(v.result())\n",
    "\n",
    "    # build the dataframes and pickle\n",
    "    if unds:\n",
    "        df_unds = pd.concat(unds, ignore_index=True)\n",
    "        df_unds.to_pickle(FSPATH+'df_unds.pkl')\n",
    "    \n",
    "    if ohlcs:\n",
    "        df_ohlcs = pd.concat(ohlcs, ignore_index=True)\n",
    "        df_ohlcs.to_pickle(FSPATH+'df_ohlcs.pkl')\n",
    "        \n",
    "    if chains:\n",
    "        df_chains = pd.concat(chains, ignore_index=True)\n",
    "        df_chains.to_pickle(FSPATH+'df_chains.pkl')"
   ]
  },
  {
   "cell_type": "code",
   "execution_count": null,
   "metadata": {},
   "outputs": [],
   "source": [
    "%%time\n",
    "cts = qunds\n",
    "todo = set()\n",
    "result = set()\n",
    "with ib.connect(HOST, PORT, CID) as ib:\n",
    "    ib.run(progressAsync(cts=cts, algo=baseCoro, save_algo=saveBase, total_timeout=0))"
   ]
  },
  {
   "cell_type": "code",
   "execution_count": 24,
   "metadata": {},
   "outputs": [
    {
     "name": "stdout",
     "output_type": "stream",
     "text": [
      "baseCoro is not a valid base df\n"
     ]
    }
   ],
   "source": [
    "FSPATH = './data/'\n",
    "saveBase(FSPATH, result)"
   ]
  },
  {
   "cell_type": "code",
   "execution_count": null,
   "metadata": {},
   "outputs": [],
   "source": []
  },
  {
   "cell_type": "markdown",
   "metadata": {},
   "source": [
    "# SINGLE CONTRACT TEST"
   ]
  },
  {
   "cell_type": "code",
   "execution_count": null,
   "metadata": {},
   "outputs": [],
   "source": [
    "ct1 = qunds[0]\n",
    "ct1"
   ]
  },
  {
   "cell_type": "code",
   "execution_count": null,
   "metadata": {},
   "outputs": [],
   "source": [
    "%%time\n",
    "### THIS MAY NOT WORK FOR INDEX OUTSIDE MARKET HOURS ###\n",
    "with ib.connect(HOST, PORT, CID) as ib:\n",
    "    one_ohlc = ib.run(ohlcCoro(ct1))\n",
    "\n",
    "one_ohlc"
   ]
  },
  {
   "cell_type": "markdown",
   "metadata": {},
   "source": [
    "## Other coros"
   ]
  },
  {
   "cell_type": "code",
   "execution_count": null,
   "metadata": {},
   "outputs": [],
   "source": [
    "%%time\n",
    "with ib.connect(HOST, PORT, CID) as ib:\n",
    "    one_mkt = ib.run(mktdataCoro(ct1))\n",
    "\n",
    "one_mkt"
   ]
  },
  {
   "cell_type": "code",
   "execution_count": null,
   "metadata": {},
   "outputs": [],
   "source": [
    "%%time\n",
    "with ib.connect(HOST, PORT, CID) as ib:\n",
    "    one_chain = ib.run(chainsCoro(ct1))\n",
    "\n",
    "one_chain"
   ]
  },
  {
   "cell_type": "markdown",
   "metadata": {},
   "source": [
    "## Creating one base"
   ]
  },
  {
   "cell_type": "code",
   "execution_count": null,
   "metadata": {},
   "outputs": [],
   "source": [
    "def asyncBase(c):\n",
    "    tasks = [ohlcCoro(c, DURATION=365), mktdataCoro(c, FILL_DELAY=5), chainsCoro(c)]   \n",
    "    return asyncio.gather(*tasks)"
   ]
  },
  {
   "cell_type": "code",
   "execution_count": null,
   "metadata": {},
   "outputs": [],
   "source": [
    "%%time\n",
    "with ib.connect(HOST, PORT, CID) as ib:\n",
    "    one_base = ib.run(asyncBase(ct1))\n",
    "\n",
    "one_base"
   ]
  },
  {
   "cell_type": "markdown",
   "metadata": {},
   "source": [
    "# MULTIPLE CONTRACT TEST\n",
    "## Test 50 stock contracts"
   ]
  },
  {
   "cell_type": "code",
   "execution_count": null,
   "metadata": {},
   "outputs": [],
   "source": [
    "stk50 = [q for q in qunds if isinstance(q, Stock)]\n",
    "stk50 = stk50[:50]  # !!! DATA LIMITER for 50 max simultaneous API hist records !!!\n",
    "len(stk50)"
   ]
  },
  {
   "cell_type": "code",
   "execution_count": null,
   "metadata": {},
   "outputs": [],
   "source": [
    "%%time\n",
    "with ib.connect(HOST, PORT, CID) as ib:\n",
    "    base_stk50 = ib.run(asyncio.wait({asyncBase(c) for c in stk50}))\n",
    "\n",
    "base_stk50"
   ]
  },
  {
   "cell_type": "markdown",
   "metadata": {},
   "source": [
    "## Test ALL contracts\n",
    "It takes 2 mins and 17 seconds for 99 SNP contracts."
   ]
  },
  {
   "cell_type": "code",
   "execution_count": null,
   "metadata": {},
   "outputs": [],
   "source": [
    "%%time\n",
    "with ib.connect(HOST, PORT, CID) as ib:\n",
    "    base_qunds = ib.run(asyncio.wait({asyncBase(c) for c in qunds}))\n",
    "\n",
    "\n",
    "# Build individual base data frames\n",
    "ohlcs = []\n",
    "mdatas = []\n",
    "chains = []\n",
    "for i in range(len(qunds)):\n",
    "    ohlcs.append(list(base_qunds[0])[i].result()[0])\n",
    "    mdatas.append(list(base_qunds[0])[i].result()[1])\n",
    "    chains.append(list(base_qunds[0])[i].result()[2])\n",
    "\n",
    "df_ohlcs = pd.concat(ohlcs, ignore_index=True)\n",
    "df_unds = pd.concat(mdatas, ignore_index=True)\n",
    "df_chains = pd.concat([pd.concat(chains).assign(right='C'), \n",
    "                       pd.concat(chains).assign(right='P')], ignore_index=True)"
   ]
  },
  {
   "cell_type": "markdown",
   "metadata": {},
   "source": [
    "### Making it more robust\n",
    "27 market data is missing."
   ]
  },
  {
   "cell_type": "code",
   "execution_count": null,
   "metadata": {},
   "outputs": [],
   "source": [
    "from typing import Callable, Coroutine\n",
    "import sys\n",
    "import time\n",
    "\n",
    "if sys.version_info[0] == 3 and sys.version_info[1] >= 8 and sys.platform.startswith('win'):\n",
    "    asyncio.set_event_loop_policy(asyncio.WindowsSelectorEventLoopPolicy())\n",
    "\n",
    "async def baseCoro(qunds:list) -> None: \n",
    "    for c in qunds:\n",
    "        todo.add(asyncio.create_task(ohlcCoro(c, DURATION=365), name=c.symbol+'_ohlc'))\n",
    "        todo.add(asyncio.create_task(mktdataCoro(c, FILL_DELAY=11), name=c.symbol+'_mdata'))\n",
    "        todo.add(asyncio.create_task(chainsCoro(c), name=c.symbol+'_chains'))\n",
    "    \n",
    "async def progress(contracts, algo: Callable[..., Coroutine], result: set=set()) -> set:\n",
    "    \n",
    "    task = asyncio.create_task(algo(contracts), name='base_data')\n",
    "    \n",
    "    todo.add(task)\n",
    "    \n",
    "    start = time.time()\n",
    "    \n",
    "    while len(todo):\n",
    "        done, pending = await asyncio.wait(todo, timeout=2)\n",
    "        \n",
    "        todo.difference_update(done)\n",
    "        result.update(done)\n",
    "        \n",
    "        bases = (t.get_name() for t in todo)\n",
    "        print(f\"{len(todo)}: \"+ \" \".join(sorted(bases))[-75:])\n",
    "    \n",
    "    end = time.time()\n",
    "    print(f\"Took {int(end-start)} seconds\")\n",
    "    \n",
    "    return result"
   ]
  },
  {
   "cell_type": "code",
   "execution_count": null,
   "metadata": {},
   "outputs": [],
   "source": [
    "%%time\n",
    "\n",
    "todo = set()\n",
    "result = set()\n",
    "with ib.connect(HOST, PORT, CID) as ib:\n",
    "    result = ib.run(progress(qunds, baseCoro))"
   ]
  },
  {
   "cell_type": "code",
   "execution_count": null,
   "metadata": {},
   "outputs": [],
   "source": [
    "# Build individual base data frames\n",
    "\n",
    "res = [r for r in list(result) if r.get_name() !=\"base_data\"]\n",
    "ohlcs = []\n",
    "mdatas = []\n",
    "chains = []"
   ]
  },
  {
   "cell_type": "code",
   "execution_count": null,
   "metadata": {},
   "outputs": [],
   "source": [
    "for v in res:\n",
    "    if v.get_name().split('_')[1] == 'ohlc':\n",
    "        ohlcs.append(v.result())\n",
    "    if v.get_name().split('_')[1] == 'mdata':\n",
    "        mdatas.append(v.result())\n",
    "    if v.get_name().split('_')[1] == 'chains':\n",
    "        chains.append(v.result())\n",
    "\n",
    "df_ohlcs = pd.concat(ohlcs, ignore_index=True)\n",
    "df_unds = pd.concat(mdatas, ignore_index=True)\n",
    "df_chains = pd.concat([pd.concat(chains).assign(right='C'), \n",
    "                       pd.concat(chains).assign(right='P')], ignore_index=True)"
   ]
  },
  {
   "cell_type": "code",
   "execution_count": null,
   "metadata": {},
   "outputs": [],
   "source": [
    "len(df_unds[df_unds.time.isnull()])"
   ]
  },
  {
   "cell_type": "code",
   "execution_count": null,
   "metadata": {},
   "outputs": [],
   "source": [
    "len(df_ohlcs.symbol.unique())"
   ]
  },
  {
   "cell_type": "code",
   "execution_count": null,
   "metadata": {},
   "outputs": [],
   "source": [
    "s.split('_')[1]"
   ]
  },
  {
   "cell_type": "code",
   "execution_count": null,
   "metadata": {},
   "outputs": [],
   "source": [
    "%%time\n",
    "\n",
    "with ib.connect(HOST, PORT, CID) as ib:\n",
    "    task1 = ib.run(asyncio.gather(*[ohlcCoro(c) for c in und_cts1]))\n",
    "\n",
    "pd.concat(task1, ignore_index=True).groupby('symbol').head(1)"
   ]
  },
  {
   "cell_type": "markdown",
   "metadata": {},
   "source": [
    "#### Test a mixed-bag of 6 good and bad contracts using wait_for"
   ]
  },
  {
   "cell_type": "code",
   "execution_count": null,
   "metadata": {},
   "outputs": [],
   "source": [
    "und_cts2 = [q for q in qunds if isinstance(q, Index)][:3] + \\\n",
    "            random.sample([q for q in qunds if isinstance(q, Stock)], 3)\n",
    "und_cts2 = random.sample(und_cts2, 6)\n",
    "und_cts2"
   ]
  },
  {
   "cell_type": "code",
   "execution_count": null,
   "metadata": {},
   "outputs": [],
   "source": [
    "%%time\n",
    "\n",
    "with ib.connect(HOST, PORT, CID) as ib:\n",
    "    \n",
    "    async def get_ohlc():\n",
    "        tasks = [ohlcCoro(c) for c in und_cts2]\n",
    "        return asyncio.gather(*tasks)\n",
    "    \n",
    "    tasks2 = await get_ohlc()"
   ]
  },
  {
   "cell_type": "code",
   "execution_count": null,
   "metadata": {},
   "outputs": [],
   "source": [
    "    while tasks2:\n",
    "        done, pending = asyncio.wait_for(tasks2, 10)\n",
    "        \n",
    "        for task in done:\n",
    "            result = task.result()\n",
    "            pprint(result)\n",
    "        tasks2 = pending"
   ]
  },
  {
   "cell_type": "code",
   "execution_count": null,
   "metadata": {},
   "outputs": [],
   "source": []
  },
  {
   "cell_type": "code",
   "execution_count": null,
   "metadata": {},
   "outputs": [],
   "source": []
  },
  {
   "cell_type": "code",
   "execution_count": null,
   "metadata": {},
   "outputs": [],
   "source": []
  },
  {
   "cell_type": "code",
   "execution_count": null,
   "metadata": {},
   "outputs": [],
   "source": [
    "%%time\n",
    "with ib.connect(HOST, PORT, CID) as ib:\n",
    "    qunds = ib.qualifyContracts(*raw_cts[:50])\n",
    "    async def coro(c):\n",
    "        ohlc_task = [ohlcCoro(c, 365) for c in qunds]\n",
    "        mkt_task = [mktdataCoro(c, 5) for c in qunds]\n",
    "        chain_task = [chainsCoro(c) for c in qunds]\n",
    "        tasks = ohlc_task + mkt_task + chain_task\n",
    "        return await asyncio.gather(*tasks)\n",
    "    \n",
    "    tasks = [coro(c) for c in qunds]\n",
    "    \n",
    "    r = []\n",
    "    \n",
    "    while tasks:\n",
    "        done, pending = ib.run(asyncio.as_completed(tasks))\n",
    "        \n",
    "        for task in done:\n",
    "            result = task.result()\n",
    "            \n",
    "            if result:\n",
    "                r.append(result)\n",
    "        tasks = pending\n",
    "\n",
    "# print(r)"
   ]
  },
  {
   "cell_type": "code",
   "execution_count": null,
   "metadata": {},
   "outputs": [],
   "source": [
    "r[20]"
   ]
  },
  {
   "cell_type": "code",
   "execution_count": null,
   "metadata": {},
   "outputs": [],
   "source": [
    "with open('./data/first.pkl', 'wb') as f:\n",
    "    pickle.dump(r, f, protocol=pickle.HIGHEST_PROTOCOL)"
   ]
  },
  {
   "cell_type": "code",
   "execution_count": null,
   "metadata": {},
   "outputs": [],
   "source": [
    "        \n",
    "    \n",
    "    \n",
    "    print(\"Get first result:\")\n",
    "    done, pending = ib.run(asyncio.wait(tasks, return_when=asyncio.FIRST_COMPLETED))\n",
    "    \n",
    "    for task in done:\n",
    "        print(task.result())\n",
    "    print(\"pending:\", len(pending))\n",
    "    \n",
    "    print(\"\\nGet more results in 15 seconds:\\n\")\n",
    "    done2, pending2 = ib.run(asyncio.wait(pending, timeout=15))\n",
    "    \n",
    "    for task in done2:\n",
    "        print(task.result())\n",
    "    print(\"pending:\", len(pending2))\n",
    "    "
   ]
  },
  {
   "cell_type": "code",
   "execution_count": null,
   "metadata": {},
   "outputs": [],
   "source": []
  },
  {
   "cell_type": "code",
   "execution_count": null,
   "metadata": {},
   "outputs": [],
   "source": []
  },
  {
   "cell_type": "code",
   "execution_count": null,
   "metadata": {},
   "outputs": [],
   "source": [
    "    blk = 5\n",
    "    cb = [qunds[i: i+5] for i in range(0, len(qunds), 5)]\n",
    "    result = [ib.run(coro(c)) for c in cb]"
   ]
  },
  {
   "cell_type": "code",
   "execution_count": null,
   "metadata": {},
   "outputs": [],
   "source": [
    "r = [i for j in result for i in j]"
   ]
  },
  {
   "cell_type": "code",
   "execution_count": null,
   "metadata": {},
   "outputs": [],
   "source": [
    "list(list(r[5939].values())[0].values())[0].result()"
   ]
  },
  {
   "cell_type": "code",
   "execution_count": null,
   "metadata": {},
   "outputs": [],
   "source": [
    "ib.run?"
   ]
  },
  {
   "cell_type": "code",
   "execution_count": null,
   "metadata": {},
   "outputs": [],
   "source": [
    "async def get_data(raw_cts):\n",
    "    '''Sequentially getting data from each qualified contract'''\n",
    "    \n",
    "    d = []\n",
    "    \n",
    "    qunds = [ib.qualifyContractsAsync(*raw_cts)]\n",
    "    \n",
    "    \n",
    "    while qunds:\n",
    "        d1, p1 = await asyncio.wait(qunds, return_when = asyncio.FIRST_COMPLETED)\n",
    "        \n",
    "        for x in d1:\n",
    "            qct = x.result()\n",
    "            \n",
    "            for c in qct:\n",
    "                \n",
    "                tasks = [asyncio.create_task(mktdataCoro(c)), \n",
    "                         asyncio.create_task(ohlcCoro(c)),\n",
    "                         asyncio.ensure_future(ib.reqSecDefOptParamsAsync(underlyingSymbol=c.symbol,\n",
    "                                               futFopExchange=\"\",\n",
    "                                               underlyingSecType=c.secType,\n",
    "                                               underlyingConId=c.conId))]\n",
    "                while tasks:\n",
    "                    d2, p2 = await asyncio.wait(tasks, return_when = asyncio.FIRST_COMPLETED)\n",
    "                    \n",
    "                    for y in d2:\n",
    "                        data = y.result()\n",
    "                        \n",
    "                        print(f'{c.symbol} data collected!')\n",
    "                        d.append([c.symbol, type(data), data])\n",
    "                    \n",
    "                    tasks = p2\n",
    "        \n",
    "        qunds = p1\n",
    "        \n",
    "    return d"
   ]
  },
  {
   "cell_type": "code",
   "execution_count": null,
   "metadata": {},
   "outputs": [],
   "source": [
    "ib = IB()"
   ]
  },
  {
   "cell_type": "code",
   "execution_count": null,
   "metadata": {},
   "outputs": [],
   "source": [
    "%%time\n",
    "with ib.connect(HOST, PORT, CID) as ib:\n",
    "    data = ib.run(get_data(raw_cts))"
   ]
  },
  {
   "cell_type": "raw",
   "metadata": {},
   "source": [
    "%%time\n",
    "with ib.connect(HOST, PORT, CID) as ib:\n",
    "    qunds1 = ib.qualifyContracts(*raw_cts)"
   ]
  },
  {
   "cell_type": "code",
   "execution_count": null,
   "metadata": {},
   "outputs": [],
   "source": [
    "data[1]"
   ]
  },
  {
   "cell_type": "code",
   "execution_count": null,
   "metadata": {},
   "outputs": [],
   "source": []
  },
  {
   "cell_type": "code",
   "execution_count": null,
   "metadata": {},
   "outputs": [],
   "source": [
    "async def make_tasks(c):\n",
    "    tasks = [asyncio.create_task(ohlcCoro(c, DURATION=2), name=c.symbol+'_'+'ohlc'),\n",
    "             asyncio.create_task(mktdataCoro(c, FILL_DELAY=5), name=c.symbol+'_'+'mdata'),\n",
    "             asyncio.create_task(chainsCoro(c), name=c.symbol+'_'+'chains')]\n",
    "    \n",
    "    return asyncio.gather(tasks)"
   ]
  },
  {
   "cell_type": "code",
   "execution_count": null,
   "metadata": {},
   "outputs": [],
   "source": [
    "async def get_pll_data(raw_cts):\n",
    "    '''Getting data parallely'''\n",
    "    \n",
    "    d = dict()\n",
    "    \n",
    "    qunds = await ib.qualifyContractsAsync(*raw_cts)\n",
    "    \n",
    "    for c in qunds:\n",
    "        exec(c.symbol + \"=asyncio.gather(*[ohlcCoro(\"+c+\",2), mktdataCoro(\"+c+\",5), chainsCoro(\"+c+\")])\")\n",
    "        d[c.symbol] = asyncio.gather(*[ohlcCoro(c, 2), mktdataCoro(c, 5), chainsCoro(c)])\n",
    "        \n",
    "    \n",
    "    \n",
    "    \"\"\"tasks = [i for j in [[ohlcCoro(c, 2), mktdataCoro(c, 5), chainsCoro(c)] for c in qunds] for i in j]\n",
    "    \n",
    "    print(tasks)\n",
    "    \n",
    "    while tasks:\n",
    "        \n",
    "        done, pending = await asyncio.wait(tasks, return_when = asyncio.FIRST_COMPLETED)\n",
    "        \n",
    "        for task in done:\n",
    "            data = task.result()\n",
    "            print(f'Completed {data} \\n')            \n",
    "            d.append(data)\n",
    "            \n",
    "        tasks = pending\"\"\"\n",
    "    \n",
    "    return d"
   ]
  },
  {
   "cell_type": "code",
   "execution_count": null,
   "metadata": {},
   "outputs": [],
   "source": [
    "%%time\n",
    "with ib.connect(HOST, PORT, CID) as ib:\n",
    "    data = ib.run(get_pll_data(raw_cts))"
   ]
  },
  {
   "cell_type": "code",
   "execution_count": null,
   "metadata": {},
   "outputs": [],
   "source": [
    "data"
   ]
  },
  {
   "cell_type": "code",
   "execution_count": null,
   "metadata": {},
   "outputs": [],
   "source": [
    "list(data.values())[0].result()"
   ]
  },
  {
   "cell_type": "code",
   "execution_count": null,
   "metadata": {},
   "outputs": [],
   "source": [
    "import asyncio\n",
    "from pprint import pprint\n",
    "\n",
    "import random\n",
    "\n",
    "async def coro(tag):\n",
    "    print(\">\", tag)\n",
    "    await asyncio.sleep(random.uniform(1, 3))\n",
    "    print(\"<\", tag)\n",
    "    return tag\n",
    "\n",
    "\n",
    "loop = asyncio.get_event_loop()\n",
    "\n",
    "group1 = asyncio.gather(*[coro(\"group 1.{}\".format(i)) for i in range(1, 6)])\n",
    "group2 = asyncio.gather(*[coro(\"group 2.{}\".format(i)) for i in range(1, 4)])\n",
    "group3 = asyncio.gather(*[coro(\"group 3.{}\".format(i)) for i in range(1, 10)])\n",
    "\n",
    "all_groups = asyncio.gather(group1, group2, group3)\n",
    "\n",
    "results = loop.run_until_complete(all_groups)\n",
    "\n",
    "loop.close()\n",
    "\n",
    "pprint(results)"
   ]
  },
  {
   "cell_type": "code",
   "execution_count": null,
   "metadata": {},
   "outputs": [],
   "source": []
  }
 ],
 "metadata": {
  "kernelspec": {
   "display_name": "Python 3.8.1 32-bit",
   "language": "python",
   "name": "python38132bit2115ca79f6634adbad3a74c57c1d7c04"
  },
  "language_info": {
   "codemirror_mode": {
    "name": "ipython",
    "version": 3
   },
   "file_extension": ".py",
   "mimetype": "text/x-python",
   "name": "python",
   "nbconvert_exporter": "python",
   "pygments_lexer": "ipython3",
   "version": "3.8.1"
  }
 },
 "nbformat": 4,
 "nbformat_minor": 4
}
