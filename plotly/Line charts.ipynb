{
 "cells": [
  {
   "cell_type": "code",
   "execution_count": null,
   "metadata": {},
   "outputs": [],
   "source": [
    "from IPython.core.display import HTML\n",
    "css_file = 'style.css'\n",
    "HTML(open(css_file, 'r').read())"
   ]
  },
  {
   "cell_type": "markdown",
   "metadata": {
    "collapsed": true
   },
   "source": [
    "# Line charts"
   ]
  },
  {
   "cell_type": "markdown",
   "metadata": {},
   "source": [
    "## Setting up the plotly library"
   ]
  },
  {
   "cell_type": "code",
   "execution_count": null,
   "metadata": {},
   "outputs": [],
   "source": [
    "# Off-line mode\n",
    "from plotly.offline import iplot, init_notebook_mode\n",
    "init_notebook_mode()"
   ]
  },
  {
   "cell_type": "code",
   "execution_count": null,
   "metadata": {},
   "outputs": [],
   "source": [
    "# Importing high-level chart objects\n",
    "import plotly.graph_objs as go"
   ]
  },
  {
   "cell_type": "markdown",
   "metadata": {},
   "source": [
    "## Creating data point values"
   ]
  },
  {
   "cell_type": "code",
   "execution_count": null,
   "metadata": {},
   "outputs": [],
   "source": [
    "days = [\"Monday\", \"Tuesday\", \"Wednesday\", \"Thursday\", \"Friday\", \"Saturday\", \"Sunday\"]\n",
    "sales = [11, 14, 11, 14, 10, 11, 10]"
   ]
  },
  {
   "cell_type": "markdown",
   "metadata": {},
   "source": [
    "## Simple line"
   ]
  },
  {
   "cell_type": "code",
   "execution_count": null,
   "metadata": {},
   "outputs": [],
   "source": [
    "trace = go.Scatter(x = days,\n",
    "                   y = sales,\n",
    "                  mode = \"lines\")\n",
    "\n",
    "data = [trace]\n",
    "\n",
    "iplot({\"data\":data})"
   ]
  },
  {
   "cell_type": "markdown",
   "metadata": {},
   "source": [
    "## Filling"
   ]
  },
  {
   "cell_type": "code",
   "execution_count": null,
   "metadata": {},
   "outputs": [],
   "source": [
    "trace = go.Scatter(x = days,\n",
    "                   y = sales,\n",
    "                   fill = \"tozerox\",\n",
    "                   fillcolor = \"#1f77b4\",\n",
    "                  mode = \"lines\")\n",
    "\n",
    "data = [trace]\n",
    "\n",
    "iplot({\"data\":data})"
   ]
  },
  {
   "cell_type": "markdown",
   "metadata": {},
   "source": [
    "## Line types"
   ]
  },
  {
   "cell_type": "markdown",
   "metadata": {},
   "source": [
    "Options for line type are: `dash`, `dot`, and `dashdot`"
   ]
  },
  {
   "cell_type": "code",
   "execution_count": null,
   "metadata": {},
   "outputs": [],
   "source": [
    "# Line thickness and type\n",
    "trace = go.Scatter(x = days,\n",
    "                   y = sales,\n",
    "                  mode = \"lines\",\n",
    "                  line = dict(color = \"rgba(255, 70, 0, 0.9)\",\n",
    "                             width = 4,\n",
    "                             dash = \"dash\"))\n",
    "\n",
    "data = [trace]\n",
    "\n",
    "layout = {\"xaxis\":{\"zeroline\":False}}\n",
    "\n",
    "iplot({\"data\":data, \"layout\":layout})"
   ]
  },
  {
   "cell_type": "markdown",
   "metadata": {},
   "source": [
    "## Line with markers"
   ]
  },
  {
   "cell_type": "code",
   "execution_count": null,
   "metadata": {},
   "outputs": [],
   "source": [
    "trace = go.Scatter(x = days,\n",
    "                   y = sales,\n",
    "                  mode = \"lines+markers\",\n",
    "                  marker = dict(size = 16))\n",
    "\n",
    "data = [trace]\n",
    "\n",
    "layout = {\"title\":\"Sales for <i>last week</i>\", \"xaxis\":{\"zeroline\":False}}\n",
    "\n",
    "iplot({\"data\":data, \"layout\":layout})"
   ]
  },
  {
   "cell_type": "markdown",
   "metadata": {},
   "source": [
    "## Interpolation"
   ]
  },
  {
   "cell_type": "markdown",
   "metadata": {},
   "source": [
    "### Spline"
   ]
  },
  {
   "cell_type": "code",
   "execution_count": null,
   "metadata": {},
   "outputs": [],
   "source": [
    "trace = go.Scatter(x = days,\n",
    "                   y = sales,\n",
    "                  mode = \"lines+markers\",\n",
    "                  marker = dict(size = 16),\n",
    "                  line = dict(shape = \"spline\"))\n",
    "\n",
    "data = [trace]\n",
    "\n",
    "layout = {\"title\":\"Sales for <i>last week</i>\", \"xaxis\":{\"zeroline\":False}}\n",
    "\n",
    "iplot({\"data\":data, \"layout\":layout})"
   ]
  },
  {
   "cell_type": "markdown",
   "metadata": {},
   "source": [
    "### Vertical horizontal"
   ]
  },
  {
   "cell_type": "code",
   "execution_count": null,
   "metadata": {},
   "outputs": [],
   "source": [
    "trace = go.Scatter(x = days,\n",
    "                   y = sales,\n",
    "                  mode = \"lines+markers\",\n",
    "                  marker = dict(size = 16),\n",
    "                  line = dict(shape = \"vh\"))\n",
    "\n",
    "data = [trace]\n",
    "\n",
    "layout = {\"title\":\"Sales for <i>last week</i>\", \"xaxis\":{\"zeroline\":False}}\n",
    "\n",
    "iplot({\"data\":data, \"layout\":layout})"
   ]
  },
  {
   "cell_type": "markdown",
   "metadata": {},
   "source": [
    "### Horizontal vertical"
   ]
  },
  {
   "cell_type": "code",
   "execution_count": null,
   "metadata": {},
   "outputs": [],
   "source": [
    "trace = go.Scatter(x = days,\n",
    "                   y = sales,\n",
    "                  mode = \"lines+markers\",\n",
    "                  marker = dict(size = 16),\n",
    "                  line = dict(shape = \"hv\"))\n",
    "\n",
    "data = [trace]\n",
    "\n",
    "layout = {\"title\":\"Sales for <i>last week</i>\", \"xaxis\":{\"zeroline\":False}}\n",
    "\n",
    "iplot({\"data\":data, \"layout\":layout})"
   ]
  },
  {
   "cell_type": "markdown",
   "metadata": {},
   "source": [
    "### Fillings gaps"
   ]
  },
  {
   "cell_type": "code",
   "execution_count": null,
   "metadata": {},
   "outputs": [],
   "source": [
    "sales[3] = None\n",
    "\n",
    "trace = go.Scatter(x = days,\n",
    "                   y = sales,\n",
    "                  mode = \"lines+markers\",\n",
    "                  marker = dict(size = 16))\n",
    "\n",
    "data = [trace]\n",
    "\n",
    "layout = {\"title\":\"Sales for <i>last week</i>\", \"xaxis\":{\"zeroline\":False}}\n",
    "\n",
    "iplot({\"data\":data, \"layout\":layout})"
   ]
  },
  {
   "cell_type": "code",
   "execution_count": null,
   "metadata": {},
   "outputs": [],
   "source": [
    "trace = go.Scatter(x = days,\n",
    "                   y = sales,\n",
    "                  mode = \"lines+markers\",\n",
    "                  marker = dict(size = 16),\n",
    "                  connectgaps = True)\n",
    "\n",
    "data = [trace]\n",
    "\n",
    "layout = {\"title\":\"Sales for <i>last week</i>\", \"xaxis\":{\"zeroline\":False}}\n",
    "\n",
    "iplot({\"data\":data, \"layout\":layout})"
   ]
  },
  {
   "cell_type": "code",
   "execution_count": null,
   "metadata": {},
   "outputs": [],
   "source": []
  }
 ],
 "metadata": {
  "kernelspec": {
   "display_name": "Python 3.8.1 32-bit ('ib': pipenv)",
   "language": "python",
   "name": "python38132bitibpipenv4ca07cbcce7e42a8b80be78509a77df8"
  },
  "language_info": {
   "codemirror_mode": {
    "name": "ipython",
    "version": 3
   },
   "file_extension": ".py",
   "mimetype": "text/x-python",
   "name": "python",
   "nbconvert_exporter": "python",
   "pygments_lexer": "ipython3",
   "version": "3.8.1"
  }
 },
 "nbformat": 4,
 "nbformat_minor": 1
}
